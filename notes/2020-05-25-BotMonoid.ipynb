{
 "cells": [
  {
   "cell_type": "markdown",
   "metadata": {},
   "source": [
    "# Monoid in an automatic mode\n",
    "\n",
    "We return to the old problem of proving $e_l = e_r$, but in a general autonomous/interactive framework."
   ]
  },
  {
   "cell_type": "code",
   "execution_count": 1,
   "metadata": {},
   "outputs": [
    {
     "data": {
      "text/plain": [
       "\u001b[32mimport \u001b[39m\u001b[36m$cp.$                                              \n",
       "\u001b[39m\n",
       "\u001b[32mimport \u001b[39m\u001b[36mprovingground._ , interface._, HoTT._, learning._ \n",
       "\u001b[39m"
      ]
     },
     "execution_count": 1,
     "metadata": {},
     "output_type": "execute_result"
    }
   ],
   "source": [
    "import $cp.bin.`provingground-core-jvm-8e93db2c2a.fat.jar`\n",
    "import provingground._ , interface._, HoTT._, learning._ \n",
    "repl.pprinter() = {\n",
    "  val p = repl.pprinter()\n",
    "  p.copy(\n",
    "    additionalHandlers = p.additionalHandlers.orElse {\n",
    "      translation.FansiShow.fansiHandler\n",
    "    }\n",
    "  )\n",
    "}\n",
    "\n",
    "\n",
    "Utils.logger = {\n",
    "    import scribe._, writer._, Utils._\n",
    "    logger.withHandler(writer = FileWriter().path(file.LogPath.simple(\"monoid.log\"))).replace()\n",
    "}"
   ]
  },
  {
   "cell_type": "code",
   "execution_count": 2,
   "metadata": {},
   "outputs": [
    {
     "data": {
      "text/plain": [
       "\u001b[32mimport \u001b[39m\u001b[36mlibrary._, MonoidSimple._\n",
       "\u001b[39m\n",
       "\u001b[36mtg\u001b[39m: \u001b[32mTermGenParams\u001b[39m = \u001b[33mTermGenParams\u001b[39m(\n",
       "  \u001b[32m0.1\u001b[39m,\n",
       "  \u001b[32m0.1\u001b[39m,\n",
       "  \u001b[32m0.0\u001b[39m,\n",
       "  \u001b[32m0.0\u001b[39m,\n",
       "  \u001b[32m0.0\u001b[39m,\n",
       "  \u001b[32m0.0\u001b[39m,\n",
       "  \u001b[32m0.0\u001b[39m,\n",
       "  \u001b[32m0.0\u001b[39m,\n",
       "  \u001b[32m0.0\u001b[39m,\n",
       "  \u001b[32m0.0\u001b[39m,\n",
       "  \u001b[32m0.0\u001b[39m,\n",
       "  \u001b[32m0.0\u001b[39m,\n",
       "  \u001b[32m0.0\u001b[39m,\n",
       "  \u001b[32m0.3\u001b[39m,\n",
       "  \u001b[32m0.7\u001b[39m,\n",
       "  \u001b[32m0.5\u001b[39m,\n",
       "  \u001b[32m0.0\u001b[39m,\n",
       "  \u001b[32m0.0\u001b[39m,\n",
       "  \u001b[32m0.0\u001b[39m,\n",
       "  \u001b[33mOrElse\u001b[39m(\n",
       "    \u001b[33mOrElse\u001b[39m(\u001b[33mOrElse\u001b[39m(\u001b[33mOrElse\u001b[39m(<function1>, <function1>), <function1>), <function1>),\n",
       "    <function1>\n",
       "  )\n",
       ")\n",
       "\u001b[36mts\u001b[39m: \u001b[32mTermState\u001b[39m = \u001b[33mTermState\u001b[39m(\n",
       "  \u001b[33mFiniteDistribution\u001b[39m(\n",
       "    \u001b[33mVector\u001b[39m(\n",
       "      \u001b[33mWeighted\u001b[39m(\u001b[32me_l\u001b[39m, \u001b[32m0.047619047619047616\u001b[39m),\n",
       "      \u001b[33mWeighted\u001b[39m(\u001b[32me_r\u001b[39m, \u001b[32m0.047619047619047616\u001b[39m),\n",
       "      \u001b[33mWeighted\u001b[39m(\u001b[32mmul\u001b[39m, \u001b[32m0.047619047619047616\u001b[39m),\n",
       "      \u001b[33mWeighted\u001b[39m(\u001b[32meqM\u001b[39m, \u001b[32m0.047619047619047616\u001b[39m),\n",
       "      \u001b[33mWeighted\u001b[39m(\u001b[32maxiom_{eqM(a)(a)}\u001b[39m, \u001b[32m0.047619047619047616\u001b[39m),\n",
       "      \u001b[33mWeighted\u001b[39m(\u001b[32maxiom_{(eqM(a)(b) \\to eqM(b)(a))}\u001b[39m, \u001b[32m0.047619047619047616\u001b[39m),\n",
       "      \u001b[33mWeighted\u001b[39m(\n",
       "        \u001b[32maxiom_{(eqM(a)(b) \\to (eqM(b)(c) \\to eqM(a)(c)))}\u001b[39m,\n",
       "        \u001b[32m0.047619047619047616\u001b[39m\n",
       "      ),\n",
       "      \u001b[33mWeighted\u001b[39m(\u001b[32maxiom_{eqM(mul(e_l)(a))(a)}\u001b[39m, \u001b[32m0.047619047619047616\u001b[39m),\n",
       "      \u001b[33mWeighted\u001b[39m(\u001b[32maxiom_{eqM(mul(a)(e_r))(a)}\u001b[39m, \u001b[32m0.047619047619047616\u001b[39m),\n",
       "      \u001b[33mWeighted\u001b[39m(\u001b[32meqM\u001b[39m, \u001b[32m0.2857142857142857\u001b[39m),\n",
       "      \u001b[33mWeighted\u001b[39m(\u001b[32mmul\u001b[39m, \u001b[32m0.2857142857142857\u001b[39m)\n",
       "    )\n",
       "  ),\n",
       "  \u001b[33mFiniteDistribution\u001b[39m(\n",
       "    \u001b[33mVector\u001b[39m(\n",
       "      \u001b[33mWeighted\u001b[39m(\u001b[32mM\u001b[39m, \u001b[32m0.047619047619047616\u001b[39m),\n",
       "      \u001b[33mWeighted\u001b[39m(\u001b[32mM\u001b[39m, \u001b[32m0.047619047619047616\u001b[39m),\n",
       "      \u001b[33mWeighted\u001b[39m(\u001b[32m(M → (M → M))\u001b[39m, \u001b[32m0.047619047619047616\u001b[39m),\n",
       "      \u001b[33mWeighted\u001b[39m(\u001b[32m(M → (M → 𝒰 ))\u001b[39m, \u001b[32m0.047619047619047616\u001b[39m),\n",
       "      \u001b[33mWeighted\u001b[39m(\u001b[32m∏(a : M){ eqM(a)(a) }\u001b[39m, \u001b[32m0.047619047619047616\u001b[39m),\n",
       "      \u001b[33mWeighted\u001b[39m(\n",
       "        \u001b[32m∏(a : M){ ∏(b : M){ (eqM(a)(b) → eqM(b)(a)) } }\u001b[39m,\n",
       "        \u001b[32m0.047619047619047616\u001b[39m\n",
       "      ),\n",
       "      \u001b[33mWeighted\u001b[39m(\n",
       "        \u001b[32m∏(a : M){ ∏(b : M){ ∏(c : M){ (eqM(a)(b) → (eqM(b)(c) → eqM(a)(c))) } } }\u001b[39m,\n",
       "        \u001b[32m0.047619047619047616\u001b[39m\n",
       "      ),\n",
       "      \u001b[33mWeighted\u001b[39m(\u001b[32m∏(a : M){ eqM(mul(e_l)(a))(a) }\u001b[39m, \u001b[32m0.047619047619047616\u001b[39m),\n",
       "      \u001b[33mWeighted\u001b[39m(\u001b[32m∏(a : M){ eqM(mul(a)(e_r))(a) }\u001b[39m, \u001b[32m0.047619047619047616\u001b[39m),\n",
       "      \u001b[33mWeighted\u001b[39m(\u001b[32m(M → (M → 𝒰 ))\u001b[39m, \u001b[32m0.2857142857142857\u001b[39m),\n",
       "      \u001b[33mWeighted\u001b[39m(\u001b[32m(M → (M → M))\u001b[39m, \u001b[32m0.2857142857142857\u001b[39m)\n",
       "...\n",
       "\u001b[36mlp\u001b[39m: \u001b[32mLocalProver\u001b[39m = \u001b[33mLocalProver\u001b[39m(\n",
       "  \u001b[33mTermState\u001b[39m(\n",
       "    \u001b[33mFiniteDistribution\u001b[39m(\n",
       "      \u001b[33mVector\u001b[39m(\n",
       "        \u001b[33mWeighted\u001b[39m(\u001b[32me_l\u001b[39m, \u001b[32m0.047619047619047616\u001b[39m),\n",
       "        \u001b[33mWeighted\u001b[39m(\u001b[32me_r\u001b[39m, \u001b[32m0.047619047619047616\u001b[39m),\n",
       "        \u001b[33mWeighted\u001b[39m(\u001b[32mmul\u001b[39m, \u001b[32m0.047619047619047616\u001b[39m),\n",
       "        \u001b[33mWeighted\u001b[39m(\u001b[32meqM\u001b[39m, \u001b[32m0.047619047619047616\u001b[39m),\n",
       "        \u001b[33mWeighted\u001b[39m(\u001b[32maxiom_{eqM(a)(a)}\u001b[39m, \u001b[32m0.047619047619047616\u001b[39m),\n",
       "        \u001b[33mWeighted\u001b[39m(\u001b[32maxiom_{(eqM(a)(b) \\to eqM(b)(a))}\u001b[39m, \u001b[32m0.047619047619047616\u001b[39m),\n",
       "        \u001b[33mWeighted\u001b[39m(\n",
       "          \u001b[32maxiom_{(eqM(a)(b) \\to (eqM(b)(c) \\to eqM(a)(c)))}\u001b[39m,\n",
       "          \u001b[32m0.047619047619047616\u001b[39m\n",
       "        ),\n",
       "        \u001b[33mWeighted\u001b[39m(\u001b[32maxiom_{eqM(mul(e_l)(a))(a)}\u001b[39m, \u001b[32m0.047619047619047616\u001b[39m),\n",
       "        \u001b[33mWeighted\u001b[39m(\u001b[32maxiom_{eqM(mul(a)(e_r))(a)}\u001b[39m, \u001b[32m0.047619047619047616\u001b[39m),\n",
       "        \u001b[33mWeighted\u001b[39m(\u001b[32meqM\u001b[39m, \u001b[32m0.2857142857142857\u001b[39m),\n",
       "        \u001b[33mWeighted\u001b[39m(\u001b[32mmul\u001b[39m, \u001b[32m0.2857142857142857\u001b[39m)\n",
       "      )\n",
       "    ),\n",
       "    \u001b[33mFiniteDistribution\u001b[39m(\n",
       "      \u001b[33mVector\u001b[39m(\n",
       "        \u001b[33mWeighted\u001b[39m(\u001b[32mM\u001b[39m, \u001b[32m0.047619047619047616\u001b[39m),\n",
       "        \u001b[33mWeighted\u001b[39m(\u001b[32mM\u001b[39m, \u001b[32m0.047619047619047616\u001b[39m),\n",
       "        \u001b[33mWeighted\u001b[39m(\u001b[32m(M → (M → M))\u001b[39m, \u001b[32m0.047619047619047616\u001b[39m),\n",
       "        \u001b[33mWeighted\u001b[39m(\u001b[32m(M → (M → 𝒰 ))\u001b[39m, \u001b[32m0.047619047619047616\u001b[39m),\n",
       "        \u001b[33mWeighted\u001b[39m(\u001b[32m∏(a : M){ eqM(a)(a) }\u001b[39m, \u001b[32m0.047619047619047616\u001b[39m),\n",
       "        \u001b[33mWeighted\u001b[39m(\n",
       "          \u001b[32m∏(a : M){ ∏(b : M){ (eqM(a)(b) → eqM(b)(a)) } }\u001b[39m,\n",
       "          \u001b[32m0.047619047619047616\u001b[39m\n",
       "        ),\n",
       "        \u001b[33mWeighted\u001b[39m(\n",
       "          \u001b[32m∏(a : M){ ∏(b : M){ ∏(c : M){ (eqM(a)(b) → (eqM(b)(c) → eqM(a)(c))) } } }\u001b[39m,\n",
       "          \u001b[32m0.047619047619047616\u001b[39m\n",
       "        ),\n",
       "        \u001b[33mWeighted\u001b[39m(\u001b[32m∏(a : M){ eqM(mul(e_l)(a))(a) }\u001b[39m, \u001b[32m0.047619047619047616\u001b[39m),\n",
       "        \u001b[33mWeighted\u001b[39m(\u001b[32m∏(a : M){ eqM(mul(a)(e_r))(a) }\u001b[39m, \u001b[32m0.047619047619047616\u001b[39m),\n",
       "        \u001b[33mWeighted\u001b[39m(\u001b[32m(M → (M → 𝒰 ))\u001b[39m, \u001b[32m0.2857142857142857\u001b[39m),\n",
       "..."
      ]
     },
     "execution_count": 2,
     "metadata": {},
     "output_type": "execute_result"
    }
   ],
   "source": [
    "import library._, MonoidSimple._\n",
    "val tg = TermGenParams.zero.copy(appW = 0.1, unAppW = 0.1)\n",
    "val ts = TermState(dist1, dist1.map(_.typ), goals = FiniteDistribution.unif(eqM(l)(r)))\n",
    "val lp = LocalProver(ts, tg)"
   ]
  },
  {
   "cell_type": "markdown",
   "metadata": {},
   "source": [
    "We have set up the ingredients for the statement and proof. We next create a _session_ with the set of _bots_ we actually need. The crucial choice here is to limit the generation to applications and unified applications. The other restrictions should not matter much."
   ]
  },
  {
   "cell_type": "code",
   "execution_count": 3,
   "metadata": {},
   "outputs": [
    {
     "data": {
      "text/plain": [
       "\u001b[32mimport \u001b[39m\u001b[36mHoTTBot._\n",
       "\n",
       "\u001b[39m\n",
       "\u001b[36mbs\u001b[39m: \u001b[32mVector\u001b[39m[\u001b[32mTypedPostResponse\u001b[39m[\u001b[32m_1\u001b[39m, \u001b[32mHoTTPostWeb\u001b[39m, (\u001b[32mInt\u001b[39m, \u001b[32mInt\u001b[39m)] forSome { type \u001b[32m_1\u001b[39m >: \u001b[32mHoTTMessages\u001b[39m.\u001b[32mFinalState\u001b[39m with (\u001b[32mTermState\u001b[39m, \u001b[32mSet\u001b[39m[\u001b[32mEquationNode\u001b[39m]) with \u001b[32mLocalTangentProver\u001b[39m with \u001b[32mHoTTMessages\u001b[39m.\u001b[32mUseLemma\u001b[39m with \u001b[32mHoTTMessages\u001b[39m.\u001b[32mLemmas\u001b[39m with \u001b[32mLocalProver\u001b[39m <: \u001b[32mProduct\u001b[39m with \u001b[32mSerializable\u001b[39m with \u001b[32mObject\u001b[39m }] = \u001b[33mVector\u001b[39m(\n",
       "  \u001b[33mMicroBot\u001b[39m(\n",
       "    provingground.learning.HoTTBot$$$Lambda$2691/975941609@6b0effc0,\n",
       "    provingground.learning.TypedPostResponse$MicroBot$$$Lambda$2689/1407547031@72eda1a6\n",
       "  ),\n",
       "  \u001b[33mMiniBot\u001b[39m(\n",
       "    provingground.learning.HoTTBot$$$Lambda$2692/1366091899@43316df9,\n",
       "    provingground.learning.MiniBot$$$Lambda$2613/558251617@37569396\n",
       "  ),\n",
       "  \u001b[33mMicroBot\u001b[39m(\n",
       "    provingground.learning.HoTTBot$$$Lambda$2693/319436178@2733e6a6,\n",
       "    provingground.learning.TypedPostResponse$MicroBot$$$Lambda$2689/1407547031@72eda1a6\n",
       "  ),\n",
       "  \u001b[33mMicroBot\u001b[39m(\n",
       "    provingground.learning.HoTTBot$$$Lambda$2702/1189645419@713eacd0,\n",
       "    provingground.learning.TypedPostResponse$MicroBot$$$Lambda$2689/1407547031@72eda1a6\n",
       "  ),\n",
       "  \u001b[33mMicroBot\u001b[39m(\n",
       "    provingground.learning.TypedPostResponse$MicroBot$$$Lambda$2688/157269246@39a849ab,\n",
       "    provingground.learning.TypedPostResponse$MicroBot$$$Lambda$2689/1407547031@72eda1a6\n",
       "  ),\n",
       "  \u001b[33mCallback\u001b[39m(\n",
       "    provingground.learning.TypedPostResponse$Callback$$$Lambda$2705/1496786662@3ae1a72b,\n",
       "    provingground.learning.TypedPostResponse$Callback$$$Lambda$2706/347237838@25f6007\n",
       "  )\n",
       ")\n",
       "\u001b[36msess\u001b[39m: \u001b[32mHoTTWebSession\u001b[39m = provingground.learning.HoTTWebSession@4b33bd05"
      ]
     },
     "execution_count": 3,
     "metadata": {},
     "output_type": "execute_result"
    }
   ],
   "source": [
    "import HoTTBot._\n",
    "\n",
    "val bs = Vector(lpLemmas, scaleSplitLemmas(1), lemmaTangents(), lptToTermResult, termResultToFinalState, reportSuccesses)\n",
    "val sess = new HoTTWebSession(bots = bs)"
   ]
  },
  {
   "cell_type": "markdown",
   "metadata": {},
   "source": [
    "Finally, we post to our session to get stuff started."
   ]
  },
  {
   "cell_type": "code",
   "execution_count": 4,
   "metadata": {},
   "outputs": [
    {
     "data": {
      "text/html": [
       "<div class=\"jp-RenderedText\">\n",
       "<pre><code><span style=\"color: rgb(0, 187, 187)\"><span class=\"ansi-cyan-fg\">res3</span></span>: <span style=\"color: rgb(0, 187, 0)\"><span class=\"ansi-green-fg\">concurrent</span></span>.<span style=\"color: rgb(0, 187, 0)\"><span class=\"ansi-green-fg\">Future</span></span>[<span style=\"color: rgb(0, 187, 0)\"><span class=\"ansi-green-fg\">PostData</span></span>[<span style=\"color: rgb(0, 187, 0)\"><span class=\"ansi-green-fg\">_</span></span>, <span style=\"color: rgb(0, 187, 0)\"><span class=\"ansi-green-fg\">HoTTPostWeb</span></span>, (<span style=\"color: rgb(0, 187, 0)\"><span class=\"ansi-green-fg\">Int</span></span>, <span style=\"color: rgb(0, 187, 0)\"><span class=\"ansi-green-fg\">Int</span></span>)]] = <span style=\"color: rgb(0, 187, 0)\"><span class=\"ansi-green-fg\"><style>@keyframes fadein { from { opacity: 0; } to { opacity: 1; } }</style><span style=\"animation: fadein 2s;\"><span style=\"color: yellow\"><span class=\"ansi-yellow-fg\">Success</span></span>(\n",
       "  <span style=\"color: yellow\"><span class=\"ansi-yellow-fg\">PostData</span></span>(\n",
       "    <span style=\"color: yellow\"><span class=\"ansi-yellow-fg\">LocalProver</span></span>(\n",
       "      <span style=\"color: yellow\"><span class=\"ansi-yellow-fg\">TermState</span></span>(\n",
       "        <span style=\"color: yellow\"><span class=\"ansi-yellow-fg\">FiniteDistribution</span></span>(\n",
       "          <span style=\"color: yellow\"><span class=\"ansi-yellow-fg\">Vector</span></span>(\n",
       "            <span style=\"color: yellow\"><span class=\"ansi-yellow-fg\">Weighted</span></span>(<span style=\"color: rgb(0, 187, 0)\"><span class=\"ansi-green-fg\">e_l</span></span>, <span style=\"color: rgb(0, 187, 0)\"><span class=\"ansi-green-fg\">0.047619047619047616</span></span>),\n",
       "            <span style=\"color: yellow\"><span class=\"ansi-yellow-fg\">Weighted</span></span>(<span style=\"color: rgb(0, 187, 0)\"><span class=\"ansi-green-fg\">e_r</span></span>, <span style=\"color: rgb(0, 187, 0)\"><span class=\"ansi-green-fg\">0.047619047619047616</span></span>),\n",
       "            <span style=\"color: yellow\"><span class=\"ansi-yellow-fg\">Weighted</span></span>(<span style=\"color: rgb(0, 187, 0)\"><span class=\"ansi-green-fg\">mul</span></span>, <span style=\"color: rgb(0, 187, 0)\"><span class=\"ansi-green-fg\">0.047619047619047616</span></span>),\n",
       "            <span style=\"color: yellow\"><span class=\"ansi-yellow-fg\">Weighted</span></span>(<span style=\"color: rgb(0, 187, 0)\"><span class=\"ansi-green-fg\">eqM</span></span>, <span style=\"color: rgb(0, 187, 0)\"><span class=\"ansi-green-fg\">0.047619047619047616</span></span>),\n",
       "            <span style=\"color: yellow\"><span class=\"ansi-yellow-fg\">Weighted</span></span>(<span style=\"color: rgb(0, 187, 0)\"><span class=\"ansi-green-fg\">axiom_{eqM(a)(a)}</span></span>, <span style=\"color: rgb(0, 187, 0)\"><span class=\"ansi-green-fg\">0.047619047619047616</span></span>),\n",
       "            <span style=\"color: yellow\"><span class=\"ansi-yellow-fg\">Weighted</span></span>(<span style=\"color: rgb(0, 187, 0)\"><span class=\"ansi-green-fg\">axiom_{(eqM(a)(b) \\to eqM(b)(a))}</span></span>, <span style=\"color: rgb(0, 187, 0)\"><span class=\"ansi-green-fg\">0.047619047619047616</span></span>),\n",
       "            <span style=\"color: yellow\"><span class=\"ansi-yellow-fg\">Weighted</span></span>(\n",
       "              <span style=\"color: rgb(0, 187, 0)\"><span class=\"ansi-green-fg\">axiom_{(eqM(a)(b) \\to (eqM(b)(c) \\to eqM(a)(c)))}</span></span>,\n",
       "              <span style=\"color: rgb(0, 187, 0)\"><span class=\"ansi-green-fg\">0.047619047619047616</span></span>\n",
       "            ),\n",
       "            <span style=\"color: yellow\"><span class=\"ansi-yellow-fg\">Weighted</span></span>(<span style=\"color: rgb(0, 187, 0)\"><span class=\"ansi-green-fg\">axiom_{eqM(mul(e_l)(a))(a)}</span></span>, <span style=\"color: rgb(0, 187, 0)\"><span class=\"ansi-green-fg\">0.047619047619047616</span></span>),\n",
       "            <span style=\"color: yellow\"><span class=\"ansi-yellow-fg\">Weighted</span></span>(<span style=\"color: rgb(0, 187, 0)\"><span class=\"ansi-green-fg\">axiom_{eqM(mul(a)(e_r))(a)}</span></span>, <span style=\"color: rgb(0, 187, 0)\"><span class=\"ansi-green-fg\">0.047619047619047616</span></span>),\n",
       "            <span style=\"color: yellow\"><span class=\"ansi-yellow-fg\">Weighted</span></span>(<span style=\"color: rgb(0, 187, 0)\"><span class=\"ansi-green-fg\">eqM</span></span>, <span style=\"color: rgb(0, 187, 0)\"><span class=\"ansi-green-fg\">0.2857142857142857</span></span>),\n",
       "            <span style=\"color: yellow\"><span class=\"ansi-yellow-fg\">Weighted</span></span>(<span style=\"color: rgb(0, 187, 0)\"><span class=\"ansi-green-fg\">mul</span></span>, <span style=\"color: rgb(0, 187, 0)\"><span class=\"ansi-green-fg\">0.2857142857142857</span></span>)\n",
       "          )\n",
       "        ),\n",
       "        <span style=\"color: yellow\"><span class=\"ansi-yellow-fg\">FiniteDistribution</span></span>(\n",
       "          <span style=\"color: yellow\"><span class=\"ansi-yellow-fg\">Vector</span></span>(\n",
       "            <span style=\"color: yellow\"><span class=\"ansi-yellow-fg\">Weighted</span></span>(<span style=\"color: rgb(0, 187, 0)\"><span class=\"ansi-green-fg\">M</span></span>, <span style=\"color: rgb(0, 187, 0)\"><span class=\"ansi-green-fg\">0.047619047619047616</span></span>),\n",
       "            <span style=\"color: yellow\"><span class=\"ansi-yellow-fg\">Weighted</span></span>(<span style=\"color: rgb(0, 187, 0)\"><span class=\"ansi-green-fg\">M</span></span>, <span style=\"color: rgb(0, 187, 0)\"><span class=\"ansi-green-fg\">0.047619047619047616</span></span>),\n",
       "            <span style=\"color: yellow\"><span class=\"ansi-yellow-fg\">Weighted</span></span>(<span style=\"color: rgb(0, 187, 0)\"><span class=\"ansi-green-fg\">(M → (M → M))</span></span>, <span style=\"color: rgb(0, 187, 0)\"><span class=\"ansi-green-fg\">0.047619047619047616</span></span>),\n",
       "            <span style=\"color: yellow\"><span class=\"ansi-yellow-fg\">Weighted</span></span>(<span style=\"color: rgb(0, 187, 0)\"><span class=\"ansi-green-fg\">(M → (M → 𝒰 ))</span></span>, <span style=\"color: rgb(0, 187, 0)\"><span class=\"ansi-green-fg\">0.047619047619047616</span></span>),\n",
       "            <span style=\"color: yellow\"><span class=\"ansi-yellow-fg\">Weighted</span></span>(<span style=\"color: rgb(0, 187, 0)\"><span class=\"ansi-green-fg\">∏(a : M){ eqM(a)(a) }</span></span>, <span style=\"color: rgb(0, 187, 0)\"><span class=\"ansi-green-fg\">0.047619047619047616</span></span>),\n",
       "            <span style=\"color: yellow\"><span class=\"ansi-yellow-fg\">Weighted</span></span>(\n",
       "              <span style=\"color: rgb(0, 187, 0)\"><span class=\"ansi-green-fg\">∏(a : M){ ∏(b : M){ (eqM(a)(b) → eqM(b)(a)) } }</span></span>,\n",
       "              <span style=\"color: rgb(0, 187, 0)\"><span class=\"ansi-green-fg\">0.047619047619047616</span></span>\n",
       "            ),\n",
       "            <span style=\"color: yellow\"><span class=\"ansi-yellow-fg\">Weighted</span></span>(\n",
       "              <span style=\"color: rgb(0, 187, 0)\"><span class=\"ansi-green-fg\">∏(a : M){ ∏(b : M){ ∏(c : M){ (eqM(a)(b) → (eqM(b)(c) → eqM(a)(c))) } } }</span></span>,\n",
       "              <span style=\"color: rgb(0, 187, 0)\"><span class=\"ansi-green-fg\">0.047619047619047616</span></span>\n",
       "            ),\n",
       "            <span style=\"color: yellow\"><span class=\"ansi-yellow-fg\">Weighted</span></span>(<span style=\"color: rgb(0, 187, 0)\"><span class=\"ansi-green-fg\">∏(a : M){ eqM(mul(e_l)(a))(a) }</span></span>, <span style=\"color: rgb(0, 187, 0)\"><span class=\"ansi-green-fg\">0.047619047619047616</span></span>),\n",
       "...</span></span></span></code></pre>\n",
       "</div>"
      ],
      "text/plain": [
       "\u001b[36mres3\u001b[39m: \u001b[32mconcurrent\u001b[39m.\u001b[32mFuture\u001b[39m[\u001b[32mPostData\u001b[39m[\u001b[32m_\u001b[39m, \u001b[32mHoTTPostWeb\u001b[39m, (\u001b[32mInt\u001b[39m, \u001b[32mInt\u001b[39m)]] = \u001b[32m\u001b[33mSuccess\u001b[39m(\n",
       "  \u001b[33mPostData\u001b[39m(\n",
       "    \u001b[33mLocalProver\u001b[39m(\n",
       "      \u001b[33mTermState\u001b[39m(\n",
       "        \u001b[33mFiniteDistribution\u001b[39m(\n",
       "          \u001b[33mVector\u001b[39m(\n",
       "            \u001b[33mWeighted\u001b[39m(\u001b[32me_l\u001b[39m, \u001b[32m0.047619047619047616\u001b[39m),\n",
       "            \u001b[33mWeighted\u001b[39m(\u001b[32me_r\u001b[39m, \u001b[32m0.047619047619047616\u001b[39m),\n",
       "            \u001b[33mWeighted\u001b[39m(\u001b[32mmul\u001b[39m, \u001b[32m0.047619047619047616\u001b[39m),\n",
       "            \u001b[33mWeighted\u001b[39m(\u001b[32meqM\u001b[39m, \u001b[32m0.047619047619047616\u001b[39m),\n",
       "            \u001b[33mWeighted\u001b[39m(\u001b[32maxiom_{eqM(a)(a)}\u001b[39m, \u001b[32m0.047619047619047616\u001b[39m),\n",
       "            \u001b[33mWeighted\u001b[39m(\u001b[32maxiom_{(eqM(a)(b) \\to eqM(b)(a))}\u001b[39m, \u001b[32m0.047619047619047616\u001b[39m),\n",
       "            \u001b[33mWeighted\u001b[39m(\n",
       "              \u001b[32maxiom_{(eqM(a)(b) \\to (eqM(b)(c) \\to eqM(a)(c)))}\u001b[39m,\n",
       "              \u001b[32m0.047619047619047616\u001b[39m\n",
       "            ),\n",
       "            \u001b[33mWeighted\u001b[39m(\u001b[32maxiom_{eqM(mul(e_l)(a))(a)}\u001b[39m, \u001b[32m0.047619047619047616\u001b[39m),\n",
       "            \u001b[33mWeighted\u001b[39m(\u001b[32maxiom_{eqM(mul(a)(e_r))(a)}\u001b[39m, \u001b[32m0.047619047619047616\u001b[39m),\n",
       "            \u001b[33mWeighted\u001b[39m(\u001b[32meqM\u001b[39m, \u001b[32m0.2857142857142857\u001b[39m),\n",
       "            \u001b[33mWeighted\u001b[39m(\u001b[32mmul\u001b[39m, \u001b[32m0.2857142857142857\u001b[39m)\n",
       "          )\n",
       "        ),\n",
       "        \u001b[33mFiniteDistribution\u001b[39m(\n",
       "          \u001b[33mVector\u001b[39m(\n",
       "            \u001b[33mWeighted\u001b[39m(\u001b[32mM\u001b[39m, \u001b[32m0.047619047619047616\u001b[39m),\n",
       "            \u001b[33mWeighted\u001b[39m(\u001b[32mM\u001b[39m, \u001b[32m0.047619047619047616\u001b[39m),\n",
       "            \u001b[33mWeighted\u001b[39m(\u001b[32m(M → (M → M))\u001b[39m, \u001b[32m0.047619047619047616\u001b[39m),\n",
       "            \u001b[33mWeighted\u001b[39m(\u001b[32m(M → (M → 𝒰 ))\u001b[39m, \u001b[32m0.047619047619047616\u001b[39m),\n",
       "            \u001b[33mWeighted\u001b[39m(\u001b[32m∏(a : M){ eqM(a)(a) }\u001b[39m, \u001b[32m0.047619047619047616\u001b[39m),\n",
       "            \u001b[33mWeighted\u001b[39m(\n",
       "              \u001b[32m∏(a : M){ ∏(b : M){ (eqM(a)(b) → eqM(b)(a)) } }\u001b[39m,\n",
       "              \u001b[32m0.047619047619047616\u001b[39m\n",
       "            ),\n",
       "            \u001b[33mWeighted\u001b[39m(\n",
       "              \u001b[32m∏(a : M){ ∏(b : M){ ∏(c : M){ (eqM(a)(b) → (eqM(b)(c) → eqM(a)(c))) } } }\u001b[39m,\n",
       "              \u001b[32m0.047619047619047616\u001b[39m\n",
       "            ),\n",
       "            \u001b[33mWeighted\u001b[39m(\u001b[32m∏(a : M){ eqM(mul(e_l)(a))(a) }\u001b[39m, \u001b[32m0.047619047619047616\u001b[39m),\n",
       "...\u001b[39m"
      ]
     },
     "metadata": {},
     "output_type": "display_data"
    }
   ],
   "source": [
    "sess.post(lp, Set())"
   ]
  },
  {
   "cell_type": "code",
   "execution_count": 5,
   "metadata": {},
   "outputs": [
    {
     "data": {
      "text/plain": [
       "\u001b[36mres4\u001b[39m: \u001b[32mString\u001b[39m = \u001b[32mSuccess: Vector((((eqM) (e_l)) (e_r),1.0,[(((((axiom_{(eqM(a)(b) \\to (eqM(b)(c) \\to eqM(a)(c)))}) (e_l)) (((mul) (e_l)) (e_r))) (e_r)) (lemma:((eqM) (e_l)) (((mul) (e_l)) (e_r)))) ((axiom_{eqM(mul(e_l)(a))(a)}) (e_r)) : 0.001024170092306373]))\u001b[39m"
      ]
     },
     "execution_count": 5,
     "metadata": {},
     "output_type": "execute_result"
    }
   ],
   "source": [
    "Utils.reportText"
   ]
  },
  {
   "cell_type": "markdown",
   "metadata": {},
   "source": [
    "__Success:__ Running the above after just a few seconds gives the report of success."
   ]
  },
  {
   "cell_type": "markdown",
   "metadata": {},
   "source": [
    "### Logs\n",
    "\n",
    "We include by copy-paste the log files (included from the file). Note the success statement.\n",
    "\n",
    "```\n",
    "2020.05.25 10:23:24 [INFO] provingground.learning.PostBuffer.$anon.post:244:22 - Post; tag: TypeTag[provingground.learning.LocalProver], id: (1,-1349507052), content:\n",
    "LocalProver(TermState([eqM : 0.2857142857142857, mul : 0.2857142857142857, e_l : 0.047619047619047616, e_r : 0.047619047619047616, mul : 0.047619047619047616, eqM : 0.047619047619047616, axiom_{eqM(a)(a)} : 0.047619047619047616, axiom_{(eqM(a)(b) \\to eqM(b)(a))} : 0.047619047619047616, axiom_{(eqM(a)(b) \\to (eqM(b)(c) \\to eqM(a)(c)))} : 0.047619047619047616, axiom_{eqM(mul(e_l)(a))(a)} : 0.047619047619047616, axiom_{eqM(mul(a)(e_r))(a)} : 0.047619047619047616],[(M) → ((M) → (𝒰 _0)) : 0.2857142857142857, (M) → ((M) → (M)) : 0.2857142857142857, M : 0.047619047619047616, M : 0.047619047619047616, (M) → ((M) → (M)) : 0.047619047619047616, (M) → ((M) → (𝒰 _0)) : 0.047619047619047616, (`a : M ) ~> (((eqM) (`a)) (`a)) : 0.047619047619047616, (`a : M ) ~> ((`b : M ) ~> ((((eqM) (`a)) (`b)) → (((eqM) (`b)) (`a)))) : 0.047619047619047616, (`a : M ) ~> ((`b : M ) ~> ((`c : M ) ~> ((((eqM) (`a)) (`b)) → ((((eqM) (`b)) (`c)) → (((eqM) (`a)) (`c)))))) : 0.047619047619047616, (`a : M ) ~> (((eqM) (((mul) (e_l)) (`a))) (`a)) : 0.047619047619047616, (`a : M ) ~> (((eqM) (((mul) (`a)) (e_r))) (`a)) : 0.047619047619047616],Vector(),[],[((eqM) (e_l)) (e_r) : 1.0],Empty),TermGenParams(0.1,0.1,0.0,0.0,0.0,0.0,0.0,0.0,0.0,0.0,0.0,0.0,0.0,0.3,0.7,0.5,0.0,0.0,0.0,<function1>),1.0E-4,None,12 minutes,1.01,1.0,10000,10,1.0,1.0,None,false,false,0.5,1.0)\n",
    "2020.05.25 10:23:24 [INFO] provingground.learning.HoTTBot.scribeLog:691:16 - Post; tag: TypeTag[provingground.learning.LocalProver], id: (1,-1349507052)\n",
    "2020.05.25 10:23:28 [INFO] provingground.learning.PostBuffer.$anon.post:244:22 - Post; tag: TypeTag[provingground.learning.HoTTMessages.Lemmas], id: (2,1419581202), content:\n",
    "Lemmas(Vector((((eqM) (e_r)) (e_r),None,0.0027509184472828325), (((eqM) (e_l)) (e_l),None,0.0027509184472828325), (((eqM) (e_l)) (((mul) (e_l)) (e_r)),None,0.0012526844961492322), (((eqM) (e_l)) (((mul) (e_l)) (e_l)),None,0.0012526844961492322), (((eqM) (e_r)) (((mul) (e_l)) (e_r)),None,0.0012526844961492322), (((eqM) (e_r)) (((mul) (e_r)) (e_r)),None,0.0012526844961492322)))\n",
    "2020.05.25 10:23:28 [INFO] provingground.learning.HoTTBot.scribeLog:691:16 - Post; tag: TypeTag[provingground.learning.HoTTMessages.Lemmas], id: (2,1419581202)\n",
    "2020.05.25 10:23:28 [INFO] provingground.learning.PostBuffer.$anon.post:244:22 - Post; tag: TypeTag[provingground.learning.HoTTMessages.Weight], id: (3,-397054148), content:\n",
    "Weight(0.26167884451748746)\n",
    "2020.05.25 10:23:28 [INFO] provingground.learning.PostBuffer.$anon.post:244:22 - Post; tag: TypeTag[provingground.learning.HoTTMessages.Weight], id: (8,-1403795547), content:\n",
    "Weight(0.1191605777412563)\n",
    "2020.05.25 10:23:28 [INFO] provingground.learning.PostBuffer.$anon.post:244:22 - Post; tag: TypeTag[provingground.learning.HoTTMessages.UseLemma], id: (9,-897240716), content:\n",
    "UseLemma(((eqM) (e_r)) (e_r),None)\n",
    "2020.05.25 10:23:28 [INFO] provingground.learning.PostBuffer.$anon.post:244:22 - Post; tag: TypeTag[provingground.learning.HoTTMessages.Weight], id: (7,-1403795547), content:\n",
    "Weight(0.1191605777412563)\n",
    "2020.05.25 10:23:28 [INFO] provingground.learning.PostBuffer.$anon.post:244:22 - Post; tag: TypeTag[provingground.learning.HoTTMessages.Weight], id: (6,-1403795547), content:\n",
    "Weight(0.1191605777412563)\n",
    "2020.05.25 10:23:28 [INFO] provingground.learning.PostBuffer.$anon.post:244:22 - Post; tag: TypeTag[provingground.learning.HoTTMessages.Weight], id: (4,-397054148), content:\n",
    "Weight(0.26167884451748746)\n",
    "2020.05.25 10:23:28 [INFO] provingground.learning.PostBuffer.$anon.post:244:22 - Post; tag: TypeTag[provingground.learning.HoTTMessages.Weight], id: (5,-1403795547), content:\n",
    "Weight(0.1191605777412563)\n",
    "2020.05.25 10:23:28 [INFO] provingground.learning.PostBuffer.$anon.post:244:22 - Post; tag: TypeTag[provingground.learning.HoTTMessages.UseLemma], id: (13,-1470620296), content:\n",
    "UseLemma(((eqM) (e_l)) (e_l),None)\n",
    "2020.05.25 10:23:28 [INFO] provingground.learning.PostBuffer.$anon.post:244:22 - Post; tag: TypeTag[provingground.learning.HoTTMessages.UseLemma], id: (14,774457819), content:\n",
    "UseLemma(((eqM) (e_l)) (((mul) (e_l)) (e_r)),None)\n",
    "2020.05.25 10:23:28 [INFO] provingground.learning.PostBuffer.$anon.post:244:22 - Post; tag: TypeTag[provingground.learning.HoTTMessages.UseLemma], id: (12,1349890185), content:\n",
    "UseLemma(((eqM) (e_l)) (((mul) (e_l)) (e_l)),None)\n",
    "2020.05.25 10:23:28 [INFO] provingground.learning.PostBuffer.$anon.post:244:22 - Post; tag: TypeTag[provingground.learning.HoTTMessages.UseLemma], id: (11,-1419946672), content:\n",
    "UseLemma(((eqM) (e_r)) (((mul) (e_l)) (e_r)),None)\n",
    "2020.05.25 10:23:28 [INFO] provingground.learning.PostBuffer.$anon.post:244:22 - Post; tag: TypeTag[provingground.learning.HoTTMessages.UseLemma], id: (10,1179944372), content:\n",
    "UseLemma(((eqM) (e_r)) (((mul) (e_r)) (e_r)),None)\n",
    "2020.05.25 10:23:28 [INFO] provingground.learning.HoTTBot.scribeLog:691:16 - Post; tag: TypeTag[provingground.learning.HoTTMessages.UseLemma], id: (9,-897240716)\n",
    "2020.05.25 10:23:28 [INFO] provingground.learning.HoTTBot.scribeLog:691:16 - Post; tag: TypeTag[provingground.learning.HoTTMessages.UseLemma], id: (13,-1470620296)\n",
    "2020.05.25 10:23:28 [INFO] provingground.learning.HoTTBot.scribeLog:691:16 - Post; tag: TypeTag[provingground.learning.HoTTMessages.UseLemma], id: (14,774457819)\n",
    "2020.05.25 10:23:28 [INFO] provingground.learning.HoTTBot.scribeLog:691:16 - Post; tag: TypeTag[provingground.learning.HoTTMessages.UseLemma], id: (12,1349890185)\n",
    "2020.05.25 10:23:28 [INFO] provingground.learning.HoTTBot.scribeLog:691:16 - Post; tag: TypeTag[provingground.learning.HoTTMessages.UseLemma], id: (11,-1419946672)\n",
    "2020.05.25 10:23:28 [INFO] provingground.learning.HoTTBot.scribeLog:691:16 - Post; tag: TypeTag[provingground.learning.HoTTMessages.UseLemma], id: (10,1179944372)\n",
    "2020.05.25 10:23:29 [INFO] provingground.learning.ErasablePostBuffer.$anon.post:85:22 - Post; tag: TypeTag[provingground.learning.LocalTangentProver], id: (15,-2097001952)\n",
    "2020.05.25 10:23:28 [INFO] provingground.learning.ErasablePostBuffer.$anon.post:85:22 - Post; tag: TypeTag[provingground.learning.LocalTangentProver], id: (16,1481277112)\n",
    "2020.05.25 10:23:28 [INFO] provingground.learning.HoTTBot.scribeLog:691:16 - Post; tag: TypeTag[provingground.learning.LocalTangentProver], id: (15,-2097001952)\n",
    "2020.05.25 10:23:29 [INFO] provingground.learning.HoTTBot.scribeLog:691:16 - Post; tag: TypeTag[provingground.learning.LocalTangentProver], id: (16,1481277112)\n",
    "2020.05.25 10:23:28 [INFO] provingground.learning.ErasablePostBuffer.$anon.post:85:22 - Post; tag: TypeTag[provingground.learning.LocalTangentProver], id: (17,1299211175)\n",
    "2020.05.25 10:23:29 [INFO] provingground.learning.HoTTBot.scribeLog:691:16 - Post; tag: TypeTag[provingground.learning.LocalTangentProver], id: (17,1299211175)\n",
    "2020.05.25 10:23:28 [INFO] provingground.learning.ErasablePostBuffer.$anon.post:85:22 - Post; tag: TypeTag[provingground.learning.LocalTangentProver], id: (18,1615518517)\n",
    "2020.05.25 10:23:28 [INFO] provingground.learning.HoTTBot.scribeLog:691:16 - Post; tag: TypeTag[provingground.learning.LocalTangentProver], id: (18,1615518517)\n",
    "2020.05.25 10:23:30 [INFO] provingground.learning.ErasablePostBuffer.$anon.post:85:22 - Post; tag: TypeTag[provingground.learning.LocalTangentProver], id: (19,1838221781)\n",
    "2020.05.25 10:23:30 [INFO] provingground.learning.HoTTBot.scribeLog:691:16 - Post; tag: TypeTag[provingground.learning.LocalTangentProver], id: (19,1838221781)\n",
    "2020.05.25 10:23:30 [INFO] provingground.learning.ErasablePostBuffer.$anon.post:85:22 - Post; tag: TypeTag[provingground.learning.LocalTangentProver], id: (20,61122141)\n",
    "2020.05.25 10:23:30 [INFO] provingground.learning.HoTTBot.scribeLog:691:16 - Post; tag: TypeTag[provingground.learning.LocalTangentProver], id: (20,61122141)\n",
    "2020.05.25 10:23:30 [INFO] provingground.learning.ErasablePostBuffer.$anon.post:85:22 - Post; tag: TypeTag[provingground.learning.TermData.TermResult], id: (21,-293827785)\n",
    "2020.05.25 10:23:30 [INFO] provingground.learning.HoTTBot.scribeLog:691:16 - Post; tag: TypeTag[provingground.learning.TermData.TermResult], id: (21,-293827785)\n",
    "2020.05.25 10:23:30 [INFO] provingground.learning.ErasablePostBuffer.$anon.post:85:22 - Post; tag: TypeTag[provingground.learning.HoTTMessages.FinalState], id: (22,-1739022371)\n",
    "2020.05.25 10:23:30 [INFO] provingground.learning.HoTTBot.scribeLog:691:16 - Post; tag: TypeTag[provingground.learning.HoTTMessages.FinalState], id: (22,-1739022371)\n",
    "2020.05.25 10:23:30 [INFO] provingground.learning.ErasablePostBuffer.$anon.post:85:22 - Post; tag: TypeTag[provingground.learning.TermData.TermResult], id: (23,388473380)\n",
    "2020.05.25 10:23:30 [INFO] provingground.learning.HoTTBot.scribeLog:691:16 - Post; tag: TypeTag[provingground.learning.TermData.TermResult], id: (23,388473380)\n",
    "2020.05.25 10:23:30 [INFO] provingground.learning.ErasablePostBuffer.$anon.post:85:22 - Post; tag: TypeTag[provingground.learning.HoTTMessages.FinalState], id: (24,1105488446)\n",
    "2020.05.25 10:23:30 [INFO] provingground.learning.ErasablePostBuffer.$anon.post:85:22 - Post; tag: TypeTag[provingground.learning.TermData.TermResult], id: (25,1560009545)\n",
    "2020.05.25 10:23:30 [INFO] provingground.learning.HoTTBot.scribeLog:691:16 - Post; tag: TypeTag[provingground.learning.HoTTMessages.FinalState], id: (24,1105488446)\n",
    "2020.05.25 10:23:30 [INFO] provingground.learning.HoTTBot.$anonfun:76:22 - Success: Vector((((eqM) (e_l)) (e_r),1.0,[(((((axiom_{(eqM(a)(b) \\to (eqM(b)(c) \\to eqM(a)(c)))}) (e_l)) (((mul) (e_l)) (e_r))) (e_r)) (lemma:((eqM) (e_l)) (((mul) (e_l)) (e_r)))) ((axiom_{eqM(mul(e_l)(a))(a)}) (e_r)) : 0.001024170092306373]))\n",
    "2020.05.25 10:23:30 [INFO] provingground.learning.HoTTBot.scribeLog:691:16 - Post; tag: TypeTag[provingground.learning.TermData.TermResult], id: (25,1560009545)\n",
    "2020.05.25 10:23:30 [INFO] provingground.learning.ErasablePostBuffer.$anon.post:85:22 - Post; tag: TypeTag[provingground.learning.HoTTMessages.FinalState], id: (26,-1452315895)\n",
    "2020.05.25 10:23:30 [INFO] provingground.learning.HoTTBot.scribeLog:691:16 - Post; tag: TypeTag[provingground.learning.HoTTMessages.FinalState], id: (26,-1452315895)\n",
    "2020.05.25 10:23:30 [INFO] provingground.learning.ErasablePostBuffer.$anon.post:85:22 - Post; tag: TypeTag[provingground.learning.TermData.TermResult], id: (27,-1331912611)\n",
    "2020.05.25 10:23:30 [INFO] provingground.learning.HoTTBot.scribeLog:691:16 - Post; tag: TypeTag[provingground.learning.TermData.TermResult], id: (27,-1331912611)\n",
    "2020.05.25 10:23:30 [INFO] provingground.learning.ErasablePostBuffer.$anon.post:85:22 - Post; tag: TypeTag[provingground.learning.HoTTMessages.FinalState], id: (28,-625764359)\n",
    "2020.05.25 10:23:30 [INFO] provingground.learning.HoTTBot.scribeLog:691:16 - Post; tag: TypeTag[provingground.learning.HoTTMessages.FinalState], id: (28,-625764359)\n",
    "2020.05.25 10:23:32 [INFO] provingground.learning.ErasablePostBuffer.$anon.post:85:22 - Post; tag: TypeTag[provingground.learning.TermData.TermResult], id: (29,-174381781)\n",
    "2020.05.25 10:23:32 [INFO] provingground.learning.HoTTBot.scribeLog:691:16 - Post; tag: TypeTag[provingground.learning.TermData.TermResult], id: (29,-174381781)\n",
    "2020.05.25 10:23:32 [INFO] provingground.learning.ErasablePostBuffer.$anon.post:85:22 - Post; tag: TypeTag[provingground.learning.HoTTMessages.FinalState], id: (30,586935838)\n",
    "2020.05.25 10:23:32 [INFO] provingground.learning.HoTTBot.scribeLog:691:16 - Post; tag: TypeTag[provingground.learning.HoTTMessages.FinalState], id: (30,586935838)\n",
    "2020.05.25 10:23:32 [INFO] provingground.learning.ErasablePostBuffer.$anon.post:85:22 - Post; tag: TypeTag[provingground.learning.TermData.TermResult], id: (31,-997289120)\n",
    "2020.05.25 10:23:32 [INFO] provingground.learning.HoTTBot.scribeLog:691:16 - Post; tag: TypeTag[provingground.learning.TermData.TermResult], id: (31,-997289120)\n",
    "2020.05.25 10:23:32 [INFO] provingground.learning.ErasablePostBuffer.$anon.post:85:22 - Post; tag: TypeTag[provingground.learning.HoTTMessages.FinalState], id: (32,931037492)\n",
    "2020.05.25 10:23:32 [INFO] provingground.learning.HoTTBot.scribeLog:691:16 - Post; tag: TypeTag[provingground.learning.HoTTMessages.FinalState], id: (32,931037492)\n",
    "```"
   ]
  },
  {
   "cell_type": "markdown",
   "metadata": {},
   "source": [
    "To higlight, here is the success statement again: \n",
    "```\n",
    "2020.05.25 10:23:30 [INFO] provingground.learning.HoTTBot.$anonfun:76:22 - Success: Vector((((eqM) (e_l)) (e_r),1.0,[(((((axiom_{(eqM(a)(b) \\to (eqM(b)(c) \\to eqM(a)(c)))}) (e_l)) (((mul) (e_l)) (e_r))) (e_r)) (lemma:((eqM) (e_l)) (((mul) (e_l)) (e_r)))) ((axiom_{eqM(mul(e_l)(a))(a)}) (e_r)) : 0.001024170092306373]))\n",
    "2020.05.25 10:23:30 [INFO] provingground.learning.HoTTBot.scribeLog:691:16 - Post; tag: TypeTag[provingground.learning.TermData.TermResult], id: (25,1560009545)\n",
    "2020.05.25 10:23:30 [INFO] provingground.learning.ErasablePostBuffer.$anon.post:85:22 - Post; tag: TypeTag[provingground.learning.HoTTMessages.FinalState], id: (26,-1452315895)\n",
    "```"
   ]
  },
  {
   "cell_type": "markdown",
   "metadata": {},
   "source": [
    "## Conclusions\n",
    "\n",
    "* The simple result is proved in an autonomous way.\n",
    "* The main tuning is sticking to applications and unified applications and keeping parameters at reasonable values, including the scaling for tangents. "
   ]
  }
 ],
 "metadata": {
  "kernelspec": {
   "display_name": "Scala",
   "language": "scala",
   "name": "scala"
  },
  "language_info": {
   "codemirror_mode": "text/x-scala",
   "file_extension": ".scala",
   "mimetype": "text/x-scala",
   "name": "scala",
   "nbconvert_exporter": "script",
   "version": "2.12.9"
  }
 },
 "nbformat": 4,
 "nbformat_minor": 4
}
