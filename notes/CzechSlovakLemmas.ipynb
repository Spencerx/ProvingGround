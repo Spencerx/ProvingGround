{
 "cells": [
  {
   "cell_type": "markdown",
   "metadata": {},
   "source": [
    "## The Czech-Slovak Olympiad problem: Exploring steps.\n",
    "\n",
    "We visit the problem once more. This time we are looking for whether things work following heuristics implemented by hand. We will also be more explicit in naming stuff. We will also have a few more steps, which are flips of the earlier steps. In some cases we _only_ consider the flips. This time we will not try to generate statements of lemmas, as this was (barely) successful last time.\n",
    "\n",
    "### The problem\n",
    "\n",
    "Let ⋆ be a binary operation on a nonempty set $M$. That is, every pair $(a,b) \\in  M$ is assigned an element $a$ ⋆$ b$ in $M$. Suppose that ⋆ has the additional property that $(a $ ⋆ $b) $ ⋆$ b= a$ and $a$ ⋆ $(a$ ⋆$ b)= b$ for all $a,b \\in  M$.\n",
    "Show that $a$ ⋆ $b = b$ ⋆ $a$ for all $a,b \\in  M$.\n",
    "\n",
    "We derive the following results.\n",
    "\n",
    "1. $ m * n  = n * m $ (the final claim; by symmetry from 8)\n",
    "2. $ (m * n) * n = m $ (instantiation)\n",
    "3. $ (m * n)*((m * n) * n) = n$ (instantiation)\n",
    "4. $ n = (m * n)*((m * n)* n)$ (symmetry from 3)\n",
    "5. $ (m * n)*((m * n)* n) = (m * n)* m $ (left multiplication by $m * n$ of 2\n",
    "6. $ ((m * n)* m))* m = m * n$ (instantiation)\n",
    "7. $ n = (m * n)* m$ (transitivity from 4 and 5)\n",
    "8. $ n * m = ((m * n)* m)* m $ (right multiplication from 7)\n",
    "9. $ n * m = m * n $ (transitivity from 8 and 6)\n",
    "\n",
    "In this notebook we do not consider _selection_ of the correct lemmas, but just the generation."
   ]
  },
  {
   "cell_type": "code",
   "execution_count": 1,
   "metadata": {},
   "outputs": [
    {
     "data": {
      "text/plain": [
       "\u001b[32mimport \u001b[39m\u001b[36m$cp.$                                              \n",
       "\u001b[39m\n",
       "\u001b[32mimport \u001b[39m\u001b[36mprovingground._ , interface._, HoTT._, learning._ \n",
       "\u001b[39m"
      ]
     },
     "execution_count": 1,
     "metadata": {},
     "output_type": "execute_result"
    }
   ],
   "source": [
    "import $cp.bin.`provingground-core-jvm-a09844e8fb.fat.jar`\n",
    "import provingground._ , interface._, HoTT._, learning._ \n",
    "repl.pprinter() = {\n",
    "  val p = repl.pprinter()\n",
    "  p.copy(\n",
    "    additionalHandlers = p.additionalHandlers.orElse {\n",
    "      translation.FansiShow.fansiHandler\n",
    "    }\n",
    "  )\n",
    "}\n"
   ]
  },
  {
   "cell_type": "code",
   "execution_count": 2,
   "metadata": {},
   "outputs": [
    {
     "data": {
      "text/plain": [
       "\u001b[36mM\u001b[39m: \u001b[32mTyp\u001b[39m[\u001b[32mTerm\u001b[39m] = \u001b[32mM\u001b[39m\n",
       "\u001b[36meqM\u001b[39m: \u001b[32mFunc\u001b[39m[\u001b[32mTerm\u001b[39m, \u001b[32mFunc\u001b[39m[\u001b[32mTerm\u001b[39m, \u001b[32mTyp\u001b[39m[\u001b[32mTerm\u001b[39m]]] = \u001b[32meqM\u001b[39m\n",
       "\u001b[36ma\u001b[39m: \u001b[32mTerm\u001b[39m = \u001b[32ma\u001b[39m\n",
       "\u001b[36mb\u001b[39m: \u001b[32mTerm\u001b[39m = \u001b[32mb\u001b[39m\n",
       "\u001b[36mc\u001b[39m: \u001b[32mTerm\u001b[39m = \u001b[32mc\u001b[39m\n",
       "\u001b[36mm\u001b[39m: \u001b[32mTerm\u001b[39m = \u001b[32mm\u001b[39m\n",
       "\u001b[36mn\u001b[39m: \u001b[32mTerm\u001b[39m = \u001b[32mn\u001b[39m\n",
       "\u001b[36mmul\u001b[39m: \u001b[32mFunc\u001b[39m[\u001b[32mTerm\u001b[39m, \u001b[32mFunc\u001b[39m[\u001b[32mTerm\u001b[39m, \u001b[32mTerm\u001b[39m]] = \u001b[32mmul\u001b[39m"
      ]
     },
     "execution_count": 2,
     "metadata": {},
     "output_type": "execute_result"
    }
   ],
   "source": [
    "val M = \"M\" :: Type\n",
    "\n",
    "val eqM = \"eqM\" :: M ->: M ->: Type\n",
    "\n",
    "val a = \"a\" :: M\n",
    "val b = \"b\" :: M\n",
    "val c = \"c\" :: M\n",
    "\n",
    "val m = \"m\" :: M\n",
    "\n",
    "val n = \"n\" :: M\n",
    "\n",
    "val mul = \"mul\" :: M ->: M ->: M"
   ]
  },
  {
   "cell_type": "markdown",
   "metadata": {},
   "source": [
    "We first make all the statements."
   ]
  },
  {
   "cell_type": "code",
   "execution_count": 3,
   "metadata": {},
   "outputs": [
    {
     "data": {
      "text/plain": [
       "\u001b[36mresults\u001b[39m: \u001b[32mVector\u001b[39m[\u001b[32mTyp\u001b[39m[\u001b[32mTerm\u001b[39m]] = \u001b[33mVector\u001b[39m(\n",
       "  \u001b[32meqM(mul(m)(n))(mul(n)(m))\u001b[39m,\n",
       "  \u001b[32meqM(mul(mul(m)(n))(n))(m)\u001b[39m,\n",
       "  \u001b[32meqM(mul(mul(m)(n))(mul(mul(m)(n))(n)))(n)\u001b[39m,\n",
       "  \u001b[32meqM(n)(mul(mul(m)(n))(mul(mul(m)(n))(n)))\u001b[39m,\n",
       "  \u001b[32meqM(mul(mul(m)(n))(mul(mul(m)(n))(n)))(mul(mul(m)(n))(m))\u001b[39m,\n",
       "  \u001b[32meqM(mul(mul(mul(m)(n))(m))(m))(mul(m)(n))\u001b[39m,\n",
       "  \u001b[32meqM(n)(mul(mul(m)(n))(m))\u001b[39m,\n",
       "  \u001b[32meqM(mul(n)(m))(mul(mul(mul(m)(n))(m))(m))\u001b[39m,\n",
       "  \u001b[32meqM(mul(n)(m))(mul(m)(n))\u001b[39m\n",
       ")"
      ]
     },
     "execution_count": 3,
     "metadata": {},
     "output_type": "execute_result"
    }
   ],
   "source": [
    "val results = Vector(\n",
    "    eqM(mul(m)(n))(mul(n)(m)),\n",
    "    eqM(mul(mul(m)(n))(n))(m),\n",
    "    eqM(mul(mul(m)(n))(mul(mul(m)(n))(n)))(n),\n",
    "    eqM(n)(mul(mul(m)(n))(mul(mul(m)(n))(n))),\n",
    "    eqM(mul(mul(m)(n))(mul(mul(m)(n))(n)))(mul(mul(m)(n))(m)),\n",
    "    eqM(mul(mul(mul(m)(n))(m))(m))(mul(m)(n)),\n",
    "    eqM(n)(mul(mul(m)(n))(m)),\n",
    "    eqM(mul(n)(m))(mul(mul(mul(m)(n))(m))(m)),\n",
    "    eqM(mul(n)(m))(mul(m)(n))\n",
    ")"
   ]
  },
  {
   "cell_type": "markdown",
   "metadata": {},
   "source": [
    "We shall now introduce all the axioms."
   ]
  },
  {
   "cell_type": "code",
   "execution_count": 4,
   "metadata": {},
   "outputs": [
    {
     "data": {
      "text/plain": [
       "\u001b[36mrefl\u001b[39m: \u001b[32mFuncLike\u001b[39m[\u001b[32mTerm\u001b[39m, \u001b[32mTerm\u001b[39m] = \u001b[32mrefl\u001b[39m\n",
       "\u001b[36msym\u001b[39m: \u001b[32mFuncLike\u001b[39m[\u001b[32mTerm\u001b[39m, \u001b[32mFuncLike\u001b[39m[\u001b[32mTerm\u001b[39m, \u001b[32mFunc\u001b[39m[\u001b[32mTerm\u001b[39m, \u001b[32mTerm\u001b[39m]]] = \u001b[32msym\u001b[39m\n",
       "\u001b[36mtrans\u001b[39m: \u001b[32mFuncLike\u001b[39m[\u001b[32mTerm\u001b[39m, \u001b[32mFuncLike\u001b[39m[\u001b[32mTerm\u001b[39m, \u001b[32mFuncLike\u001b[39m[\u001b[32mTerm\u001b[39m, \u001b[32mFunc\u001b[39m[\u001b[32mTerm\u001b[39m, \u001b[32mFunc\u001b[39m[\u001b[32mTerm\u001b[39m, \u001b[32mTerm\u001b[39m]]]]] = \u001b[32mtrans\u001b[39m\n",
       "\u001b[36mleftMul\u001b[39m: \u001b[32mFuncLike\u001b[39m[\u001b[32mTerm\u001b[39m, \u001b[32mFuncLike\u001b[39m[\u001b[32mTerm\u001b[39m, \u001b[32mFuncLike\u001b[39m[\u001b[32mTerm\u001b[39m, \u001b[32mFunc\u001b[39m[\u001b[32mTerm\u001b[39m, \u001b[32mTerm\u001b[39m]]]] = \u001b[32mleft-multiply\u001b[39m\n",
       "\u001b[36mrightMul\u001b[39m: \u001b[32mFuncLike\u001b[39m[\u001b[32mTerm\u001b[39m, \u001b[32mFuncLike\u001b[39m[\u001b[32mTerm\u001b[39m, \u001b[32mFuncLike\u001b[39m[\u001b[32mTerm\u001b[39m, \u001b[32mFunc\u001b[39m[\u001b[32mTerm\u001b[39m, \u001b[32mTerm\u001b[39m]]]] = \u001b[32mright-multiply\u001b[39m\n",
       "\u001b[36mass1\u001b[39m: \u001b[32mFuncLike\u001b[39m[\u001b[32mTerm\u001b[39m, \u001b[32mFuncLike\u001b[39m[\u001b[32mTerm\u001b[39m, \u001b[32mTerm\u001b[39m]] = \u001b[32mass1\u001b[39m\n",
       "\u001b[36mass2\u001b[39m: \u001b[32mFuncLike\u001b[39m[\u001b[32mTerm\u001b[39m, \u001b[32mFuncLike\u001b[39m[\u001b[32mTerm\u001b[39m, \u001b[32mTerm\u001b[39m]] = \u001b[32mass2\u001b[39m"
      ]
     },
     "execution_count": 4,
     "metadata": {},
     "output_type": "execute_result"
    }
   ],
   "source": [
    "val refl = \"refl\" :: a ~>: (eqM(a)(a))\n",
    "\n",
    "val sym = \"sym\" :: a ~>: (b ~>: (eqM(a)(b) ->: eqM(b)(a)))\n",
    "\n",
    "val trans =\n",
    "    \"trans\" :: a ~>:\n",
    "      (b ~>: (c ~>: ((eqM(a)(b)) ->: (eqM(b)(c)) ->: (eqM(a)(c)))))\n",
    "\n",
    "val leftMul = \"left-multiply\" :: a ~>: (b ~>: (c ~>: (eqM(b)(c) ->: eqM(mul(a)(b))(mul(a)(c)))))\n",
    "val rightMul = \"right-multiply\" :: a ~>: (b ~>: (c ~>: (eqM(b)(c) ->: eqM(mul(b)(a))(mul(c)(a)))))\n",
    "\n",
    "val ass1 = \"ass1\" :: a ~>: (b ~>: eqM(mul(mul(a)(b))(b))(a))\n",
    "val ass2 = \"ass2\" :: a ~>: (b ~>: eqM(mul(a)(mul(a)(b)))(b))"
   ]
  },
  {
   "cell_type": "markdown",
   "metadata": {},
   "source": [
    "## Formal proving\n",
    "\n",
    "Before considering proof discovery, we look for proof representation."
   ]
  },
  {
   "cell_type": "code",
   "execution_count": 5,
   "metadata": {},
   "outputs": [
    {
     "data": {
      "text/plain": [
       "\u001b[36mpf1\u001b[39m: \u001b[32mTerm\u001b[39m = \u001b[32mass1(m)(n)\u001b[39m\n",
       "\u001b[36mres4_1\u001b[39m: \u001b[32mTyp\u001b[39m[\u001b[32mU\u001b[39m] = \u001b[32meqM(mul(mul(m)(n))(n))(m)\u001b[39m"
      ]
     },
     "execution_count": 5,
     "metadata": {},
     "output_type": "execute_result"
    }
   ],
   "source": [
    "val pf1 = ass1(m)(n)\n",
    "pf1.typ"
   ]
  },
  {
   "cell_type": "code",
   "execution_count": 6,
   "metadata": {},
   "outputs": [
    {
     "data": {
      "text/plain": [
       "\u001b[36mres5\u001b[39m: \u001b[32mBoolean\u001b[39m = true"
      ]
     },
     "execution_count": 6,
     "metadata": {},
     "output_type": "execute_result"
    }
   ],
   "source": [
    "pf1.typ == results(1)"
   ]
  },
  {
   "cell_type": "code",
   "execution_count": 7,
   "metadata": {},
   "outputs": [
    {
     "data": {
      "text/plain": [
       "\u001b[36mmn\u001b[39m: \u001b[32mTerm\u001b[39m = \u001b[32mmul(m)(n)\u001b[39m\n",
       "\u001b[36mpf2\u001b[39m: \u001b[32mTerm\u001b[39m = \u001b[32mass2(mul(m)(n))(n)\u001b[39m"
      ]
     },
     "execution_count": 7,
     "metadata": {},
     "output_type": "execute_result"
    }
   ],
   "source": [
    "val mn = mul(m)(n)\n",
    "val pf2 = ass2(mn)(n)"
   ]
  },
  {
   "cell_type": "code",
   "execution_count": 8,
   "metadata": {},
   "outputs": [
    {
     "data": {
      "text/plain": [
       "\u001b[36mres7\u001b[39m: \u001b[32mTyp\u001b[39m[\u001b[32mU\u001b[39m] = \u001b[32meqM(mul(mul(m)(n))(mul(mul(m)(n))(n)))(n)\u001b[39m"
      ]
     },
     "execution_count": 8,
     "metadata": {},
     "output_type": "execute_result"
    }
   ],
   "source": [
    "pf2.typ"
   ]
  },
  {
   "cell_type": "code",
   "execution_count": 9,
   "metadata": {},
   "outputs": [
    {
     "data": {
      "text/plain": [
       "\u001b[36mres8\u001b[39m: \u001b[32mBoolean\u001b[39m = true"
      ]
     },
     "execution_count": 9,
     "metadata": {},
     "output_type": "execute_result"
    }
   ],
   "source": [
    "pf2.typ == results(2)"
   ]
  },
  {
   "cell_type": "code",
   "execution_count": 10,
   "metadata": {},
   "outputs": [
    {
     "data": {
      "text/plain": [
       "\u001b[36mres9\u001b[39m: \u001b[32mOption\u001b[39m[\u001b[32mTerm\u001b[39m] = \u001b[33mSome\u001b[39m(\n",
       "  \u001b[32msym(mul(mul(m)(n))(mul(mul(m)(n))(n)))(n)(ass2(mul(m)(n))(n))\u001b[39m\n",
       ")"
      ]
     },
     "execution_count": 10,
     "metadata": {},
     "output_type": "execute_result"
    }
   ],
   "source": [
    "Unify.appln(sym, pf2)"
   ]
  },
  {
   "cell_type": "code",
   "execution_count": 11,
   "metadata": {},
   "outputs": [
    {
     "data": {
      "text/plain": [
       "\u001b[36mpf3\u001b[39m: \u001b[32mTerm\u001b[39m = \u001b[32msym(mul(mul(m)(n))(mul(mul(m)(n))(n)))(n)(ass2(mul(m)(n))(n))\u001b[39m\n",
       "\u001b[36mres10_1\u001b[39m: \u001b[32mTyp\u001b[39m[\u001b[32mU\u001b[39m] = \u001b[32meqM(n)(mul(mul(m)(n))(mul(mul(m)(n))(n)))\u001b[39m"
      ]
     },
     "execution_count": 11,
     "metadata": {},
     "output_type": "execute_result"
    }
   ],
   "source": [
    "val pf3 = Unify.appln(sym, pf2).get\n",
    "pf3.typ"
   ]
  },
  {
   "cell_type": "code",
   "execution_count": 12,
   "metadata": {},
   "outputs": [
    {
     "data": {
      "text/plain": [
       "\u001b[36mres11\u001b[39m: \u001b[32mBoolean\u001b[39m = true"
      ]
     },
     "execution_count": 12,
     "metadata": {},
     "output_type": "execute_result"
    }
   ],
   "source": [
    "pf3.typ == results(3)"
   ]
  },
  {
   "cell_type": "code",
   "execution_count": 13,
   "metadata": {},
   "outputs": [
    {
     "data": {
      "text/plain": [
       "\u001b[36mres12\u001b[39m: \u001b[32mOption\u001b[39m[\u001b[32mTerm\u001b[39m] = \u001b[33mSome\u001b[39m(\n",
       "  \u001b[32mleft-multiply(mul(m)(n))(mul(mul(m)(n))(n))(m)(ass1(m)(n))\u001b[39m\n",
       ")"
      ]
     },
     "execution_count": 13,
     "metadata": {},
     "output_type": "execute_result"
    }
   ],
   "source": [
    "Unify.appln(leftMul(mn), pf1)"
   ]
  },
  {
   "cell_type": "code",
   "execution_count": 14,
   "metadata": {},
   "outputs": [
    {
     "data": {
      "text/plain": [
       "\u001b[36mpf4\u001b[39m: \u001b[32mTerm\u001b[39m = \u001b[32mleft-multiply(mul(m)(n))(mul(mul(m)(n))(n))(m)(ass1(m)(n))\u001b[39m\n",
       "\u001b[36mres13_1\u001b[39m: \u001b[32mTyp\u001b[39m[\u001b[32mU\u001b[39m] = \u001b[32meqM(mul(mul(m)(n))(mul(mul(m)(n))(n)))(mul(mul(m)(n))(m))\u001b[39m\n",
       "\u001b[36mres13_2\u001b[39m: \u001b[32mBoolean\u001b[39m = true"
      ]
     },
     "execution_count": 14,
     "metadata": {},
     "output_type": "execute_result"
    }
   ],
   "source": [
    "val pf4 = Unify.appln(leftMul(mn), pf1).get\n",
    "pf4.typ\n",
    "pf4.typ == results(4)"
   ]
  },
  {
   "cell_type": "code",
   "execution_count": 15,
   "metadata": {},
   "outputs": [
    {
     "data": {
      "text/plain": [
       "\u001b[36mpf5\u001b[39m: \u001b[32mTerm\u001b[39m = \u001b[32mass1(mul(m)(n))(m)\u001b[39m\n",
       "\u001b[36mres14_1\u001b[39m: \u001b[32mTyp\u001b[39m[\u001b[32mU\u001b[39m] = \u001b[32meqM(mul(mul(mul(m)(n))(m))(m))(mul(m)(n))\u001b[39m\n",
       "\u001b[36mres14_2\u001b[39m: \u001b[32mBoolean\u001b[39m = true"
      ]
     },
     "execution_count": 15,
     "metadata": {},
     "output_type": "execute_result"
    }
   ],
   "source": [
    "val pf5 = ass1(mn)(m)\n",
    "pf5.typ\n",
    "pf5.typ == results(5)"
   ]
  },
  {
   "cell_type": "code",
   "execution_count": 16,
   "metadata": {},
   "outputs": [
    {
     "data": {
      "text/plain": [
       "\u001b[36mres15\u001b[39m: \u001b[32mOption\u001b[39m[\u001b[32mTerm\u001b[39m] = \u001b[33mSome\u001b[39m(\n",
       "  \u001b[32m($inr : M) ↦ trans(n)(mul(mul(m)(n))(mul(mul(m)(n))(n)))($inr)(sym(mul(mul(m)(n))(mul(mul(m)(n))(n)))(n)(ass2(mul(m)(n))(n)))\u001b[39m\n",
       ")"
      ]
     },
     "execution_count": 16,
     "metadata": {},
     "output_type": "execute_result"
    }
   ],
   "source": [
    "Unify.appln(trans, pf3)"
   ]
  },
  {
   "cell_type": "code",
   "execution_count": 17,
   "metadata": {},
   "outputs": [
    {
     "data": {
      "text/plain": [
       "\u001b[36mstep6\u001b[39m: \u001b[32mTerm\u001b[39m = \u001b[32m($lzd : M) ↦ trans(n)(mul(mul(m)(n))(mul(mul(m)(n))(n)))($lzd)(sym(mul(mul(m)(n))(mul(mul(m)(n))(n)))(n)(ass2(mul(m)(n))(n)))\u001b[39m\n",
       "\u001b[36mres16_1\u001b[39m: \u001b[32mOption\u001b[39m[\u001b[32mTerm\u001b[39m] = \u001b[33mSome\u001b[39m(\n",
       "  \u001b[32mtrans(n)(mul(mul(m)(n))(mul(mul(m)(n))(n)))(mul(mul(m)(n))(m))(sym(mul(mul(m)(n))(mul(mul(m)(n))(n)))(n)(ass2(mul(m)(n))(n)))(left-multiply(mul(m)(n))(mul(mul(m)(n))(n))(m)(ass1(m)(n)))\u001b[39m\n",
       ")"
      ]
     },
     "execution_count": 17,
     "metadata": {},
     "output_type": "execute_result"
    }
   ],
   "source": [
    "val step6 = Unify.appln(trans, pf3).get\n",
    "Unify.appln(step6, pf4)"
   ]
  },
  {
   "cell_type": "code",
   "execution_count": 18,
   "metadata": {},
   "outputs": [
    {
     "data": {
      "text/plain": [
       "\u001b[36mpf6\u001b[39m: \u001b[32mTerm\u001b[39m = \u001b[32mtrans(n)(mul(mul(m)(n))(mul(mul(m)(n))(n)))(mul(mul(m)(n))(m))(sym(mul(mul(m)(n))(mul(mul(m)(n))(n)))(n)(ass2(mul(m)(n))(n)))(left-multiply(mul(m)(n))(mul(mul(m)(n))(n))(m)(ass1(m)(n)))\u001b[39m\n",
       "\u001b[36mres17_1\u001b[39m: \u001b[32mTyp\u001b[39m[\u001b[32mU\u001b[39m] = \u001b[32meqM(n)(mul(mul(m)(n))(m))\u001b[39m\n",
       "\u001b[36mres17_2\u001b[39m: \u001b[32mBoolean\u001b[39m = true"
      ]
     },
     "execution_count": 18,
     "metadata": {},
     "output_type": "execute_result"
    }
   ],
   "source": [
    "val pf6 = Unify.appln(step6, pf4).get\n",
    "pf6.typ\n",
    "pf6.typ == results(6)"
   ]
  },
  {
   "cell_type": "code",
   "execution_count": 19,
   "metadata": {},
   "outputs": [
    {
     "data": {
      "text/plain": [
       "\u001b[36mpf7\u001b[39m: \u001b[32mTerm\u001b[39m = \u001b[32mright-multiply(m)(n)(mul(mul(m)(n))(m))(trans(n)(mul(mul(m)(n))(mul(mul(m)(n))(n)))(mul(mul(m)(n))(m))(sym(mul(mul(m)(n))(mul(mul(m)(n))(n)))(n)(ass2(mul(m)(n))(n)))(left-multiply(mul(m)(n))(mul(mul(m)(n))(n))(m)(ass1(m)(n))))\u001b[39m\n",
       "\u001b[36mres18_1\u001b[39m: \u001b[32mTyp\u001b[39m[\u001b[32mU\u001b[39m] = \u001b[32meqM(mul(n)(m))(mul(mul(mul(m)(n))(m))(m))\u001b[39m\n",
       "\u001b[36mres18_2\u001b[39m: \u001b[32mBoolean\u001b[39m = true"
      ]
     },
     "execution_count": 19,
     "metadata": {},
     "output_type": "execute_result"
    }
   ],
   "source": [
    "val pf7 = Unify.appln(rightMul(m),pf6).get\n",
    "pf7.typ\n",
    "pf7.typ == results(7)"
   ]
  },
  {
   "cell_type": "code",
   "execution_count": 20,
   "metadata": {},
   "outputs": [
    {
     "data": {
      "text/plain": [
       "\u001b[36mstep8\u001b[39m: \u001b[32mTerm\u001b[39m = \u001b[32m($zde : M) ↦ trans(mul(n)(m))(mul(mul(mul(m)(n))(m))(m))($zde)(right-multiply(m)(n)(mul(mul(m)(n))(m))(trans(n)(mul(mul(m)(n))(mul(mul(m)(n))(n)))(mul(mul(m)(n))(m))(sym(mul(mul(m)(n))(mul(mul(m)(n))(n)))(n)(ass2(mul(m)(n))(n)))(left-multiply(mul(m)(n))(mul(mul(m)(n))(n))(m)(ass1(m)(n)))))\u001b[39m"
      ]
     },
     "execution_count": 20,
     "metadata": {},
     "output_type": "execute_result"
    }
   ],
   "source": [
    "val step8 = Unify.appln(trans, pf7).get"
   ]
  },
  {
   "cell_type": "code",
   "execution_count": 21,
   "metadata": {},
   "outputs": [
    {
     "data": {
      "text/plain": [
       "\u001b[36mpf8\u001b[39m: \u001b[32mTerm\u001b[39m = \u001b[32mtrans(mul(n)(m))(mul(mul(mul(m)(n))(m))(m))(mul(m)(n))(right-multiply(m)(n)(mul(mul(m)(n))(m))(trans(n)(mul(mul(m)(n))(mul(mul(m)(n))(n)))(mul(mul(m)(n))(m))(sym(mul(mul(m)(n))(mul(mul(m)(n))(n)))(n)(ass2(mul(m)(n))(n)))(left-multiply(mul(m)(n))(mul(mul(m)(n))(n))(m)(ass1(m)(n)))))(ass1(mul(m)(n))(m))\u001b[39m"
      ]
     },
     "execution_count": 21,
     "metadata": {},
     "output_type": "execute_result"
    }
   ],
   "source": [
    "val pf8 = Unify.appln(step8, pf5).get"
   ]
  },
  {
   "cell_type": "code",
   "execution_count": 22,
   "metadata": {},
   "outputs": [
    {
     "data": {
      "text/plain": [
       "\u001b[36mres21_0\u001b[39m: \u001b[32mTyp\u001b[39m[\u001b[32mU\u001b[39m] = \u001b[32meqM(mul(n)(m))(mul(m)(n))\u001b[39m\n",
       "\u001b[36mres21_1\u001b[39m: \u001b[32mBoolean\u001b[39m = true"
      ]
     },
     "execution_count": 22,
     "metadata": {},
     "output_type": "execute_result"
    }
   ],
   "source": [
    "pf8.typ\n",
    "pf8.typ == results(8)"
   ]
  },
  {
   "cell_type": "code",
   "execution_count": 23,
   "metadata": {},
   "outputs": [
    {
     "data": {
      "text/plain": [
       "\u001b[36mpf\u001b[39m: \u001b[32mTerm\u001b[39m = \u001b[32msym(mul(n)(m))(mul(m)(n))(trans(mul(n)(m))(mul(mul(mul(m)(n))(m))(m))(mul(m)(n))(right-multiply(m)(n)(mul(mul(m)(n))(m))(trans(n)(mul(mul(m)(n))(mul(mul(m)(n))(n)))(mul(mul(m)(n))(m))(sym(mul(mul(m)(n))(mul(mul(m)(n))(n)))(n)(ass2(mul(m)(n))(n)))(left-multiply(mul(m)(n))(mul(mul(m)(n))(n))(m)(ass1(m)(n)))))(ass1(mul(m)(n))(m)))\u001b[39m\n",
       "\u001b[36mres22_1\u001b[39m: \u001b[32mTyp\u001b[39m[\u001b[32mU\u001b[39m] = \u001b[32meqM(mul(m)(n))(mul(n)(m))\u001b[39m\n",
       "\u001b[36mres22_2\u001b[39m: \u001b[32mBoolean\u001b[39m = true"
      ]
     },
     "execution_count": 23,
     "metadata": {},
     "output_type": "execute_result"
    }
   ],
   "source": [
    "val pf = Unify.appln(sym, pf8).get\n",
    "pf.typ\n",
    "pf.typ == results(0)"
   ]
  },
  {
   "cell_type": "markdown",
   "metadata": {},
   "source": [
    "## Conclusions\n",
    "\n",
    "* We have successfully formalized the proof. \n",
    "* We will now try to generate the steps, ruthlessly narrowing."
   ]
  },
  {
   "cell_type": "code",
   "execution_count": 24,
   "metadata": {},
   "outputs": [
    {
     "data": {
      "text/plain": [
       "\u001b[36mlp1\u001b[39m: \u001b[32mLocalProverStep\u001b[39m = \u001b[33mLocalProver\u001b[39m(\n",
       "  \u001b[33mTermState\u001b[39m(\n",
       "    \u001b[33mFiniteDistribution\u001b[39m(\n",
       "      \u001b[33mVector\u001b[39m(\n",
       "        \u001b[33mWeighted\u001b[39m(\u001b[32mass1\u001b[39m, \u001b[32m0.2\u001b[39m),\n",
       "        \u001b[33mWeighted\u001b[39m(\u001b[32mmul(m)(n)\u001b[39m, \u001b[32m0.2\u001b[39m),\n",
       "        \u001b[33mWeighted\u001b[39m(\u001b[32mass2\u001b[39m, \u001b[32m0.2\u001b[39m),\n",
       "        \u001b[33mWeighted\u001b[39m(\u001b[32mm\u001b[39m, \u001b[32m0.2\u001b[39m),\n",
       "        \u001b[33mWeighted\u001b[39m(\u001b[32mn\u001b[39m, \u001b[32m0.2\u001b[39m)\n",
       "      )\n",
       "    ),\n",
       "    \u001b[33mFiniteDistribution\u001b[39m(\u001b[33mVector\u001b[39m()),\n",
       "    \u001b[33mVector\u001b[39m(),\n",
       "    \u001b[33mFiniteDistribution\u001b[39m(\u001b[33mVector\u001b[39m()),\n",
       "    \u001b[33mFiniteDistribution\u001b[39m(\u001b[33mVector\u001b[39m()),\n",
       "    Empty\n",
       "  ),\n",
       "  \u001b[33mTermGenParams\u001b[39m(\n",
       "    \u001b[32m0.1\u001b[39m,\n",
       "    \u001b[32m0.1\u001b[39m,\n",
       "    \u001b[32m0.1\u001b[39m,\n",
       "    \u001b[32m0.0\u001b[39m,\n",
       "    \u001b[32m0.0\u001b[39m,\n",
       "    \u001b[32m0.05\u001b[39m,\n",
       "    \u001b[32m0.05\u001b[39m,\n",
       "    \u001b[32m0.0\u001b[39m,\n",
       "    \u001b[32m0.0\u001b[39m,\n",
       "    \u001b[32m0.0\u001b[39m,\n",
       "    \u001b[32m0.0\u001b[39m,\n",
       "    \u001b[32m0.0\u001b[39m,\n",
       "    \u001b[32m0.3\u001b[39m,\n",
       "    \u001b[32m0.7\u001b[39m,\n",
       "    \u001b[32m0.5\u001b[39m,\n",
       "    \u001b[32m0.0\u001b[39m,\n",
       "    \u001b[32m0.0\u001b[39m,\n",
       "    \u001b[32m0.0\u001b[39m,\n",
       "    \u001b[33mOrElse\u001b[39m(\n",
       "      \u001b[33mOrElse\u001b[39m(\u001b[33mOrElse\u001b[39m(\u001b[33mOrElse\u001b[39m(<function1>, <function1>), <function1>), <function1>),\n",
       "..."
      ]
     },
     "execution_count": 24,
     "metadata": {},
     "output_type": "execute_result"
    }
   ],
   "source": [
    "val lp1 = LocalProver(TermState(FiniteDistribution.unif(ass1, ass2, m, n, mn), FiniteDistribution.empty)).noIsles.sharpen(10)"
   ]
  },
  {
   "cell_type": "code",
   "execution_count": 25,
   "metadata": {},
   "outputs": [
    {
     "data": {
      "text/plain": [
       "\u001b[36mterms1T\u001b[39m: \u001b[32mmonix\u001b[39m.\u001b[32meval\u001b[39m.\u001b[32mTask\u001b[39m[\u001b[32mFiniteDistribution\u001b[39m[\u001b[32mTerm\u001b[39m]] = \u001b[33mAsync\u001b[39m(\n",
       "  <function2>,\n",
       "  false,\n",
       "  true,\n",
       "  true\n",
       ")\n",
       "\u001b[36mr1\u001b[39m: \u001b[32mmonix\u001b[39m.\u001b[32meval\u001b[39m.\u001b[32mTask\u001b[39m[\u001b[32mVector\u001b[39m[(\u001b[32mTyp\u001b[39m[\u001b[32mTerm\u001b[39m], \u001b[32mInt\u001b[39m)]] = \u001b[33mAsync\u001b[39m(\n",
       "  <function2>,\n",
       "  false,\n",
       "  true,\n",
       "  true\n",
       ")"
      ]
     },
     "execution_count": 25,
     "metadata": {},
     "output_type": "execute_result"
    }
   ],
   "source": [
    "val terms1T = lp1.nextState.map(_.terms).memoize\n",
    "val r1 = terms1T.map(fd => results.zipWithIndex.filter{case (tp, n) => fd.map(_.typ)(tp) > 0}).memoize"
   ]
  },
  {
   "cell_type": "code",
   "execution_count": 26,
   "metadata": {},
   "outputs": [
    {
     "data": {
      "text/html": [
       "<div class=\"jp-RenderedText\">\n",
       "<pre><code><span style=\"color: rgb(0, 187, 0)\"><span class=\"ansi-green-fg\">import </span></span><span style=\"color: rgb(0, 187, 187)\"><span class=\"ansi-cyan-fg\">monix.execution.Scheduler.Implicits.global\n",
       "</span></span>\n",
       "<span style=\"color: rgb(0, 187, 187)\"><span class=\"ansi-cyan-fg\">res25_1</span></span>: <span style=\"color: rgb(0, 187, 0)\"><span class=\"ansi-green-fg\">monix</span></span>.<span style=\"color: rgb(0, 187, 0)\"><span class=\"ansi-green-fg\">execution</span></span>.<span style=\"color: rgb(0, 187, 0)\"><span class=\"ansi-green-fg\">CancelableFuture</span></span>[<span style=\"color: rgb(0, 187, 0)\"><span class=\"ansi-green-fg\">FiniteDistribution</span></span>[<span style=\"color: rgb(0, 187, 0)\"><span class=\"ansi-green-fg\">Term</span></span>]] = <span style=\"color: rgb(0, 187, 0)\"><span class=\"ansi-green-fg\"><style>@keyframes fadein { from { opacity: 0; } to { opacity: 1; } }</style><span style=\"animation: fadein 2s;\"><span style=\"color: yellow\"><span class=\"ansi-yellow-fg\">Success</span></span>(\n",
       "  <span style=\"color: yellow\"><span class=\"ansi-yellow-fg\">FiniteDistribution</span></span>(\n",
       "    <span style=\"color: yellow\"><span class=\"ansi-yellow-fg\">Vector</span></span>(\n",
       "      <span style=\"color: yellow\"><span class=\"ansi-yellow-fg\">Weighted</span></span>(<span style=\"color: rgb(0, 187, 0)\"><span class=\"ansi-green-fg\">ass2(m)(n)</span></span>, <span style=\"color: rgb(0, 187, 0)\"><span class=\"ansi-green-fg\">0.004783115323481524</span></span>),\n",
       "      <span style=\"color: yellow\"><span class=\"ansi-yellow-fg\">Weighted</span></span>(<span style=\"color: rgb(0, 187, 0)\"><span class=\"ansi-green-fg\">ass2(n)(m)</span></span>, <span style=\"color: rgb(0, 187, 0)\"><span class=\"ansi-green-fg\">0.004783115323481524</span></span>),\n",
       "      <span style=\"color: yellow\"><span class=\"ansi-yellow-fg\">Weighted</span></span>(<span style=\"color: rgb(0, 187, 0)\"><span class=\"ansi-green-fg\">ass2</span></span>, <span style=\"color: rgb(0, 187, 0)\"><span class=\"ansi-green-fg\">0.14547248531231058</span></span>),\n",
       "      <span style=\"color: yellow\"><span class=\"ansi-yellow-fg\">Weighted</span></span>(<span style=\"color: rgb(0, 187, 0)\"><span class=\"ansi-green-fg\">ass2(mul(m)(n))(mul(m)(n))</span></span>, <span style=\"color: rgb(0, 187, 0)\"><span class=\"ansi-green-fg\">0.004783115323481524</span></span>),\n",
       "      <span style=\"color: yellow\"><span class=\"ansi-yellow-fg\">Weighted</span></span>(<span style=\"color: rgb(0, 187, 0)\"><span class=\"ansi-green-fg\">ass1(mul(m)(n))(m)</span></span>, <span style=\"color: rgb(0, 187, 0)\"><span class=\"ansi-green-fg\">0.004783115323481524</span></span>),\n",
       "      <span style=\"color: yellow\"><span class=\"ansi-yellow-fg\">Weighted</span></span>(<span style=\"color: rgb(0, 187, 0)\"><span class=\"ansi-green-fg\">ass2(mul(m)(n))(n)</span></span>, <span style=\"color: rgb(0, 187, 0)\"><span class=\"ansi-green-fg\">0.004783115323481524</span></span>),\n",
       "      <span style=\"color: yellow\"><span class=\"ansi-yellow-fg\">Weighted</span></span>(<span style=\"color: rgb(0, 187, 0)\"><span class=\"ansi-green-fg\">ass1(n)(mul(m)(n))</span></span>, <span style=\"color: rgb(0, 187, 0)\"><span class=\"ansi-green-fg\">0.004783115323481524</span></span>),\n",
       "      <span style=\"color: yellow\"><span class=\"ansi-yellow-fg\">Weighted</span></span>(<span style=\"color: rgb(0, 187, 0)\"><span class=\"ansi-green-fg\">ass2(m)</span></span>, <span style=\"color: rgb(0, 187, 0)\"><span class=\"ansi-green-fg\">0.0310902496026299</span></span>),\n",
       "      <span style=\"color: yellow\"><span class=\"ansi-yellow-fg\">Weighted</span></span>(<span style=\"color: rgb(0, 187, 0)\"><span class=\"ansi-green-fg\">m</span></span>, <span style=\"color: rgb(0, 187, 0)\"><span class=\"ansi-green-fg\">0.14547248531231058</span></span>),\n",
       "      <span style=\"color: yellow\"><span class=\"ansi-yellow-fg\">Weighted</span></span>(<span style=\"color: rgb(0, 187, 0)\"><span class=\"ansi-green-fg\">ass1(n)(m)</span></span>, <span style=\"color: rgb(0, 187, 0)\"><span class=\"ansi-green-fg\">0.004783115323481524</span></span>),\n",
       "      <span style=\"color: yellow\"><span class=\"ansi-yellow-fg\">Weighted</span></span>(<span style=\"color: rgb(0, 187, 0)\"><span class=\"ansi-green-fg\">ass1(n)</span></span>, <span style=\"color: rgb(0, 187, 0)\"><span class=\"ansi-green-fg\">0.0310902496026299</span></span>),\n",
       "      <span style=\"color: yellow\"><span class=\"ansi-yellow-fg\">Weighted</span></span>(<span style=\"color: rgb(0, 187, 0)\"><span class=\"ansi-green-fg\">ass1</span></span>, <span style=\"color: rgb(0, 187, 0)\"><span class=\"ansi-green-fg\">0.14547248531231058</span></span>),\n",
       "      <span style=\"color: yellow\"><span class=\"ansi-yellow-fg\">Weighted</span></span>(<span style=\"color: rgb(0, 187, 0)\"><span class=\"ansi-green-fg\">ass2(m)(mul(m)(n))</span></span>, <span style=\"color: rgb(0, 187, 0)\"><span class=\"ansi-green-fg\">0.004783115323481524</span></span>),\n",
       "      <span style=\"color: yellow\"><span class=\"ansi-yellow-fg\">Weighted</span></span>(<span style=\"color: rgb(0, 187, 0)\"><span class=\"ansi-green-fg\">ass2(mul(m)(n))</span></span>, <span style=\"color: rgb(0, 187, 0)\"><span class=\"ansi-green-fg\">0.0310902496026299</span></span>),\n",
       "      <span style=\"color: yellow\"><span class=\"ansi-yellow-fg\">Weighted</span></span>(<span style=\"color: rgb(0, 187, 0)\"><span class=\"ansi-green-fg\">ass1(m)</span></span>, <span style=\"color: rgb(0, 187, 0)\"><span class=\"ansi-green-fg\">0.0310902496026299</span></span>),\n",
       "      <span style=\"color: yellow\"><span class=\"ansi-yellow-fg\">Weighted</span></span>(<span style=\"color: rgb(0, 187, 0)\"><span class=\"ansi-green-fg\">mul(m)(n)</span></span>, <span style=\"color: rgb(0, 187, 0)\"><span class=\"ansi-green-fg\">0.14547248531231058</span></span>),\n",
       "      <span style=\"color: yellow\"><span class=\"ansi-yellow-fg\">Weighted</span></span>(<span style=\"color: rgb(0, 187, 0)\"><span class=\"ansi-green-fg\">ass2(n)(mul(m)(n))</span></span>, <span style=\"color: rgb(0, 187, 0)\"><span class=\"ansi-green-fg\">0.004783115323481524</span></span>),\n",
       "      <span style=\"color: yellow\"><span class=\"ansi-yellow-fg\">Weighted</span></span>(<span style=\"color: rgb(0, 187, 0)\"><span class=\"ansi-green-fg\">ass2(mul(m)(n))(m)</span></span>, <span style=\"color: rgb(0, 187, 0)\"><span class=\"ansi-green-fg\">0.004783115323481524</span></span>),\n",
       "      <span style=\"color: yellow\"><span class=\"ansi-yellow-fg\">Weighted</span></span>(<span style=\"color: rgb(0, 187, 0)\"><span class=\"ansi-green-fg\">ass1(n)(n)</span></span>, <span style=\"color: rgb(0, 187, 0)\"><span class=\"ansi-green-fg\">0.004783115323481524</span></span>),\n",
       "      <span style=\"color: yellow\"><span class=\"ansi-yellow-fg\">Weighted</span></span>(<span style=\"color: rgb(0, 187, 0)\"><span class=\"ansi-green-fg\">ass1(mul(m)(n))(n)</span></span>, <span style=\"color: rgb(0, 187, 0)\"><span class=\"ansi-green-fg\">0.004783115323481524</span></span>),\n",
       "      <span style=\"color: yellow\"><span class=\"ansi-yellow-fg\">Weighted</span></span>(<span style=\"color: rgb(0, 187, 0)\"><span class=\"ansi-green-fg\">n</span></span>, <span style=\"color: rgb(0, 187, 0)\"><span class=\"ansi-green-fg\">0.14547248531231058</span></span>),\n",
       "      <span style=\"color: yellow\"><span class=\"ansi-yellow-fg\">Weighted</span></span>(<span style=\"color: rgb(0, 187, 0)\"><span class=\"ansi-green-fg\">ass2(n)(n)</span></span>, <span style=\"color: rgb(0, 187, 0)\"><span class=\"ansi-green-fg\">0.004783115323481524</span></span>),\n",
       "      <span style=\"color: yellow\"><span class=\"ansi-yellow-fg\">Weighted</span></span>(<span style=\"color: rgb(0, 187, 0)\"><span class=\"ansi-green-fg\">ass1(m)(mul(m)(n))</span></span>, <span style=\"color: rgb(0, 187, 0)\"><span class=\"ansi-green-fg\">0.004783115323481524</span></span>),\n",
       "      <span style=\"color: yellow\"><span class=\"ansi-yellow-fg\">Weighted</span></span>(<span style=\"color: rgb(0, 187, 0)\"><span class=\"ansi-green-fg\">ass1(mul(m)(n))</span></span>, <span style=\"color: rgb(0, 187, 0)\"><span class=\"ansi-green-fg\">0.0310902496026299</span></span>),\n",
       "      <span style=\"color: yellow\"><span class=\"ansi-yellow-fg\">Weighted</span></span>(<span style=\"color: rgb(0, 187, 0)\"><span class=\"ansi-green-fg\">ass1(m)(m)</span></span>, <span style=\"color: rgb(0, 187, 0)\"><span class=\"ansi-green-fg\">0.004783115323481524</span></span>),\n",
       "      <span style=\"color: yellow\"><span class=\"ansi-yellow-fg\">Weighted</span></span>(<span style=\"color: rgb(0, 187, 0)\"><span class=\"ansi-green-fg\">ass1(m)(n)</span></span>, <span style=\"color: rgb(0, 187, 0)\"><span class=\"ansi-green-fg\">0.004783115323481524</span></span>),\n",
       "      <span style=\"color: yellow\"><span class=\"ansi-yellow-fg\">Weighted</span></span>(<span style=\"color: rgb(0, 187, 0)\"><span class=\"ansi-green-fg\">ass2(m)(m)</span></span>, <span style=\"color: rgb(0, 187, 0)\"><span class=\"ansi-green-fg\">0.004783115323481524</span></span>),\n",
       "      <span style=\"color: yellow\"><span class=\"ansi-yellow-fg\">Weighted</span></span>(<span style=\"color: rgb(0, 187, 0)\"><span class=\"ansi-green-fg\">ass1(mul(m)(n))(mul(m)(n))</span></span>, <span style=\"color: rgb(0, 187, 0)\"><span class=\"ansi-green-fg\">0.004783115323481524</span></span>),\n",
       "      <span style=\"color: yellow\"><span class=\"ansi-yellow-fg\">Weighted</span></span>(<span style=\"color: rgb(0, 187, 0)\"><span class=\"ansi-green-fg\">ass2(n)</span></span>, <span style=\"color: rgb(0, 187, 0)\"><span class=\"ansi-green-fg\">0.0310902496026299</span></span>)\n",
       "    )\n",
       "  )\n",
       ")</span></span></span></code></pre>\n",
       "</div>"
      ],
      "text/plain": [
       "\u001b[32mimport \u001b[39m\u001b[36mmonix.execution.Scheduler.Implicits.global\n",
       "\u001b[39m\n",
       "\u001b[36mres25_1\u001b[39m: \u001b[32mmonix\u001b[39m.\u001b[32mexecution\u001b[39m.\u001b[32mCancelableFuture\u001b[39m[\u001b[32mFiniteDistribution\u001b[39m[\u001b[32mTerm\u001b[39m]] = \u001b[32m\u001b[33mSuccess\u001b[39m(\n",
       "  \u001b[33mFiniteDistribution\u001b[39m(\n",
       "    \u001b[33mVector\u001b[39m(\n",
       "      \u001b[33mWeighted\u001b[39m(\u001b[32mass2(m)(n)\u001b[39m, \u001b[32m0.004783115323481524\u001b[39m),\n",
       "      \u001b[33mWeighted\u001b[39m(\u001b[32mass2(n)(m)\u001b[39m, \u001b[32m0.004783115323481524\u001b[39m),\n",
       "      \u001b[33mWeighted\u001b[39m(\u001b[32mass2\u001b[39m, \u001b[32m0.14547248531231058\u001b[39m),\n",
       "      \u001b[33mWeighted\u001b[39m(\u001b[32mass2(mul(m)(n))(mul(m)(n))\u001b[39m, \u001b[32m0.004783115323481524\u001b[39m),\n",
       "      \u001b[33mWeighted\u001b[39m(\u001b[32mass1(mul(m)(n))(m)\u001b[39m, \u001b[32m0.004783115323481524\u001b[39m),\n",
       "      \u001b[33mWeighted\u001b[39m(\u001b[32mass2(mul(m)(n))(n)\u001b[39m, \u001b[32m0.004783115323481524\u001b[39m),\n",
       "      \u001b[33mWeighted\u001b[39m(\u001b[32mass1(n)(mul(m)(n))\u001b[39m, \u001b[32m0.004783115323481524\u001b[39m),\n",
       "      \u001b[33mWeighted\u001b[39m(\u001b[32mass2(m)\u001b[39m, \u001b[32m0.0310902496026299\u001b[39m),\n",
       "      \u001b[33mWeighted\u001b[39m(\u001b[32mm\u001b[39m, \u001b[32m0.14547248531231058\u001b[39m),\n",
       "      \u001b[33mWeighted\u001b[39m(\u001b[32mass1(n)(m)\u001b[39m, \u001b[32m0.004783115323481524\u001b[39m),\n",
       "      \u001b[33mWeighted\u001b[39m(\u001b[32mass1(n)\u001b[39m, \u001b[32m0.0310902496026299\u001b[39m),\n",
       "      \u001b[33mWeighted\u001b[39m(\u001b[32mass1\u001b[39m, \u001b[32m0.14547248531231058\u001b[39m),\n",
       "      \u001b[33mWeighted\u001b[39m(\u001b[32mass2(m)(mul(m)(n))\u001b[39m, \u001b[32m0.004783115323481524\u001b[39m),\n",
       "      \u001b[33mWeighted\u001b[39m(\u001b[32mass2(mul(m)(n))\u001b[39m, \u001b[32m0.0310902496026299\u001b[39m),\n",
       "      \u001b[33mWeighted\u001b[39m(\u001b[32mass1(m)\u001b[39m, \u001b[32m0.0310902496026299\u001b[39m),\n",
       "      \u001b[33mWeighted\u001b[39m(\u001b[32mmul(m)(n)\u001b[39m, \u001b[32m0.14547248531231058\u001b[39m),\n",
       "      \u001b[33mWeighted\u001b[39m(\u001b[32mass2(n)(mul(m)(n))\u001b[39m, \u001b[32m0.004783115323481524\u001b[39m),\n",
       "      \u001b[33mWeighted\u001b[39m(\u001b[32mass2(mul(m)(n))(m)\u001b[39m, \u001b[32m0.004783115323481524\u001b[39m),\n",
       "      \u001b[33mWeighted\u001b[39m(\u001b[32mass1(n)(n)\u001b[39m, \u001b[32m0.004783115323481524\u001b[39m),\n",
       "      \u001b[33mWeighted\u001b[39m(\u001b[32mass1(mul(m)(n))(n)\u001b[39m, \u001b[32m0.004783115323481524\u001b[39m),\n",
       "      \u001b[33mWeighted\u001b[39m(\u001b[32mn\u001b[39m, \u001b[32m0.14547248531231058\u001b[39m),\n",
       "      \u001b[33mWeighted\u001b[39m(\u001b[32mass2(n)(n)\u001b[39m, \u001b[32m0.004783115323481524\u001b[39m),\n",
       "      \u001b[33mWeighted\u001b[39m(\u001b[32mass1(m)(mul(m)(n))\u001b[39m, \u001b[32m0.004783115323481524\u001b[39m),\n",
       "      \u001b[33mWeighted\u001b[39m(\u001b[32mass1(mul(m)(n))\u001b[39m, \u001b[32m0.0310902496026299\u001b[39m),\n",
       "      \u001b[33mWeighted\u001b[39m(\u001b[32mass1(m)(m)\u001b[39m, \u001b[32m0.004783115323481524\u001b[39m),\n",
       "      \u001b[33mWeighted\u001b[39m(\u001b[32mass1(m)(n)\u001b[39m, \u001b[32m0.004783115323481524\u001b[39m),\n",
       "      \u001b[33mWeighted\u001b[39m(\u001b[32mass2(m)(m)\u001b[39m, \u001b[32m0.004783115323481524\u001b[39m),\n",
       "      \u001b[33mWeighted\u001b[39m(\u001b[32mass1(mul(m)(n))(mul(m)(n))\u001b[39m, \u001b[32m0.004783115323481524\u001b[39m),\n",
       "      \u001b[33mWeighted\u001b[39m(\u001b[32mass2(n)\u001b[39m, \u001b[32m0.0310902496026299\u001b[39m)\n",
       "    )\n",
       "  )\n",
       ")\u001b[39m"
      ]
     },
     "metadata": {},
     "output_type": "display_data"
    }
   ],
   "source": [
    "import monix.execution.Scheduler.Implicits.global\n",
    "terms1T.runToFuture"
   ]
  },
  {
   "cell_type": "code",
   "execution_count": 28,
   "metadata": {},
   "outputs": [
    {
     "data": {
      "text/html": [
       "<div class=\"jp-RenderedText\">\n",
       "<pre><code><span style=\"color: rgb(0, 187, 187)\"><span class=\"ansi-cyan-fg\">f1</span></span>: <span style=\"color: rgb(0, 187, 0)\"><span class=\"ansi-green-fg\">monix</span></span>.<span style=\"color: rgb(0, 187, 0)\"><span class=\"ansi-green-fg\">execution</span></span>.<span style=\"color: rgb(0, 187, 0)\"><span class=\"ansi-green-fg\">CancelableFuture</span></span>[<span style=\"color: rgb(0, 187, 0)\"><span class=\"ansi-green-fg\">Vector</span></span>[(<span style=\"color: rgb(0, 187, 0)\"><span class=\"ansi-green-fg\">Typ</span></span>[<span style=\"color: rgb(0, 187, 0)\"><span class=\"ansi-green-fg\">Term</span></span>], <span style=\"color: rgb(0, 187, 0)\"><span class=\"ansi-green-fg\">Int</span></span>)]] = <span style=\"color: rgb(0, 187, 0)\"><span class=\"ansi-green-fg\"><span style=\"color: yellow\"><span class=\"ansi-yellow-fg\">Success</span></span>(\n",
       "  <span style=\"color: yellow\"><span class=\"ansi-yellow-fg\">Vector</span></span>(\n",
       "    (<span style=\"color: rgb(0, 187, 0)\"><span class=\"ansi-green-fg\">eqM(mul(mul(m)(n))(n))(m)</span></span>, <span style=\"color: rgb(0, 187, 0)\"><span class=\"ansi-green-fg\">1</span></span>),\n",
       "    (<span style=\"color: rgb(0, 187, 0)\"><span class=\"ansi-green-fg\">eqM(mul(mul(m)(n))(mul(mul(m)(n))(n)))(n)</span></span>, <span style=\"color: rgb(0, 187, 0)\"><span class=\"ansi-green-fg\">2</span></span>),\n",
       "    (<span style=\"color: rgb(0, 187, 0)\"><span class=\"ansi-green-fg\">eqM(mul(mul(mul(m)(n))(m))(m))(mul(m)(n))</span></span>, <span style=\"color: rgb(0, 187, 0)\"><span class=\"ansi-green-fg\">5</span></span>)\n",
       "  )\n",
       ")</span></span></code></pre>\n",
       "</div>"
      ],
      "text/plain": [
       "\u001b[36mf1\u001b[39m: \u001b[32mmonix\u001b[39m.\u001b[32mexecution\u001b[39m.\u001b[32mCancelableFuture\u001b[39m[\u001b[32mVector\u001b[39m[(\u001b[32mTyp\u001b[39m[\u001b[32mTerm\u001b[39m], \u001b[32mInt\u001b[39m)]] = \u001b[32m\u001b[33mSuccess\u001b[39m(\n",
       "  \u001b[33mVector\u001b[39m(\n",
       "    (\u001b[32meqM(mul(mul(m)(n))(n))(m)\u001b[39m, \u001b[32m1\u001b[39m),\n",
       "    (\u001b[32meqM(mul(mul(m)(n))(mul(mul(m)(n))(n)))(n)\u001b[39m, \u001b[32m2\u001b[39m),\n",
       "    (\u001b[32meqM(mul(mul(mul(m)(n))(m))(m))(mul(m)(n))\u001b[39m, \u001b[32m5\u001b[39m)\n",
       "  )\n",
       ")\u001b[39m"
      ]
     },
     "metadata": {},
     "output_type": "display_data"
    }
   ],
   "source": [
    "val f1 = r1.runToFuture"
   ]
  },
  {
   "cell_type": "markdown",
   "metadata": {},
   "source": [
    "## Interim conclusion\n",
    "\n",
    "We see that all the instantiation lemmas have been obtained."
   ]
  },
  {
   "cell_type": "code",
   "execution_count": 35,
   "metadata": {},
   "outputs": [
    {
     "data": {
      "text/plain": [
       "\u001b[36mlp2\u001b[39m: \u001b[32mLocalProverStep\u001b[39m = \u001b[33mLocalProver\u001b[39m(\n",
       "  \u001b[33mTermState\u001b[39m(\n",
       "    \u001b[33mFiniteDistribution\u001b[39m(\n",
       "      \u001b[33mVector\u001b[39m(\n",
       "        \u001b[33mWeighted\u001b[39m(\u001b[32mm\u001b[39m, \u001b[32m0.14285714285714285\u001b[39m),\n",
       "        \u001b[33mWeighted\u001b[39m(\u001b[32msym\u001b[39m, \u001b[32m0.14285714285714285\u001b[39m),\n",
       "        \u001b[33mWeighted\u001b[39m(\u001b[32mmul(m)(n)\u001b[39m, \u001b[32m0.14285714285714285\u001b[39m),\n",
       "        \u001b[33mWeighted\u001b[39m(\u001b[32mleft-multiply\u001b[39m, \u001b[32m0.14285714285714285\u001b[39m),\n",
       "        \u001b[33mWeighted\u001b[39m(\u001b[32mass2(mul(m)(n))(n)\u001b[39m, \u001b[32m0.14285714285714285\u001b[39m),\n",
       "        \u001b[33mWeighted\u001b[39m(\u001b[32mn\u001b[39m, \u001b[32m0.14285714285714285\u001b[39m),\n",
       "        \u001b[33mWeighted\u001b[39m(\u001b[32mass1(m)(n)\u001b[39m, \u001b[32m0.14285714285714285\u001b[39m)\n",
       "      )\n",
       "    ),\n",
       "    \u001b[33mFiniteDistribution\u001b[39m(\u001b[33mVector\u001b[39m()),\n",
       "    \u001b[33mVector\u001b[39m(),\n",
       "    \u001b[33mFiniteDistribution\u001b[39m(\u001b[33mVector\u001b[39m()),\n",
       "    \u001b[33mFiniteDistribution\u001b[39m(\u001b[33mVector\u001b[39m()),\n",
       "    Empty\n",
       "  ),\n",
       "  \u001b[33mTermGenParams\u001b[39m(\n",
       "    \u001b[32m0.1\u001b[39m,\n",
       "    \u001b[32m0.1\u001b[39m,\n",
       "    \u001b[32m0.1\u001b[39m,\n",
       "    \u001b[32m0.0\u001b[39m,\n",
       "    \u001b[32m0.0\u001b[39m,\n",
       "    \u001b[32m0.05\u001b[39m,\n",
       "    \u001b[32m0.05\u001b[39m,\n",
       "    \u001b[32m0.0\u001b[39m,\n",
       "    \u001b[32m0.0\u001b[39m,\n",
       "    \u001b[32m0.0\u001b[39m,\n",
       "    \u001b[32m0.0\u001b[39m,\n",
       "    \u001b[32m0.0\u001b[39m,\n",
       "    \u001b[32m0.3\u001b[39m,\n",
       "    \u001b[32m0.7\u001b[39m,\n",
       "    \u001b[32m0.5\u001b[39m,\n",
       "    \u001b[32m0.0\u001b[39m,\n",
       "    \u001b[32m0.0\u001b[39m,\n",
       "    \u001b[32m0.0\u001b[39m,\n",
       "    \u001b[33mOrElse\u001b[39m(\n",
       "..."
      ]
     },
     "execution_count": 35,
     "metadata": {},
     "output_type": "execute_result"
    }
   ],
   "source": [
    "val lp2 = LocalProver(TermState(FiniteDistribution.unif(pf1, pf2, sym, leftMul, m, n, mn), FiniteDistribution.empty)).noIsles.sharpen(10)"
   ]
  },
  {
   "cell_type": "code",
   "execution_count": 36,
   "metadata": {},
   "outputs": [
    {
     "data": {
      "text/plain": [
       "\u001b[36mterms2T\u001b[39m: \u001b[32mmonix\u001b[39m.\u001b[32meval\u001b[39m.\u001b[32mTask\u001b[39m[\u001b[32mFiniteDistribution\u001b[39m[\u001b[32mTerm\u001b[39m]] = \u001b[33mAsync\u001b[39m(\n",
       "  <function2>,\n",
       "  false,\n",
       "  true,\n",
       "  true\n",
       ")\n",
       "\u001b[36mr2\u001b[39m: \u001b[32mmonix\u001b[39m.\u001b[32meval\u001b[39m.\u001b[32mTask\u001b[39m[\u001b[32mVector\u001b[39m[(\u001b[32mTyp\u001b[39m[\u001b[32mTerm\u001b[39m], \u001b[32mInt\u001b[39m)]] = \u001b[33mAsync\u001b[39m(\n",
       "  <function2>,\n",
       "  false,\n",
       "  true,\n",
       "  true\n",
       ")"
      ]
     },
     "execution_count": 36,
     "metadata": {},
     "output_type": "execute_result"
    }
   ],
   "source": [
    "val terms2T = lp2.nextState.map(_.terms).memoize\n",
    "val r2 = terms2T.map(fd => results.zipWithIndex.filter{case (tp, n) => fd.map(_.typ)(tp) > 0}).memoize"
   ]
  },
  {
   "cell_type": "code",
   "execution_count": 37,
   "metadata": {},
   "outputs": [
    {
     "data": {
      "text/html": [
       "<div class=\"jp-RenderedText\">\n",
       "<pre><code><span style=\"color: rgb(0, 187, 187)\"><span class=\"ansi-cyan-fg\">res36</span></span>: <span style=\"color: rgb(0, 187, 0)\"><span class=\"ansi-green-fg\">monix</span></span>.<span style=\"color: rgb(0, 187, 0)\"><span class=\"ansi-green-fg\">execution</span></span>.<span style=\"color: rgb(0, 187, 0)\"><span class=\"ansi-green-fg\">CancelableFuture</span></span>[<span style=\"color: rgb(0, 187, 0)\"><span class=\"ansi-green-fg\">FiniteDistribution</span></span>[<span style=\"color: rgb(0, 187, 0)\"><span class=\"ansi-green-fg\">Term</span></span>]] = <span style=\"color: rgb(0, 187, 0)\"><span class=\"ansi-green-fg\"><style>@keyframes fadein { from { opacity: 0; } to { opacity: 1; } }</style><span style=\"animation: fadein 2s;\"><span style=\"color: yellow\"><span class=\"ansi-yellow-fg\">Success</span></span>(\n",
       "  <span style=\"color: yellow\"><span class=\"ansi-yellow-fg\">FiniteDistribution</span></span>(\n",
       "    <span style=\"color: yellow\"><span class=\"ansi-yellow-fg\">Vector</span></span>(\n",
       "      <span style=\"color: yellow\"><span class=\"ansi-yellow-fg\">Weighted</span></span>(\n",
       "        <span style=\"color: rgb(0, 187, 0)\"><span class=\"ansi-green-fg\">left-multiply(mul(m)(n))(mul(m)(mul(mul(m)(n))(n)))(mul(m)(m))(left-multiply(m)(mul(mul(m)(n))(n))(m)(ass1(m)(n)))</span></span>,\n",
       "        <span style=\"color: rgb(0, 187, 0)\"><span class=\"ansi-green-fg\">2.7452344117454103E-5</span></span>\n",
       "      ),\n",
       "      <span style=\"color: yellow\"><span class=\"ansi-yellow-fg\">Weighted</span></span>(\n",
       "        <span style=\"color: rgb(0, 187, 0)\"><span class=\"ansi-green-fg\">left-multiply(m)(mul(n)(mul(mul(m)(n))(mul(mul(m)(n))(n))))(mul(n)(n))(left-multiply(n)(mul(mul(m)(n))(mul(mul(m)(n))(n)))(n)(ass2(mul(m)(n))(n)))</span></span>,\n",
       "        <span style=\"color: rgb(0, 187, 0)\"><span class=\"ansi-green-fg\">2.7452344117454103E-5</span></span>\n",
       "      ),\n",
       "      <span style=\"color: yellow\"><span class=\"ansi-yellow-fg\">Weighted</span></span>(<span style=\"color: rgb(0, 187, 0)\"><span class=\"ansi-green-fg\">left-multiply(m)(mul(m)(n))(mul(m)(n))</span></span>, <span style=\"color: rgb(0, 187, 0)\"><span class=\"ansi-green-fg\">3.474179475113762E-4</span></span>),\n",
       "      <span style=\"color: yellow\"><span class=\"ansi-yellow-fg\">Weighted</span></span>(<span style=\"color: rgb(0, 187, 0)\"><span class=\"ansi-green-fg\">sym(n)</span></span>, <span style=\"color: rgb(0, 187, 0)\"><span class=\"ansi-green-fg\">0.02545874161242886</span></span>),\n",
       "      <span style=\"color: yellow\"><span class=\"ansi-yellow-fg\">Weighted</span></span>(<span style=\"color: rgb(0, 187, 0)\"><span class=\"ansi-green-fg\">left-multiply(m)(mul(m)(n))(m)</span></span>, <span style=\"color: rgb(0, 187, 0)\"><span class=\"ansi-green-fg\">3.474179475113762E-4</span></span>),\n",
       "      <span style=\"color: yellow\"><span class=\"ansi-yellow-fg\">Weighted</span></span>(\n",
       "        <span style=\"color: rgb(0, 187, 0)\"><span class=\"ansi-green-fg\">($dqipfo : M) ↦ left-multiply($dqipfo)(mul(n)(m))(mul(n)(mul(mul(m)(n))(n)))(sym(mul(n)(mul(mul(m)(n))(n)))(mul(n)(m))(left-multiply(n)(mul(mul(m)(n))(n))(m)(ass1(m)(n))))</span></span>,\n",
       "        <span style=\"color: rgb(0, 187, 0)\"><span class=\"ansi-green-fg\">1.173307594943542E-5</span></span>\n",
       "      ),\n",
       "      <span style=\"color: yellow\"><span class=\"ansi-yellow-fg\">Weighted</span></span>(\n",
       "        <span style=\"color: rgb(0, 187, 0)\"><span class=\"ansi-green-fg\">($dqmafi : M) ↦ left-multiply($dqmafi)(mul(m)(n))(mul(m)(mul(mul(m)(n))(mul(mul(m)(n))(n))))(sym(mul(m)(mul(mul(m)(n))(mul(mul(m)(n))(n))))(mul(m)(n))(left-multiply(m)(mul(mul(m)(n))(mul(mul(m)(n))(n)))(n)(ass2(mul(m)(n))(n))))</span></span>,\n",
       "        <span style=\"color: rgb(0, 187, 0)\"><span class=\"ansi-green-fg\">1.173307594943542E-5</span></span>\n",
       "      ),\n",
       "      <span style=\"color: yellow\"><span class=\"ansi-yellow-fg\">Weighted</span></span>(\n",
       "        <span style=\"color: rgb(0, 187, 0)\"><span class=\"ansi-green-fg\">($dqjwsl : M) ↦ left-multiply($dqjwsl)(m)(mul(mul(m)(n))(n))(sym(mul(mul(m)(n))(n))(m)(ass1(m)(n)))</span></span>,\n",
       "        <span style=\"color: rgb(0, 187, 0)\"><span class=\"ansi-green-fg\">6.388242991422009E-4</span></span>\n",
       "      ),\n",
       "      <span style=\"color: yellow\"><span class=\"ansi-yellow-fg\">Weighted</span></span>(\n",
       "        <span style=\"color: rgb(0, 187, 0)\"><span class=\"ansi-green-fg\">left-multiply(m)(mul(mul(m)(n))(n))(m)(ass1(m)(n))</span></span>,\n",
       "        <span style=\"color: rgb(0, 187, 0)\"><span class=\"ansi-green-fg\">0.0016054880017643911</span></span>\n",
       "      ),\n",
       "      <span style=\"color: yellow\"><span class=\"ansi-yellow-fg\">Weighted</span></span>(<span style=\"color: rgb(0, 187, 0)\"><span class=\"ansi-green-fg\">sym(m)(m)</span></span>, <span style=\"color: rgb(0, 187, 0)\"><span class=\"ansi-green-fg\">0.0026653585888665914</span></span>),\n",
       "      <span style=\"color: yellow\"><span class=\"ansi-yellow-fg\">Weighted</span></span>(\n",
       "...</span></span></span></code></pre>\n",
       "</div>"
      ],
      "text/plain": [
       "\u001b[36mres36\u001b[39m: \u001b[32mmonix\u001b[39m.\u001b[32mexecution\u001b[39m.\u001b[32mCancelableFuture\u001b[39m[\u001b[32mFiniteDistribution\u001b[39m[\u001b[32mTerm\u001b[39m]] = \u001b[32m\u001b[33mSuccess\u001b[39m(\n",
       "  \u001b[33mFiniteDistribution\u001b[39m(\n",
       "    \u001b[33mVector\u001b[39m(\n",
       "      \u001b[33mWeighted\u001b[39m(\n",
       "        \u001b[32mleft-multiply(mul(m)(n))(mul(m)(mul(mul(m)(n))(n)))(mul(m)(m))(left-multiply(m)(mul(mul(m)(n))(n))(m)(ass1(m)(n)))\u001b[39m,\n",
       "        \u001b[32m2.7452344117454103E-5\u001b[39m\n",
       "      ),\n",
       "      \u001b[33mWeighted\u001b[39m(\n",
       "        \u001b[32mleft-multiply(m)(mul(n)(mul(mul(m)(n))(mul(mul(m)(n))(n))))(mul(n)(n))(left-multiply(n)(mul(mul(m)(n))(mul(mul(m)(n))(n)))(n)(ass2(mul(m)(n))(n)))\u001b[39m,\n",
       "        \u001b[32m2.7452344117454103E-5\u001b[39m\n",
       "      ),\n",
       "      \u001b[33mWeighted\u001b[39m(\u001b[32mleft-multiply(m)(mul(m)(n))(mul(m)(n))\u001b[39m, \u001b[32m3.474179475113762E-4\u001b[39m),\n",
       "      \u001b[33mWeighted\u001b[39m(\u001b[32msym(n)\u001b[39m, \u001b[32m0.02545874161242886\u001b[39m),\n",
       "      \u001b[33mWeighted\u001b[39m(\u001b[32mleft-multiply(m)(mul(m)(n))(m)\u001b[39m, \u001b[32m3.474179475113762E-4\u001b[39m),\n",
       "      \u001b[33mWeighted\u001b[39m(\n",
       "        \u001b[32m($dqipfo : M) ↦ left-multiply($dqipfo)(mul(n)(m))(mul(n)(mul(mul(m)(n))(n)))(sym(mul(n)(mul(mul(m)(n))(n)))(mul(n)(m))(left-multiply(n)(mul(mul(m)(n))(n))(m)(ass1(m)(n))))\u001b[39m,\n",
       "        \u001b[32m1.173307594943542E-5\u001b[39m\n",
       "      ),\n",
       "      \u001b[33mWeighted\u001b[39m(\n",
       "        \u001b[32m($dqmafi : M) ↦ left-multiply($dqmafi)(mul(m)(n))(mul(m)(mul(mul(m)(n))(mul(mul(m)(n))(n))))(sym(mul(m)(mul(mul(m)(n))(mul(mul(m)(n))(n))))(mul(m)(n))(left-multiply(m)(mul(mul(m)(n))(mul(mul(m)(n))(n)))(n)(ass2(mul(m)(n))(n))))\u001b[39m,\n",
       "        \u001b[32m1.173307594943542E-5\u001b[39m\n",
       "      ),\n",
       "      \u001b[33mWeighted\u001b[39m(\n",
       "        \u001b[32m($dqjwsl : M) ↦ left-multiply($dqjwsl)(m)(mul(mul(m)(n))(n))(sym(mul(mul(m)(n))(n))(m)(ass1(m)(n)))\u001b[39m,\n",
       "        \u001b[32m6.388242991422009E-4\u001b[39m\n",
       "      ),\n",
       "      \u001b[33mWeighted\u001b[39m(\n",
       "        \u001b[32mleft-multiply(m)(mul(mul(m)(n))(n))(m)(ass1(m)(n))\u001b[39m,\n",
       "        \u001b[32m0.0016054880017643911\u001b[39m\n",
       "      ),\n",
       "      \u001b[33mWeighted\u001b[39m(\u001b[32msym(m)(m)\u001b[39m, \u001b[32m0.0026653585888665914\u001b[39m),\n",
       "      \u001b[33mWeighted\u001b[39m(\n",
       "...\u001b[39m"
      ]
     },
     "metadata": {},
     "output_type": "display_data"
    }
   ],
   "source": [
    "terms2T.runToFuture"
   ]
  },
  {
   "cell_type": "code",
   "execution_count": 38,
   "metadata": {},
   "outputs": [
    {
     "data": {
      "text/html": [
       "<div class=\"jp-RenderedText\">\n",
       "<pre><code><span style=\"color: rgb(0, 187, 187)\"><span class=\"ansi-cyan-fg\">f2</span></span>: <span style=\"color: rgb(0, 187, 0)\"><span class=\"ansi-green-fg\">monix</span></span>.<span style=\"color: rgb(0, 187, 0)\"><span class=\"ansi-green-fg\">execution</span></span>.<span style=\"color: rgb(0, 187, 0)\"><span class=\"ansi-green-fg\">CancelableFuture</span></span>[<span style=\"color: rgb(0, 187, 0)\"><span class=\"ansi-green-fg\">Vector</span></span>[(<span style=\"color: rgb(0, 187, 0)\"><span class=\"ansi-green-fg\">Typ</span></span>[<span style=\"color: rgb(0, 187, 0)\"><span class=\"ansi-green-fg\">Term</span></span>], <span style=\"color: rgb(0, 187, 0)\"><span class=\"ansi-green-fg\">Int</span></span>)]] = <span style=\"color: rgb(0, 187, 0)\"><span class=\"ansi-green-fg\"><style>@keyframes fadein { from { opacity: 0; } to { opacity: 1; } }</style><span style=\"animation: fadein 2s;\"><span style=\"color: yellow\"><span class=\"ansi-yellow-fg\">Success</span></span>(\n",
       "  <span style=\"color: yellow\"><span class=\"ansi-yellow-fg\">Vector</span></span>(\n",
       "    (<span style=\"color: rgb(0, 187, 0)\"><span class=\"ansi-green-fg\">eqM(mul(mul(m)(n))(n))(m)</span></span>, <span style=\"color: rgb(0, 187, 0)\"><span class=\"ansi-green-fg\">1</span></span>),\n",
       "    (<span style=\"color: rgb(0, 187, 0)\"><span class=\"ansi-green-fg\">eqM(mul(mul(m)(n))(mul(mul(m)(n))(n)))(n)</span></span>, <span style=\"color: rgb(0, 187, 0)\"><span class=\"ansi-green-fg\">2</span></span>),\n",
       "    (<span style=\"color: rgb(0, 187, 0)\"><span class=\"ansi-green-fg\">eqM(n)(mul(mul(m)(n))(mul(mul(m)(n))(n)))</span></span>, <span style=\"color: rgb(0, 187, 0)\"><span class=\"ansi-green-fg\">3</span></span>),\n",
       "    (<span style=\"color: rgb(0, 187, 0)\"><span class=\"ansi-green-fg\">eqM(mul(mul(m)(n))(mul(mul(m)(n))(n)))(mul(mul(m)(n))(m))</span></span>, <span style=\"color: rgb(0, 187, 0)\"><span class=\"ansi-green-fg\">4</span></span>)\n",
       "  )\n",
       ")</span></span></span></code></pre>\n",
       "</div>"
      ],
      "text/plain": [
       "\u001b[36mf2\u001b[39m: \u001b[32mmonix\u001b[39m.\u001b[32mexecution\u001b[39m.\u001b[32mCancelableFuture\u001b[39m[\u001b[32mVector\u001b[39m[(\u001b[32mTyp\u001b[39m[\u001b[32mTerm\u001b[39m], \u001b[32mInt\u001b[39m)]] = \u001b[32m\u001b[33mSuccess\u001b[39m(\n",
       "  \u001b[33mVector\u001b[39m(\n",
       "    (\u001b[32meqM(mul(mul(m)(n))(n))(m)\u001b[39m, \u001b[32m1\u001b[39m),\n",
       "    (\u001b[32meqM(mul(mul(m)(n))(mul(mul(m)(n))(n)))(n)\u001b[39m, \u001b[32m2\u001b[39m),\n",
       "    (\u001b[32meqM(n)(mul(mul(m)(n))(mul(mul(m)(n))(n)))\u001b[39m, \u001b[32m3\u001b[39m),\n",
       "    (\u001b[32meqM(mul(mul(m)(n))(mul(mul(m)(n))(n)))(mul(mul(m)(n))(m))\u001b[39m, \u001b[32m4\u001b[39m)\n",
       "  )\n",
       ")\u001b[39m"
      ]
     },
     "metadata": {},
     "output_type": "display_data"
    }
   ],
   "source": [
    "// val r2 = terms2T.map(fd => results.zipWithIndex.filter{case (tp, n) => fd.map(_.typ)(tp) > 0}).memoize\n",
    "val f2 = r2.runToFuture"
   ]
  },
  {
   "cell_type": "markdown",
   "metadata": {},
   "source": [
    "The consequences 3 and 4 were found with moderately focussed generation. We next try using transitivity. This will be very focussed but with a lower cutoff."
   ]
  },
  {
   "cell_type": "code",
   "execution_count": 39,
   "metadata": {},
   "outputs": [
    {
     "data": {
      "text/plain": [
       "\u001b[36mlp3\u001b[39m: \u001b[32mLocalProver\u001b[39m = \u001b[33mLocalProver\u001b[39m(\n",
       "  \u001b[33mTermState\u001b[39m(\n",
       "    \u001b[33mFiniteDistribution\u001b[39m(\n",
       "      \u001b[33mVector\u001b[39m(\n",
       "        \u001b[33mWeighted\u001b[39m(\n",
       "          \u001b[32msym(mul(mul(m)(n))(mul(mul(m)(n))(n)))(n)(ass2(mul(m)(n))(n))\u001b[39m,\n",
       "          \u001b[32m0.3333333333333333\u001b[39m\n",
       "        ),\n",
       "        \u001b[33mWeighted\u001b[39m(\n",
       "          \u001b[32mleft-multiply(mul(m)(n))(mul(mul(m)(n))(n))(m)(ass1(m)(n))\u001b[39m,\n",
       "          \u001b[32m0.3333333333333333\u001b[39m\n",
       "        ),\n",
       "        \u001b[33mWeighted\u001b[39m(\u001b[32mtrans\u001b[39m, \u001b[32m0.3333333333333333\u001b[39m)\n",
       "      )\n",
       "    ),\n",
       "    \u001b[33mFiniteDistribution\u001b[39m(\u001b[33mVector\u001b[39m()),\n",
       "    \u001b[33mVector\u001b[39m(),\n",
       "    \u001b[33mFiniteDistribution\u001b[39m(\u001b[33mVector\u001b[39m()),\n",
       "    \u001b[33mFiniteDistribution\u001b[39m(\u001b[33mVector\u001b[39m()),\n",
       "    Empty\n",
       "  ),\n",
       "  \u001b[33mTermGenParams\u001b[39m(\n",
       "    \u001b[32m0.1\u001b[39m,\n",
       "    \u001b[32m0.1\u001b[39m,\n",
       "    \u001b[32m0.1\u001b[39m,\n",
       "    \u001b[32m0.0\u001b[39m,\n",
       "    \u001b[32m0.0\u001b[39m,\n",
       "    \u001b[32m0.05\u001b[39m,\n",
       "    \u001b[32m0.05\u001b[39m,\n",
       "    \u001b[32m0.0\u001b[39m,\n",
       "    \u001b[32m0.0\u001b[39m,\n",
       "    \u001b[32m0.0\u001b[39m,\n",
       "    \u001b[32m0.0\u001b[39m,\n",
       "    \u001b[32m0.0\u001b[39m,\n",
       "    \u001b[32m0.3\u001b[39m,\n",
       "    \u001b[32m0.7\u001b[39m,\n",
       "    \u001b[32m0.5\u001b[39m,\n",
       "    \u001b[32m0.0\u001b[39m,\n",
       "    \u001b[32m0.0\u001b[39m,\n",
       "..."
      ]
     },
     "execution_count": 39,
     "metadata": {},
     "output_type": "execute_result"
    }
   ],
   "source": [
    "val lp3 = LocalProver(TermState(FiniteDistribution.unif(pf3, pf4, trans), FiniteDistribution.empty)).noIsles"
   ]
  },
  {
   "cell_type": "code",
   "execution_count": 40,
   "metadata": {},
   "outputs": [
    {
     "data": {
      "text/plain": [
       "\u001b[36mterms3T\u001b[39m: \u001b[32mmonix\u001b[39m.\u001b[32meval\u001b[39m.\u001b[32mTask\u001b[39m[\u001b[32mFiniteDistribution\u001b[39m[\u001b[32mTerm\u001b[39m]] = \u001b[33mAsync\u001b[39m(\n",
       "  <function2>,\n",
       "  false,\n",
       "  true,\n",
       "  true\n",
       ")\n",
       "\u001b[36mr3\u001b[39m: \u001b[32mmonix\u001b[39m.\u001b[32meval\u001b[39m.\u001b[32mTask\u001b[39m[\u001b[32mVector\u001b[39m[(\u001b[32mTyp\u001b[39m[\u001b[32mTerm\u001b[39m], \u001b[32mInt\u001b[39m)]] = \u001b[33mAsync\u001b[39m(\n",
       "  <function2>,\n",
       "  false,\n",
       "  true,\n",
       "  true\n",
       ")"
      ]
     },
     "execution_count": 40,
     "metadata": {},
     "output_type": "execute_result"
    }
   ],
   "source": [
    "val terms3T = lp3.nextState.map(_.terms).memoize\n",
    "val r3 = terms3T.map(fd => results.zipWithIndex.filter{case (tp, n) => fd.map(_.typ)(tp) > 0}).memoize"
   ]
  },
  {
   "cell_type": "code",
   "execution_count": 41,
   "metadata": {},
   "outputs": [
    {
     "data": {
      "text/html": [
       "<div class=\"jp-RenderedText\">\n",
       "<pre><code><span style=\"color: rgb(0, 187, 187)\"><span class=\"ansi-cyan-fg\">res40</span></span>: <span style=\"color: rgb(0, 187, 0)\"><span class=\"ansi-green-fg\">monix</span></span>.<span style=\"color: rgb(0, 187, 0)\"><span class=\"ansi-green-fg\">execution</span></span>.<span style=\"color: rgb(0, 187, 0)\"><span class=\"ansi-green-fg\">CancelableFuture</span></span>[<span style=\"color: rgb(0, 187, 0)\"><span class=\"ansi-green-fg\">FiniteDistribution</span></span>[<span style=\"color: rgb(0, 187, 0)\"><span class=\"ansi-green-fg\">Term</span></span>]] = <span style=\"color: rgb(0, 187, 0)\"><span class=\"ansi-green-fg\"><style>@keyframes fadein { from { opacity: 0; } to { opacity: 1; } }</style><span style=\"animation: fadein 2s;\"><span style=\"color: yellow\"><span class=\"ansi-yellow-fg\">Success</span></span>(\n",
       "  <span style=\"color: yellow\"><span class=\"ansi-yellow-fg\">FiniteDistribution</span></span>(\n",
       "    <span style=\"color: yellow\"><span class=\"ansi-yellow-fg\">Vector</span></span>(\n",
       "      <span style=\"color: yellow\"><span class=\"ansi-yellow-fg\">Weighted</span></span>(\n",
       "        <span style=\"color: rgb(0, 187, 0)\"><span class=\"ansi-green-fg\">sym(mul(mul(m)(n))(mul(mul(m)(n))(n)))(n)(ass2(mul(m)(n))(n))</span></span>,\n",
       "        <span style=\"color: rgb(0, 187, 0)\"><span class=\"ansi-green-fg\">0.28888888888888886</span></span>\n",
       "      ),\n",
       "      <span style=\"color: yellow\"><span class=\"ansi-yellow-fg\">Weighted</span></span>(\n",
       "        <span style=\"color: rgb(0, 187, 0)\"><span class=\"ansi-green-fg\">($fpaqdt : M) ↦ trans(n)(mul(mul(m)(n))(m))($fpaqdt)(trans(n)(mul(mul(m)(n))(mul(mul(m)(n))(n)))(mul(mul(m)(n))(m))(sym(mul(mul(m)(n))(mul(mul(m)(n))(n)))(n)(ass2(mul(m)(n))(n)))(left-multiply(mul(m)(n))(mul(mul(m)(n))(n))(m)(ass1(m)(n))))</span></span>,\n",
       "        <span style=\"color: rgb(0, 187, 0)\"><span class=\"ansi-green-fg\">0.00108843537414966</span></span>\n",
       "      ),\n",
       "      <span style=\"color: yellow\"><span class=\"ansi-yellow-fg\">Weighted</span></span>(\n",
       "        <span style=\"color: rgb(0, 187, 0)\"><span class=\"ansi-green-fg\">left-multiply(mul(m)(n))(mul(mul(m)(n))(n))(m)(ass1(m)(n))</span></span>,\n",
       "        <span style=\"color: rgb(0, 187, 0)\"><span class=\"ansi-green-fg\">0.28888888888888886</span></span>\n",
       "      ),\n",
       "      <span style=\"color: yellow\"><span class=\"ansi-yellow-fg\">Weighted</span></span>(<span style=\"color: rgb(0, 187, 0)\"><span class=\"ansi-green-fg\">trans</span></span>, <span style=\"color: rgb(0, 187, 0)\"><span class=\"ansi-green-fg\">0.28888888888888886</span></span>),\n",
       "      <span style=\"color: yellow\"><span class=\"ansi-yellow-fg\">Weighted</span></span>(\n",
       "        <span style=\"color: rgb(0, 187, 0)\"><span class=\"ansi-green-fg\">($fpajup : M) ↦ trans(mul(mul(m)(n))(mul(mul(m)(n))(n)))(mul(mul(m)(n))(m))($fpajup)(left-multiply(mul(m)(n))(mul(mul(m)(n))(n))(m)(ass1(m)(n)))</span></span>,\n",
       "        <span style=\"color: rgb(0, 187, 0)\"><span class=\"ansi-green-fg\">0.06367346938775509</span></span>\n",
       "      ),\n",
       "      <span style=\"color: yellow\"><span class=\"ansi-yellow-fg\">Weighted</span></span>(\n",
       "        <span style=\"color: rgb(0, 187, 0)\"><span class=\"ansi-green-fg\">($fpagjd : M) ↦ trans(n)(mul(mul(m)(n))(mul(mul(m)(n))(n)))($fpagjd)(sym(mul(mul(m)(n))(mul(mul(m)(n))(n)))(n)(ass2(mul(m)(n))(n)))</span></span>,\n",
       "        <span style=\"color: rgb(0, 187, 0)\"><span class=\"ansi-green-fg\">0.06367346938775509</span></span>\n",
       "      ),\n",
       "      <span style=\"color: yellow\"><span class=\"ansi-yellow-fg\">Weighted</span></span>(\n",
       "        <span style=\"color: rgb(0, 187, 0)\"><span class=\"ansi-green-fg\">trans(n)(mul(mul(m)(n))(mul(mul(m)(n))(n)))(mul(mul(m)(n))(m))(sym(mul(mul(m)(n))(mul(mul(m)(n))(n)))(n)(ass2(mul(m)(n))(n)))(left-multiply(mul(m)(n))(mul(mul(m)(n))(n))(m)(ass1(m)(n)))</span></span>,\n",
       "        <span style=\"color: rgb(0, 187, 0)\"><span class=\"ansi-green-fg\">0.004897959183673469</span></span>\n",
       "      )\n",
       "    )\n",
       "  )\n",
       ")</span></span></span></code></pre>\n",
       "</div>"
      ],
      "text/plain": [
       "\u001b[36mres40\u001b[39m: \u001b[32mmonix\u001b[39m.\u001b[32mexecution\u001b[39m.\u001b[32mCancelableFuture\u001b[39m[\u001b[32mFiniteDistribution\u001b[39m[\u001b[32mTerm\u001b[39m]] = \u001b[32m\u001b[33mSuccess\u001b[39m(\n",
       "  \u001b[33mFiniteDistribution\u001b[39m(\n",
       "    \u001b[33mVector\u001b[39m(\n",
       "      \u001b[33mWeighted\u001b[39m(\n",
       "        \u001b[32msym(mul(mul(m)(n))(mul(mul(m)(n))(n)))(n)(ass2(mul(m)(n))(n))\u001b[39m,\n",
       "        \u001b[32m0.28888888888888886\u001b[39m\n",
       "      ),\n",
       "      \u001b[33mWeighted\u001b[39m(\n",
       "        \u001b[32m($fpaqdt : M) ↦ trans(n)(mul(mul(m)(n))(m))($fpaqdt)(trans(n)(mul(mul(m)(n))(mul(mul(m)(n))(n)))(mul(mul(m)(n))(m))(sym(mul(mul(m)(n))(mul(mul(m)(n))(n)))(n)(ass2(mul(m)(n))(n)))(left-multiply(mul(m)(n))(mul(mul(m)(n))(n))(m)(ass1(m)(n))))\u001b[39m,\n",
       "        \u001b[32m0.00108843537414966\u001b[39m\n",
       "      ),\n",
       "      \u001b[33mWeighted\u001b[39m(\n",
       "        \u001b[32mleft-multiply(mul(m)(n))(mul(mul(m)(n))(n))(m)(ass1(m)(n))\u001b[39m,\n",
       "        \u001b[32m0.28888888888888886\u001b[39m\n",
       "      ),\n",
       "      \u001b[33mWeighted\u001b[39m(\u001b[32mtrans\u001b[39m, \u001b[32m0.28888888888888886\u001b[39m),\n",
       "      \u001b[33mWeighted\u001b[39m(\n",
       "        \u001b[32m($fpajup : M) ↦ trans(mul(mul(m)(n))(mul(mul(m)(n))(n)))(mul(mul(m)(n))(m))($fpajup)(left-multiply(mul(m)(n))(mul(mul(m)(n))(n))(m)(ass1(m)(n)))\u001b[39m,\n",
       "        \u001b[32m0.06367346938775509\u001b[39m\n",
       "      ),\n",
       "      \u001b[33mWeighted\u001b[39m(\n",
       "        \u001b[32m($fpagjd : M) ↦ trans(n)(mul(mul(m)(n))(mul(mul(m)(n))(n)))($fpagjd)(sym(mul(mul(m)(n))(mul(mul(m)(n))(n)))(n)(ass2(mul(m)(n))(n)))\u001b[39m,\n",
       "        \u001b[32m0.06367346938775509\u001b[39m\n",
       "      ),\n",
       "      \u001b[33mWeighted\u001b[39m(\n",
       "        \u001b[32mtrans(n)(mul(mul(m)(n))(mul(mul(m)(n))(n)))(mul(mul(m)(n))(m))(sym(mul(mul(m)(n))(mul(mul(m)(n))(n)))(n)(ass2(mul(m)(n))(n)))(left-multiply(mul(m)(n))(mul(mul(m)(n))(n))(m)(ass1(m)(n)))\u001b[39m,\n",
       "        \u001b[32m0.004897959183673469\u001b[39m\n",
       "      )\n",
       "    )\n",
       "  )\n",
       ")\u001b[39m"
      ]
     },
     "metadata": {},
     "output_type": "display_data"
    }
   ],
   "source": [
    "terms3T.runToFuture"
   ]
  },
  {
   "cell_type": "code",
   "execution_count": 42,
   "metadata": {},
   "outputs": [
    {
     "data": {
      "text/html": [
       "<div class=\"jp-RenderedText\">\n",
       "<pre><code><span style=\"color: rgb(0, 187, 187)\"><span class=\"ansi-cyan-fg\">f3</span></span>: <span style=\"color: rgb(0, 187, 0)\"><span class=\"ansi-green-fg\">monix</span></span>.<span style=\"color: rgb(0, 187, 0)\"><span class=\"ansi-green-fg\">execution</span></span>.<span style=\"color: rgb(0, 187, 0)\"><span class=\"ansi-green-fg\">CancelableFuture</span></span>[<span style=\"color: rgb(0, 187, 0)\"><span class=\"ansi-green-fg\">Vector</span></span>[(<span style=\"color: rgb(0, 187, 0)\"><span class=\"ansi-green-fg\">Typ</span></span>[<span style=\"color: rgb(0, 187, 0)\"><span class=\"ansi-green-fg\">Term</span></span>], <span style=\"color: rgb(0, 187, 0)\"><span class=\"ansi-green-fg\">Int</span></span>)]] = <span style=\"color: rgb(0, 187, 0)\"><span class=\"ansi-green-fg\"><style>@keyframes fadein { from { opacity: 0; } to { opacity: 1; } }</style><span style=\"animation: fadein 2s;\"><span style=\"color: yellow\"><span class=\"ansi-yellow-fg\">Success</span></span>(\n",
       "  <span style=\"color: yellow\"><span class=\"ansi-yellow-fg\">Vector</span></span>(\n",
       "    (<span style=\"color: rgb(0, 187, 0)\"><span class=\"ansi-green-fg\">eqM(n)(mul(mul(m)(n))(mul(mul(m)(n))(n)))</span></span>, <span style=\"color: rgb(0, 187, 0)\"><span class=\"ansi-green-fg\">3</span></span>),\n",
       "    (<span style=\"color: rgb(0, 187, 0)\"><span class=\"ansi-green-fg\">eqM(mul(mul(m)(n))(mul(mul(m)(n))(n)))(mul(mul(m)(n))(m))</span></span>, <span style=\"color: rgb(0, 187, 0)\"><span class=\"ansi-green-fg\">4</span></span>),\n",
       "    (<span style=\"color: rgb(0, 187, 0)\"><span class=\"ansi-green-fg\">eqM(n)(mul(mul(m)(n))(m))</span></span>, <span style=\"color: rgb(0, 187, 0)\"><span class=\"ansi-green-fg\">6</span></span>)\n",
       "  )\n",
       ")</span></span></span></code></pre>\n",
       "</div>"
      ],
      "text/plain": [
       "\u001b[36mf3\u001b[39m: \u001b[32mmonix\u001b[39m.\u001b[32mexecution\u001b[39m.\u001b[32mCancelableFuture\u001b[39m[\u001b[32mVector\u001b[39m[(\u001b[32mTyp\u001b[39m[\u001b[32mTerm\u001b[39m], \u001b[32mInt\u001b[39m)]] = \u001b[32m\u001b[33mSuccess\u001b[39m(\n",
       "  \u001b[33mVector\u001b[39m(\n",
       "    (\u001b[32meqM(n)(mul(mul(m)(n))(mul(mul(m)(n))(n)))\u001b[39m, \u001b[32m3\u001b[39m),\n",
       "    (\u001b[32meqM(mul(mul(m)(n))(mul(mul(m)(n))(n)))(mul(mul(m)(n))(m))\u001b[39m, \u001b[32m4\u001b[39m),\n",
       "    (\u001b[32meqM(n)(mul(mul(m)(n))(m))\u001b[39m, \u001b[32m6\u001b[39m)\n",
       "  )\n",
       ")\u001b[39m"
      ]
     },
     "metadata": {},
     "output_type": "display_data"
    }
   ],
   "source": [
    "val f3 = r3.runToFuture"
   ]
  },
  {
   "cell_type": "markdown",
   "metadata": {},
   "source": [
    "This worked, with a very narrow focus but quickly. We now aim for Lemma 7, which is again right multiplication. "
   ]
  },
  {
   "cell_type": "code",
   "execution_count": 43,
   "metadata": {},
   "outputs": [
    {
     "data": {
      "text/plain": [
       "\u001b[36mlp4\u001b[39m: \u001b[32mLocalProver\u001b[39m = \u001b[33mLocalProver\u001b[39m(\n",
       "  \u001b[33mTermState\u001b[39m(\n",
       "    \u001b[33mFiniteDistribution\u001b[39m(\n",
       "      \u001b[33mVector\u001b[39m(\n",
       "        \u001b[33mWeighted\u001b[39m(\u001b[32mright-multiply\u001b[39m, \u001b[32m0.2\u001b[39m),\n",
       "        \u001b[33mWeighted\u001b[39m(\u001b[32mmul(m)(n)\u001b[39m, \u001b[32m0.2\u001b[39m),\n",
       "        \u001b[33mWeighted\u001b[39m(\u001b[32mm\u001b[39m, \u001b[32m0.2\u001b[39m),\n",
       "        \u001b[33mWeighted\u001b[39m(\n",
       "          \u001b[32mtrans(n)(mul(mul(m)(n))(mul(mul(m)(n))(n)))(mul(mul(m)(n))(m))(sym(mul(mul(m)(n))(mul(mul(m)(n))(n)))(n)(ass2(mul(m)(n))(n)))(left-multiply(mul(m)(n))(mul(mul(m)(n))(n))(m)(ass1(m)(n)))\u001b[39m,\n",
       "          \u001b[32m0.2\u001b[39m\n",
       "        ),\n",
       "        \u001b[33mWeighted\u001b[39m(\u001b[32mn\u001b[39m, \u001b[32m0.2\u001b[39m)\n",
       "      )\n",
       "    ),\n",
       "    \u001b[33mFiniteDistribution\u001b[39m(\u001b[33mVector\u001b[39m()),\n",
       "    \u001b[33mVector\u001b[39m(),\n",
       "    \u001b[33mFiniteDistribution\u001b[39m(\u001b[33mVector\u001b[39m()),\n",
       "    \u001b[33mFiniteDistribution\u001b[39m(\u001b[33mVector\u001b[39m()),\n",
       "    Empty\n",
       "  ),\n",
       "  \u001b[33mTermGenParams\u001b[39m(\n",
       "    \u001b[32m0.1\u001b[39m,\n",
       "    \u001b[32m0.1\u001b[39m,\n",
       "    \u001b[32m0.1\u001b[39m,\n",
       "    \u001b[32m0.0\u001b[39m,\n",
       "    \u001b[32m0.0\u001b[39m,\n",
       "    \u001b[32m0.05\u001b[39m,\n",
       "    \u001b[32m0.05\u001b[39m,\n",
       "    \u001b[32m0.0\u001b[39m,\n",
       "    \u001b[32m0.0\u001b[39m,\n",
       "    \u001b[32m0.0\u001b[39m,\n",
       "    \u001b[32m0.0\u001b[39m,\n",
       "    \u001b[32m0.0\u001b[39m,\n",
       "    \u001b[32m0.3\u001b[39m,\n",
       "    \u001b[32m0.7\u001b[39m,\n",
       "    \u001b[32m0.5\u001b[39m,\n",
       "    \u001b[32m0.0\u001b[39m,\n",
       "...\n",
       "\u001b[36mterms4T\u001b[39m: \u001b[32mmonix\u001b[39m.\u001b[32meval\u001b[39m.\u001b[32mTask\u001b[39m[\u001b[32mFiniteDistribution\u001b[39m[\u001b[32mTerm\u001b[39m]] = \u001b[33mAsync\u001b[39m(\n",
       "  <function2>,\n",
       "  false,\n",
       "  true,\n",
       "  true\n",
       ")\n",
       "\u001b[36mr4\u001b[39m: \u001b[32mmonix\u001b[39m.\u001b[32meval\u001b[39m.\u001b[32mTask\u001b[39m[\u001b[32mVector\u001b[39m[(\u001b[32mTyp\u001b[39m[\u001b[32mTerm\u001b[39m], \u001b[32mInt\u001b[39m)]] = \u001b[33mAsync\u001b[39m(\n",
       "  <function2>,\n",
       "  false,\n",
       "  true,\n",
       "  true\n",
       ")"
      ]
     },
     "execution_count": 43,
     "metadata": {},
     "output_type": "execute_result"
    }
   ],
   "source": [
    "val lp4 = LocalProver(TermState(FiniteDistribution.unif(pf6, rightMul, m, n, mn), FiniteDistribution.empty)).noIsles\n",
    "val terms4T = lp4.nextState.map(_.terms).memoize\n",
    "val r4 = terms4T.map(fd => results.zipWithIndex.filter{case (tp, n) => fd.map(_.typ)(tp) > 0}).memoize"
   ]
  },
  {
   "cell_type": "code",
   "execution_count": 44,
   "metadata": {},
   "outputs": [
    {
     "data": {
      "text/html": [
       "<div class=\"jp-RenderedText\">\n",
       "<pre><code><span style=\"color: rgb(0, 187, 187)\"><span class=\"ansi-cyan-fg\">res43</span></span>: <span style=\"color: rgb(0, 187, 0)\"><span class=\"ansi-green-fg\">monix</span></span>.<span style=\"color: rgb(0, 187, 0)\"><span class=\"ansi-green-fg\">execution</span></span>.<span style=\"color: rgb(0, 187, 0)\"><span class=\"ansi-green-fg\">CancelableFuture</span></span>[<span style=\"color: rgb(0, 187, 0)\"><span class=\"ansi-green-fg\">FiniteDistribution</span></span>[<span style=\"color: rgb(0, 187, 0)\"><span class=\"ansi-green-fg\">Term</span></span>]] = <span style=\"color: rgb(0, 187, 0)\"><span class=\"ansi-green-fg\"><style>@keyframes fadein { from { opacity: 0; } to { opacity: 1; } }</style><span style=\"animation: fadein 2s;\"><span style=\"color: yellow\"><span class=\"ansi-yellow-fg\">Success</span></span>(\n",
       "  <span style=\"color: yellow\"><span class=\"ansi-yellow-fg\">FiniteDistribution</span></span>(\n",
       "    <span style=\"color: yellow\"><span class=\"ansi-yellow-fg\">Vector</span></span>(\n",
       "      <span style=\"color: yellow\"><span class=\"ansi-yellow-fg\">Weighted</span></span>(<span style=\"color: rgb(0, 187, 0)\"><span class=\"ansi-green-fg\">right-multiply(m)(m)(mul(m)(n))</span></span>, <span style=\"color: rgb(0, 187, 0)\"><span class=\"ansi-green-fg\">6.124542504838641E-4</span></span>),\n",
       "      <span style=\"color: yellow\"><span class=\"ansi-yellow-fg\">Weighted</span></span>(<span style=\"color: rgb(0, 187, 0)\"><span class=\"ansi-green-fg\">right-multiply(m)(n)</span></span>, <span style=\"color: rgb(0, 187, 0)\"><span class=\"ansi-green-fg\">0.006163015764858746</span></span>),\n",
       "      <span style=\"color: yellow\"><span class=\"ansi-yellow-fg\">Weighted</span></span>(<span style=\"color: rgb(0, 187, 0)\"><span class=\"ansi-green-fg\">right-multiply(n)(n)(mul(m)(n))</span></span>, <span style=\"color: rgb(0, 187, 0)\"><span class=\"ansi-green-fg\">6.124542504838641E-4</span></span>),\n",
       "      <span style=\"color: yellow\"><span class=\"ansi-yellow-fg\">Weighted</span></span>(\n",
       "        <span style=\"color: rgb(0, 187, 0)\"><span class=\"ansi-green-fg\">right-multiply(m)(n)(mul(mul(m)(n))(m))(trans(n)(mul(mul(m)(n))(mul(mul(m)(n))(n)))(mul(mul(m)(n))(m))(sym(mul(mul(m)(n))(mul(mul(m)(n))(n)))(n)(ass2(mul(m)(n))(n)))(left-multiply(mul(m)(n))(mul(mul(m)(n))(n))(m)(ass1(m)(n))))</span></span>,\n",
       "        <span style=\"color: rgb(0, 187, 0)\"><span class=\"ansi-green-fg\">0.00398945836502407</span></span>\n",
       "      ),\n",
       "      <span style=\"color: yellow\"><span class=\"ansi-yellow-fg\">Weighted</span></span>(<span style=\"color: rgb(0, 187, 0)\"><span class=\"ansi-green-fg\">right-multiply(mul(m)(n))</span></span>, <span style=\"color: rgb(0, 187, 0)\"><span class=\"ansi-green-fg\">0.05575333133160417</span></span>),\n",
       "      <span style=\"color: yellow\"><span class=\"ansi-yellow-fg\">Weighted</span></span>(<span style=\"color: rgb(0, 187, 0)\"><span class=\"ansi-green-fg\">right-multiply(mul(m)(n))(mul(m)(n))(m)</span></span>, <span style=\"color: rgb(0, 187, 0)\"><span class=\"ansi-green-fg\">6.124542504838641E-4</span></span>),\n",
       "      <span style=\"color: yellow\"><span class=\"ansi-yellow-fg\">Weighted</span></span>(<span style=\"color: rgb(0, 187, 0)\"><span class=\"ansi-green-fg\">right-multiply(m)(n)(n)</span></span>, <span style=\"color: rgb(0, 187, 0)\"><span class=\"ansi-green-fg\">6.124542504838641E-4</span></span>),\n",
       "      <span style=\"color: yellow\"><span class=\"ansi-yellow-fg\">Weighted</span></span>(<span style=\"color: rgb(0, 187, 0)\"><span class=\"ansi-green-fg\">right-multiply(m)(n)(m)</span></span>, <span style=\"color: rgb(0, 187, 0)\"><span class=\"ansi-green-fg\">6.124542504838641E-4</span></span>),\n",
       "      <span style=\"color: yellow\"><span class=\"ansi-yellow-fg\">Weighted</span></span>(\n",
       "        <span style=\"color: rgb(0, 187, 0)\"><span class=\"ansi-green-fg\">($gaoszq : M) ↦ right-multiply($gaoszq)(mul(n)(m))(mul(mul(mul(m)(n))(m))(m))(right-multiply(m)(n)(mul(mul(m)(n))(m))(trans(n)(mul(mul(m)(n))(mul(mul(m)(n))(n)))(mul(mul(m)(n))(m))(sym(mul(mul(m)(n))(mul(mul(m)(n))(n)))(n)(ass2(mul(m)(n))(n)))(left-multiply(mul(m)(n))(mul(mul(m)(n))(n))(m)(ass1(m)(n)))))</span></span>,\n",
       "        <span style=\"color: rgb(0, 187, 0)\"><span class=\"ansi-green-fg\">6.434396293814735E-4</span></span>\n",
       "      ),\n",
       "      <span style=\"color: yellow\"><span class=\"ansi-yellow-fg\">Weighted</span></span>(<span style=\"color: rgb(0, 187, 0)\"><span class=\"ansi-green-fg\">right-multiply(mul(m)(n))(m)(n)</span></span>, <span style=\"color: rgb(0, 187, 0)\"><span class=\"ansi-green-fg\">6.124542504838641E-4</span></span>),\n",
       "      <span style=\"color: yellow\"><span class=\"ansi-yellow-fg\">Weighted</span></span>(<span style=\"color: rgb(0, 187, 0)\"><span class=\"ansi-green-fg\">right-multiply(m)(n)(mul(m)(n))</span></span>, <span style=\"color: rgb(0, 187, 0)\"><span class=\"ansi-green-fg\">6.124542504838641E-4</span></span>),\n",
       "      <span style=\"color: yellow\"><span class=\"ansi-yellow-fg\">Weighted</span></span>(<span style=\"color: rgb(0, 187, 0)\"><span class=\"ansi-green-fg\">right-multiply(m)(mul(m)(n))(mul(m)(n))</span></span>, <span style=\"color: rgb(0, 187, 0)\"><span class=\"ansi-green-fg\">6.124542504838641E-4</span></span>),\n",
       "      <span style=\"color: yellow\"><span class=\"ansi-yellow-fg\">Weighted</span></span>(<span style=\"color: rgb(0, 187, 0)\"><span class=\"ansi-green-fg\">right-multiply(mul(m)(n))(n)</span></span>, <span style=\"color: rgb(0, 187, 0)\"><span class=\"ansi-green-fg\">0.006163015764858746</span></span>),\n",
       "      <span style=\"color: yellow\"><span class=\"ansi-yellow-fg\">Weighted</span></span>(\n",
       "        <span style=\"color: rgb(0, 187, 0)\"><span class=\"ansi-green-fg\">($gapqgm : M) ↦ right-multiply($gapqgm)(mul(n)(mul(m)(n)))(mul(mul(mul(m)(n))(m))(mul(m)(n)))(right-multiply(mul(m)(n))(n)(mul(mul(m)(n))(m))(trans(n)(mul(mul(m)(n))(mul(mul(m)(n))(n)))(mul(mul(m)(n))(m))(sym(mul(mul(m)(n))(mul(mul(m)(n))(n)))(n)(ass2(mul(m)(n))(n)))(left-multiply(mul(m)(n))(mul(mul(m)(n))(n))(m)(ass1(m)(n)))))</span></span>,\n",
       "        <span style=\"color: rgb(0, 187, 0)\"><span class=\"ansi-green-fg\">6.434396293814735E-4</span></span>\n",
       "      ),\n",
       "      <span style=\"color: yellow\"><span class=\"ansi-yellow-fg\">Weighted</span></span>(<span style=\"color: rgb(0, 187, 0)\"><span class=\"ansi-green-fg\">right-multiply(m)(m)(m)</span></span>, <span style=\"color: rgb(0, 187, 0)\"><span class=\"ansi-green-fg\">6.124542504838641E-4</span></span>),\n",
       "      <span style=\"color: yellow\"><span class=\"ansi-yellow-fg\">Weighted</span></span>(<span style=\"color: rgb(0, 187, 0)\"><span class=\"ansi-green-fg\">right-multiply(n)(n)(m)</span></span>, <span style=\"color: rgb(0, 187, 0)\"><span class=\"ansi-green-fg\">6.124542504838641E-4</span></span>),\n",
       "      <span style=\"color: yellow\"><span class=\"ansi-yellow-fg\">Weighted</span></span>(\n",
       "        <span style=\"color: rgb(0, 187, 0)\"><span class=\"ansi-green-fg\">right-multiply(n)(n)(mul(mul(m)(n))(m))(trans(n)(mul(mul(m)(n))(mul(mul(</span></span>...</span></span></span></code></pre>\n",
       "</div>"
      ],
      "text/plain": [
       "\u001b[36mres43\u001b[39m: \u001b[32mmonix\u001b[39m.\u001b[32mexecution\u001b[39m.\u001b[32mCancelableFuture\u001b[39m[\u001b[32mFiniteDistribution\u001b[39m[\u001b[32mTerm\u001b[39m]] = \u001b[32m\u001b[33mSuccess\u001b[39m(\n",
       "  \u001b[33mFiniteDistribution\u001b[39m(\n",
       "    \u001b[33mVector\u001b[39m(\n",
       "      \u001b[33mWeighted\u001b[39m(\u001b[32mright-multiply(m)(m)(mul(m)(n))\u001b[39m, \u001b[32m6.124542504838641E-4\u001b[39m),\n",
       "      \u001b[33mWeighted\u001b[39m(\u001b[32mright-multiply(m)(n)\u001b[39m, \u001b[32m0.006163015764858746\u001b[39m),\n",
       "      \u001b[33mWeighted\u001b[39m(\u001b[32mright-multiply(n)(n)(mul(m)(n))\u001b[39m, \u001b[32m6.124542504838641E-4\u001b[39m),\n",
       "      \u001b[33mWeighted\u001b[39m(\n",
       "        \u001b[32mright-multiply(m)(n)(mul(mul(m)(n))(m))(trans(n)(mul(mul(m)(n))(mul(mul(m)(n))(n)))(mul(mul(m)(n))(m))(sym(mul(mul(m)(n))(mul(mul(m)(n))(n)))(n)(ass2(mul(m)(n))(n)))(left-multiply(mul(m)(n))(mul(mul(m)(n))(n))(m)(ass1(m)(n))))\u001b[39m,\n",
       "        \u001b[32m0.00398945836502407\u001b[39m\n",
       "      ),\n",
       "      \u001b[33mWeighted\u001b[39m(\u001b[32mright-multiply(mul(m)(n))\u001b[39m, \u001b[32m0.05575333133160417\u001b[39m),\n",
       "      \u001b[33mWeighted\u001b[39m(\u001b[32mright-multiply(mul(m)(n))(mul(m)(n))(m)\u001b[39m, \u001b[32m6.124542504838641E-4\u001b[39m),\n",
       "      \u001b[33mWeighted\u001b[39m(\u001b[32mright-multiply(m)(n)(n)\u001b[39m, \u001b[32m6.124542504838641E-4\u001b[39m),\n",
       "      \u001b[33mWeighted\u001b[39m(\u001b[32mright-multiply(m)(n)(m)\u001b[39m, \u001b[32m6.124542504838641E-4\u001b[39m),\n",
       "      \u001b[33mWeighted\u001b[39m(\n",
       "        \u001b[32m($gaoszq : M) ↦ right-multiply($gaoszq)(mul(n)(m))(mul(mul(mul(m)(n))(m))(m))(right-multiply(m)(n)(mul(mul(m)(n))(m))(trans(n)(mul(mul(m)(n))(mul(mul(m)(n))(n)))(mul(mul(m)(n))(m))(sym(mul(mul(m)(n))(mul(mul(m)(n))(n)))(n)(ass2(mul(m)(n))(n)))(left-multiply(mul(m)(n))(mul(mul(m)(n))(n))(m)(ass1(m)(n)))))\u001b[39m,\n",
       "        \u001b[32m6.434396293814735E-4\u001b[39m\n",
       "      ),\n",
       "      \u001b[33mWeighted\u001b[39m(\u001b[32mright-multiply(mul(m)(n))(m)(n)\u001b[39m, \u001b[32m6.124542504838641E-4\u001b[39m),\n",
       "      \u001b[33mWeighted\u001b[39m(\u001b[32mright-multiply(m)(n)(mul(m)(n))\u001b[39m, \u001b[32m6.124542504838641E-4\u001b[39m),\n",
       "      \u001b[33mWeighted\u001b[39m(\u001b[32mright-multiply(m)(mul(m)(n))(mul(m)(n))\u001b[39m, \u001b[32m6.124542504838641E-4\u001b[39m),\n",
       "      \u001b[33mWeighted\u001b[39m(\u001b[32mright-multiply(mul(m)(n))(n)\u001b[39m, \u001b[32m0.006163015764858746\u001b[39m),\n",
       "      \u001b[33mWeighted\u001b[39m(\n",
       "        \u001b[32m($gapqgm : M) ↦ right-multiply($gapqgm)(mul(n)(mul(m)(n)))(mul(mul(mul(m)(n))(m))(mul(m)(n)))(right-multiply(mul(m)(n))(n)(mul(mul(m)(n))(m))(trans(n)(mul(mul(m)(n))(mul(mul(m)(n))(n)))(mul(mul(m)(n))(m))(sym(mul(mul(m)(n))(mul(mul(m)(n))(n)))(n)(ass2(mul(m)(n))(n)))(left-multiply(mul(m)(n))(mul(mul(m)(n))(n))(m)(ass1(m)(n)))))\u001b[39m,\n",
       "        \u001b[32m6.434396293814735E-4\u001b[39m\n",
       "      ),\n",
       "      \u001b[33mWeighted\u001b[39m(\u001b[32mright-multiply(m)(m)(m)\u001b[39m, \u001b[32m6.124542504838641E-4\u001b[39m),\n",
       "      \u001b[33mWeighted\u001b[39m(\u001b[32mright-multiply(n)(n)(m)\u001b[39m, \u001b[32m6.124542504838641E-4\u001b[39m),\n",
       "      \u001b[33mWeighted\u001b[39m(\n",
       "        \u001b[32mright-multiply(n)(n)(mul(mul(m)(n))(m))(trans(n)(mul(mul(m)(n))(mul(mul(\u001b[39m...\u001b[39m"
      ]
     },
     "metadata": {},
     "output_type": "display_data"
    }
   ],
   "source": [
    "terms4T.runToFuture"
   ]
  },
  {
   "cell_type": "code",
   "execution_count": 45,
   "metadata": {},
   "outputs": [
    {
     "data": {
      "text/html": [
       "<div class=\"jp-RenderedText\">\n",
       "<pre><code><span style=\"color: rgb(0, 187, 187)\"><span class=\"ansi-cyan-fg\">f4</span></span>: <span style=\"color: rgb(0, 187, 0)\"><span class=\"ansi-green-fg\">monix</span></span>.<span style=\"color: rgb(0, 187, 0)\"><span class=\"ansi-green-fg\">execution</span></span>.<span style=\"color: rgb(0, 187, 0)\"><span class=\"ansi-green-fg\">CancelableFuture</span></span>[<span style=\"color: rgb(0, 187, 0)\"><span class=\"ansi-green-fg\">Vector</span></span>[(<span style=\"color: rgb(0, 187, 0)\"><span class=\"ansi-green-fg\">Typ</span></span>[<span style=\"color: rgb(0, 187, 0)\"><span class=\"ansi-green-fg\">Term</span></span>], <span style=\"color: rgb(0, 187, 0)\"><span class=\"ansi-green-fg\">Int</span></span>)]] = <span style=\"color: rgb(0, 187, 0)\"><span class=\"ansi-green-fg\"><span style=\"color: white\"><span class=\"ansi-white-fg\">[running]</span></span></span></span></code></pre>\n",
       "</div>"
      ],
      "text/plain": [
       "\u001b[36mf4\u001b[39m: \u001b[32mmonix\u001b[39m.\u001b[32mexecution\u001b[39m.\u001b[32mCancelableFuture\u001b[39m[\u001b[32mVector\u001b[39m[(\u001b[32mTyp\u001b[39m[\u001b[32mTerm\u001b[39m], \u001b[32mInt\u001b[39m)]] = \u001b[32m\u001b[37m[running]\u001b[39m\u001b[39m"
      ]
     },
     "metadata": {},
     "output_type": "display_data"
    }
   ],
   "source": [
    "val f4 = r4.runToFuture"
   ]
  },
  {
   "cell_type": "code",
   "execution_count": 46,
   "metadata": {},
   "outputs": [
    {
     "data": {
      "text/plain": [
       "\u001b[36mres45\u001b[39m: \u001b[32mOption\u001b[39m[\u001b[32mscala\u001b[39m.\u001b[32mutil\u001b[39m.\u001b[32mTry\u001b[39m[\u001b[32mVector\u001b[39m[(\u001b[32mTyp\u001b[39m[\u001b[32mTerm\u001b[39m], \u001b[32mInt\u001b[39m)]]] = \u001b[33mSome\u001b[39m(\n",
       "  \u001b[33mSuccess\u001b[39m(\n",
       "    \u001b[33mVector\u001b[39m(\n",
       "      (\u001b[32meqM(n)(mul(mul(m)(n))(m))\u001b[39m, \u001b[32m6\u001b[39m),\n",
       "      (\u001b[32meqM(mul(n)(m))(mul(mul(mul(m)(n))(m))(m))\u001b[39m, \u001b[32m7\u001b[39m)\n",
       "    )\n",
       "  )\n",
       ")"
      ]
     },
     "execution_count": 46,
     "metadata": {},
     "output_type": "execute_result"
    }
   ],
   "source": [
    "f4.value"
   ]
  },
  {
   "cell_type": "markdown",
   "metadata": {},
   "source": [
    "The Lemma 7 was obtained with a fairly focus, but with the default cutoff. We now look for Lemma 8 and the Theorem. It will probably take two steps."
   ]
  },
  {
   "cell_type": "code",
   "execution_count": 47,
   "metadata": {},
   "outputs": [
    {
     "data": {
      "text/plain": [
       "\u001b[36mlp5\u001b[39m: \u001b[32mLocalProverStep\u001b[39m = \u001b[33mLocalProver\u001b[39m(\n",
       "  \u001b[33mTermState\u001b[39m(\n",
       "    \u001b[33mFiniteDistribution\u001b[39m(\n",
       "      \u001b[33mVector\u001b[39m(\n",
       "        \u001b[33mWeighted\u001b[39m(\u001b[32mass1(mul(m)(n))(m)\u001b[39m, \u001b[32m0.25\u001b[39m),\n",
       "        \u001b[33mWeighted\u001b[39m(\n",
       "          \u001b[32mright-multiply(m)(n)(mul(mul(m)(n))(m))(trans(n)(mul(mul(m)(n))(mul(mul(m)(n))(n)))(mul(mul(m)(n))(m))(sym(mul(mul(m)(n))(mul(mul(m)(n))(n)))(n)(ass2(mul(m)(n))(n)))(left-multiply(mul(m)(n))(mul(mul(m)(n))(n))(m)(ass1(m)(n))))\u001b[39m,\n",
       "          \u001b[32m0.25\u001b[39m\n",
       "        ),\n",
       "        \u001b[33mWeighted\u001b[39m(\u001b[32msym\u001b[39m, \u001b[32m0.25\u001b[39m),\n",
       "        \u001b[33mWeighted\u001b[39m(\u001b[32mtrans\u001b[39m, \u001b[32m0.25\u001b[39m)\n",
       "      )\n",
       "    ),\n",
       "    \u001b[33mFiniteDistribution\u001b[39m(\u001b[33mVector\u001b[39m()),\n",
       "    \u001b[33mVector\u001b[39m(),\n",
       "    \u001b[33mFiniteDistribution\u001b[39m(\u001b[33mVector\u001b[39m()),\n",
       "    \u001b[33mFiniteDistribution\u001b[39m(\u001b[33mVector\u001b[39m()),\n",
       "    Empty\n",
       "  ),\n",
       "  \u001b[33mTermGenParams\u001b[39m(\n",
       "    \u001b[32m0.1\u001b[39m,\n",
       "    \u001b[32m0.1\u001b[39m,\n",
       "    \u001b[32m0.1\u001b[39m,\n",
       "    \u001b[32m0.0\u001b[39m,\n",
       "    \u001b[32m0.0\u001b[39m,\n",
       "    \u001b[32m0.05\u001b[39m,\n",
       "    \u001b[32m0.05\u001b[39m,\n",
       "    \u001b[32m0.0\u001b[39m,\n",
       "    \u001b[32m0.0\u001b[39m,\n",
       "    \u001b[32m0.0\u001b[39m,\n",
       "    \u001b[32m0.0\u001b[39m,\n",
       "    \u001b[32m0.0\u001b[39m,\n",
       "    \u001b[32m0.3\u001b[39m,\n",
       "    \u001b[32m0.7\u001b[39m,\n",
       "    \u001b[32m0.5\u001b[39m,\n",
       "    \u001b[32m0.0\u001b[39m,\n",
       "    \u001b[32m0.0\u001b[39m,\n",
       "...\n",
       "\u001b[36mterms5T\u001b[39m: \u001b[32mmonix\u001b[39m.\u001b[32meval\u001b[39m.\u001b[32mTask\u001b[39m[\u001b[32mFiniteDistribution\u001b[39m[\u001b[32mTerm\u001b[39m]] = \u001b[33mAsync\u001b[39m(\n",
       "  <function2>,\n",
       "  false,\n",
       "  true,\n",
       "  true\n",
       ")\n",
       "\u001b[36mr5\u001b[39m: \u001b[32mmonix\u001b[39m.\u001b[32meval\u001b[39m.\u001b[32mTask\u001b[39m[\u001b[32mVector\u001b[39m[(\u001b[32mTyp\u001b[39m[\u001b[32mTerm\u001b[39m], \u001b[32mInt\u001b[39m)]] = \u001b[33mAsync\u001b[39m(\n",
       "  <function2>,\n",
       "  false,\n",
       "  true,\n",
       "  true\n",
       ")"
      ]
     },
     "execution_count": 47,
     "metadata": {},
     "output_type": "execute_result"
    }
   ],
   "source": [
    "val lp5 = LocalProver(TermState(FiniteDistribution.unif(pf5, pf7, sym, trans), FiniteDistribution.empty)).noIsles.sharpen(10)\n",
    "val terms5T = lp5.nextState.map(_.terms).memoize\n",
    "val r5 = terms5T.map(fd => results.zipWithIndex.filter{case (tp, n) => fd.map(_.typ)(tp) > 0}).memoize"
   ]
  },
  {
   "cell_type": "code",
   "execution_count": 48,
   "metadata": {},
   "outputs": [
    {
     "data": {
      "text/html": [
       "<div class=\"jp-RenderedText\">\n",
       "<pre><code><span style=\"color: rgb(0, 187, 187)\"><span class=\"ansi-cyan-fg\">res47</span></span>: <span style=\"color: rgb(0, 187, 0)\"><span class=\"ansi-green-fg\">monix</span></span>.<span style=\"color: rgb(0, 187, 0)\"><span class=\"ansi-green-fg\">execution</span></span>.<span style=\"color: rgb(0, 187, 0)\"><span class=\"ansi-green-fg\">CancelableFuture</span></span>[<span style=\"color: rgb(0, 187, 0)\"><span class=\"ansi-green-fg\">FiniteDistribution</span></span>[<span style=\"color: rgb(0, 187, 0)\"><span class=\"ansi-green-fg\">Term</span></span>]] = <span style=\"color: rgb(0, 187, 0)\"><span class=\"ansi-green-fg\"><style>@keyframes fadein { from { opacity: 0; } to { opacity: 1; } }</style><span style=\"animation: fadein 2s;\"><span style=\"color: yellow\"><span class=\"ansi-yellow-fg\">Success</span></span>(\n",
       "  <span style=\"color: yellow\"><span class=\"ansi-yellow-fg\">FiniteDistribution</span></span>(\n",
       "    <span style=\"color: yellow\"><span class=\"ansi-yellow-fg\">Vector</span></span>(\n",
       "      <span style=\"color: yellow\"><span class=\"ansi-yellow-fg\">Weighted</span></span>(\n",
       "        <span style=\"color: rgb(0, 187, 0)\"><span class=\"ansi-green-fg\">sym(mul(n)(m))(mul(mul(mul(m)(n))(m))(m))(sym(mul(mul(mul(m)(n))(m))(m))(mul(n)(m))(sym(mul(n)(m))(mul(mul(mul(m)(n))(m))(m))(right-multiply(m)(n)(mul(mul(m)(n))(m))(trans(n)(mul(mul(m)(n))(mul(mul(m)(n))(n)))(mul(mul(m)(n))(m))(sym(mul(mul(m)(n))(mul(mul(m)(n))(n)))(n)(ass2(mul(m)(n))(n)))(left-multiply(mul(m)(n))(mul(mul(m)(n))(n))(m)(ass1(m)(n)))))))</span></span>,\n",
       "        <span style=\"color: rgb(0, 187, 0)\"><span class=\"ansi-green-fg\">4.460293069801948E-4</span></span>\n",
       "      ),\n",
       "      <span style=\"color: yellow\"><span class=\"ansi-yellow-fg\">Weighted</span></span>(\n",
       "        <span style=\"color: rgb(0, 187, 0)\"><span class=\"ansi-green-fg\">($hzdrvk : M) ↦ trans(mul(mul(mul(m)(n))(m))(m))(mul(n)(m))($hzdrvk)(sym(mul(n)(m))(mul(mul(mul(m)(n))(m))(m))(right-multiply(m)(n)(mul(mul(m)(n))(m))(trans(n)(mul(mul(m)(n))(mul(mul(m)(n))(n)))(mul(mul(m)(n))(m))(sym(mul(mul(m)(n))(mul(mul(m)(n))(n)))(n)(ass2(mul(m)(n))(n)))(left-multiply(mul(m)(n))(mul(mul(m)(n))(n))(m)(ass1(m)(n))))))</span></span>,\n",
       "        <span style=\"color: rgb(0, 187, 0)\"><span class=\"ansi-green-fg\">0.003491037075787292</span></span>\n",
       "      ),\n",
       "      <span style=\"color: yellow\"><span class=\"ansi-yellow-fg\">Weighted</span></span>(\n",
       "        <span style=\"color: rgb(0, 187, 0)\"><span class=\"ansi-green-fg\">right-multiply(m)(n)(mul(mul(m)(n))(m))(trans(n)(mul(mul(m)(n))(mul(mul(m)(n))(n)))(mul(mul(m)(n))(m))(sym(mul(mul(m)(n))(mul(mul(m)(n))(n)))(n)(ass2(mul(m)(n))(n)))(left-multiply(mul(m)(n))(mul(mul(m)(n))(n))(m)(ass1(m)(n))))</span></span>,\n",
       "        <span style=\"color: rgb(0, 187, 0)\"><span class=\"ansi-green-fg\">0.21669091589873</span></span>\n",
       "      ),\n",
       "      <span style=\"color: yellow\"><span class=\"ansi-yellow-fg\">Weighted</span></span>(\n",
       "        <span style=\"color: rgb(0, 187, 0)\"><span class=\"ansi-green-fg\">($hzbmis : M) ↦ trans(mul(m)(n))(mul(n)(m))($hzbmis)(sym(mul(n)(m))(mul(m)(n))(trans(mul(n)(m))(mul(mul(mul(m)(n))(m))(m))(mul(m)(n))(right-multiply(m)(n)(mul(mul(m)(n))(m))(trans(n)(mul(mul(m)(n))(mul(mul(m)(n))(n)))(mul(mul(m)(n))(m))(sym(mul(mul(m)(n))(mul(mul(m)(n))(n)))(n)(ass2(mul(m)(n))(n)))(left-multiply(mul(m)(n))(mul(mul(m)(n))(n))(m)(ass1(m)(n)))))(ass1(mul(m)(n))(m))))</span></span>,\n",
       "        <span style=\"color: rgb(0, 187, 0)\"><span class=\"ansi-green-fg\">6.86198933815684E-5</span></span>\n",
       "      ),\n",
       "      <span style=\"color: yellow\"><span class=\"ansi-yellow-fg\">Weighted</span></span>(\n",
       "        <span style=\"color: rgb(0, 187, 0)\"><span class=\"ansi-green-fg\">sym(mul(m)(n))(mul(m)(n))(trans(mul(m)(n))(mul(mul(mul(m)(n))(m))(m))(mul(m)(n))(sym(mul(mul(mul(m)(n))(m))(m))(mul(m)(n))(ass1(mul(m)(n))(m)))(ass1(mul(m)(n))(m)))</span></span>,\n",
       "        <span style=\"color: rgb(0, 187, 0)\"><span class=\"ansi-green-fg\">7.161101693922653E-5</span></span>\n",
       "      ),\n",
       "...</span></span></span></code></pre>\n",
       "</div>"
      ],
      "text/plain": [
       "\u001b[36mres47\u001b[39m: \u001b[32mmonix\u001b[39m.\u001b[32mexecution\u001b[39m.\u001b[32mCancelableFuture\u001b[39m[\u001b[32mFiniteDistribution\u001b[39m[\u001b[32mTerm\u001b[39m]] = \u001b[32m\u001b[33mSuccess\u001b[39m(\n",
       "  \u001b[33mFiniteDistribution\u001b[39m(\n",
       "    \u001b[33mVector\u001b[39m(\n",
       "      \u001b[33mWeighted\u001b[39m(\n",
       "        \u001b[32msym(mul(n)(m))(mul(mul(mul(m)(n))(m))(m))(sym(mul(mul(mul(m)(n))(m))(m))(mul(n)(m))(sym(mul(n)(m))(mul(mul(mul(m)(n))(m))(m))(right-multiply(m)(n)(mul(mul(m)(n))(m))(trans(n)(mul(mul(m)(n))(mul(mul(m)(n))(n)))(mul(mul(m)(n))(m))(sym(mul(mul(m)(n))(mul(mul(m)(n))(n)))(n)(ass2(mul(m)(n))(n)))(left-multiply(mul(m)(n))(mul(mul(m)(n))(n))(m)(ass1(m)(n)))))))\u001b[39m,\n",
       "        \u001b[32m4.460293069801948E-4\u001b[39m\n",
       "      ),\n",
       "      \u001b[33mWeighted\u001b[39m(\n",
       "        \u001b[32m($hzdrvk : M) ↦ trans(mul(mul(mul(m)(n))(m))(m))(mul(n)(m))($hzdrvk)(sym(mul(n)(m))(mul(mul(mul(m)(n))(m))(m))(right-multiply(m)(n)(mul(mul(m)(n))(m))(trans(n)(mul(mul(m)(n))(mul(mul(m)(n))(n)))(mul(mul(m)(n))(m))(sym(mul(mul(m)(n))(mul(mul(m)(n))(n)))(n)(ass2(mul(m)(n))(n)))(left-multiply(mul(m)(n))(mul(mul(m)(n))(n))(m)(ass1(m)(n))))))\u001b[39m,\n",
       "        \u001b[32m0.003491037075787292\u001b[39m\n",
       "      ),\n",
       "      \u001b[33mWeighted\u001b[39m(\n",
       "        \u001b[32mright-multiply(m)(n)(mul(mul(m)(n))(m))(trans(n)(mul(mul(m)(n))(mul(mul(m)(n))(n)))(mul(mul(m)(n))(m))(sym(mul(mul(m)(n))(mul(mul(m)(n))(n)))(n)(ass2(mul(m)(n))(n)))(left-multiply(mul(m)(n))(mul(mul(m)(n))(n))(m)(ass1(m)(n))))\u001b[39m,\n",
       "        \u001b[32m0.21669091589873\u001b[39m\n",
       "      ),\n",
       "      \u001b[33mWeighted\u001b[39m(\n",
       "        \u001b[32m($hzbmis : M) ↦ trans(mul(m)(n))(mul(n)(m))($hzbmis)(sym(mul(n)(m))(mul(m)(n))(trans(mul(n)(m))(mul(mul(mul(m)(n))(m))(m))(mul(m)(n))(right-multiply(m)(n)(mul(mul(m)(n))(m))(trans(n)(mul(mul(m)(n))(mul(mul(m)(n))(n)))(mul(mul(m)(n))(m))(sym(mul(mul(m)(n))(mul(mul(m)(n))(n)))(n)(ass2(mul(m)(n))(n)))(left-multiply(mul(m)(n))(mul(mul(m)(n))(n))(m)(ass1(m)(n)))))(ass1(mul(m)(n))(m))))\u001b[39m,\n",
       "        \u001b[32m6.86198933815684E-5\u001b[39m\n",
       "      ),\n",
       "      \u001b[33mWeighted\u001b[39m(\n",
       "        \u001b[32msym(mul(m)(n))(mul(m)(n))(trans(mul(m)(n))(mul(mul(mul(m)(n))(m))(m))(mul(m)(n))(sym(mul(mul(mul(m)(n))(m))(m))(mul(m)(n))(ass1(mul(m)(n))(m)))(ass1(mul(m)(n))(m)))\u001b[39m,\n",
       "        \u001b[32m7.161101693922653E-5\u001b[39m\n",
       "      ),\n",
       "...\u001b[39m"
      ]
     },
     "metadata": {},
     "output_type": "display_data"
    }
   ],
   "source": [
    "terms5T.runToFuture"
   ]
  },
  {
   "cell_type": "code",
   "execution_count": 49,
   "metadata": {},
   "outputs": [
    {
     "data": {
      "text/html": [
       "<div class=\"jp-RenderedText\">\n",
       "<pre><code><span style=\"color: rgb(0, 187, 187)\"><span class=\"ansi-cyan-fg\">f5</span></span>: <span style=\"color: rgb(0, 187, 0)\"><span class=\"ansi-green-fg\">monix</span></span>.<span style=\"color: rgb(0, 187, 0)\"><span class=\"ansi-green-fg\">execution</span></span>.<span style=\"color: rgb(0, 187, 0)\"><span class=\"ansi-green-fg\">CancelableFuture</span></span>[<span style=\"color: rgb(0, 187, 0)\"><span class=\"ansi-green-fg\">Vector</span></span>[(<span style=\"color: rgb(0, 187, 0)\"><span class=\"ansi-green-fg\">Typ</span></span>[<span style=\"color: rgb(0, 187, 0)\"><span class=\"ansi-green-fg\">Term</span></span>], <span style=\"color: rgb(0, 187, 0)\"><span class=\"ansi-green-fg\">Int</span></span>)]] = <span style=\"color: rgb(0, 187, 0)\"><span class=\"ansi-green-fg\"><span style=\"color: white\"><span class=\"ansi-white-fg\">[running]</span></span></span></span></code></pre>\n",
       "</div>"
      ],
      "text/plain": [
       "\u001b[36mf5\u001b[39m: \u001b[32mmonix\u001b[39m.\u001b[32mexecution\u001b[39m.\u001b[32mCancelableFuture\u001b[39m[\u001b[32mVector\u001b[39m[(\u001b[32mTyp\u001b[39m[\u001b[32mTerm\u001b[39m], \u001b[32mInt\u001b[39m)]] = \u001b[32m\u001b[37m[running]\u001b[39m\u001b[39m"
      ]
     },
     "metadata": {},
     "output_type": "display_data"
    }
   ],
   "source": [
    "val f5 = r5.runToFuture"
   ]
  },
  {
   "cell_type": "code",
   "execution_count": 50,
   "metadata": {},
   "outputs": [
    {
     "data": {
      "text/plain": [
       "\u001b[36mres49\u001b[39m: \u001b[32mOption\u001b[39m[\u001b[32mscala\u001b[39m.\u001b[32mutil\u001b[39m.\u001b[32mTry\u001b[39m[\u001b[32mVector\u001b[39m[(\u001b[32mTyp\u001b[39m[\u001b[32mTerm\u001b[39m], \u001b[32mInt\u001b[39m)]]] = \u001b[33mSome\u001b[39m(\n",
       "  \u001b[33mSuccess\u001b[39m(\n",
       "    \u001b[33mVector\u001b[39m(\n",
       "      (\u001b[32meqM(mul(m)(n))(mul(n)(m))\u001b[39m, \u001b[32m0\u001b[39m),\n",
       "      (\u001b[32meqM(mul(mul(mul(m)(n))(m))(m))(mul(m)(n))\u001b[39m, \u001b[32m5\u001b[39m),\n",
       "      (\u001b[32meqM(mul(n)(m))(mul(mul(mul(m)(n))(m))(m))\u001b[39m, \u001b[32m7\u001b[39m),\n",
       "      (\u001b[32meqM(mul(n)(m))(mul(m)(n))\u001b[39m, \u001b[32m8\u001b[39m)\n",
       "    )\n",
       "  )\n",
       ")"
      ]
     },
     "execution_count": 50,
     "metadata": {},
     "output_type": "execute_result"
    }
   ],
   "source": [
    "f5.value"
   ]
  },
  {
   "cell_type": "markdown",
   "metadata": {},
   "source": [
    "We got the theorem with symmetry and transitivity working together."
   ]
  },
  {
   "cell_type": "markdown",
   "metadata": {},
   "source": [
    "## Conclusions\n",
    "\n",
    "* We could generate all the lemmas and the final theorem.\n",
    "* While we did focus, it was not too gross."
   ]
  }
 ],
 "metadata": {
  "kernelspec": {
   "display_name": "Scala",
   "language": "scala",
   "name": "scala"
  },
  "language_info": {
   "codemirror_mode": "text/x-scala",
   "file_extension": ".scala",
   "mimetype": "text/x-scala",
   "name": "scala",
   "nbconvert_exporter": "script",
   "version": "2.12.9"
  }
 },
 "nbformat": 4,
 "nbformat_minor": 4
}
