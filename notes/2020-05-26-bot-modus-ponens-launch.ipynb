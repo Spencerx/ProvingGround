{
 "cells": [
  {
   "cell_type": "markdown",
   "metadata": {},
   "source": [
    "# Bot based Modus Ponens\n",
    "\n",
    "We continue to explore the use of Bots. Here we prove Modus Ponens but without islands. Instead we use backward reasoning to introduce variables. This time we build a session and launch, generalizing both manual and automatic cases."
   ]
  },
  {
   "cell_type": "code",
   "execution_count": 1,
   "metadata": {},
   "outputs": [
    {
     "data": {
      "text/plain": [
       "\u001b[32mimport \u001b[39m\u001b[36m$cp.$                                              \n",
       "\u001b[39m\n",
       "\u001b[32mimport \u001b[39m\u001b[36mprovingground._ , interface._, HoTT._, learning._ \n",
       "\u001b[39m"
      ]
     },
     "execution_count": 1,
     "metadata": {},
     "output_type": "execute_result"
    }
   ],
   "source": [
    "import $cp.bin.`provingground-core-jvm-ac7ee25c26.fat.jar`\n",
    "import provingground._ , interface._, HoTT._, learning._ \n",
    "repl.pprinter() = {\n",
    "  val p = repl.pprinter()\n",
    "  p.copy(\n",
    "    additionalHandlers = p.additionalHandlers.orElse {\n",
    "      translation.FansiShow.fansiHandler\n",
    "    }\n",
    "  )\n",
    "}\n"
   ]
  },
  {
   "cell_type": "code",
   "execution_count": 2,
   "metadata": {},
   "outputs": [],
   "source": [
    "Utils.logger = {\n",
    "    import scribe._, writer._, Utils._\n",
    "    logger.withHandler(writer = FileWriter().path(file.LogPath.simple(\"modus-ponens.log\"))).replace()\n",
    "}"
   ]
  },
  {
   "cell_type": "markdown",
   "metadata": {},
   "source": [
    "First we set things up."
   ]
  },
  {
   "cell_type": "code",
   "execution_count": 3,
   "metadata": {},
   "outputs": [
    {
     "data": {
      "text/plain": [
       "\u001b[32mimport \u001b[39m\u001b[36mprovingground._ , learning._, interface._, translation._, HoTT._\n",
       "\u001b[39m\n",
       "\u001b[32mimport \u001b[39m\u001b[36mmonix.execution.Scheduler.Implicits.global\n",
       "\u001b[39m\n",
       "\u001b[36mA\u001b[39m: \u001b[32mTyp\u001b[39m[\u001b[32mTerm\u001b[39m] = \u001b[32mA\u001b[39m\n",
       "\u001b[36mB\u001b[39m: \u001b[32mTyp\u001b[39m[\u001b[32mTerm\u001b[39m] = \u001b[32mB\u001b[39m\n",
       "\u001b[36mMP\u001b[39m: \u001b[32mGenFuncTyp\u001b[39m[\u001b[32mTyp\u001b[39m[\u001b[32mTerm\u001b[39m], \u001b[32mFuncLike\u001b[39m[\u001b[32mTyp\u001b[39m[\u001b[32mTerm\u001b[39m], \u001b[32mFunc\u001b[39m[\u001b[32mTerm\u001b[39m, \u001b[32mFunc\u001b[39m[\u001b[32mFunc\u001b[39m[\u001b[32mTerm\u001b[39m, \u001b[32mTerm\u001b[39m], \u001b[32mTerm\u001b[39m]]]] = \u001b[32m∏(A : 𝒰 ){ ∏(B : 𝒰 ){ (A → ((A → B) → B)) } }\u001b[39m\n",
       "\u001b[36mts\u001b[39m: \u001b[32mTermState\u001b[39m = \u001b[33mTermState\u001b[39m(\n",
       "  \u001b[33mFiniteDistribution\u001b[39m(\u001b[33mVector\u001b[39m(\u001b[33mWeighted\u001b[39m(\u001b[32m𝒰 \u001b[39m, \u001b[32m1.0\u001b[39m))),\n",
       "  \u001b[33mFiniteDistribution\u001b[39m(\u001b[33mVector\u001b[39m(\u001b[33mWeighted\u001b[39m(\u001b[32m𝒰 \u001b[39m, \u001b[32m1.0\u001b[39m))),\n",
       "  \u001b[33mVector\u001b[39m(),\n",
       "  \u001b[33mFiniteDistribution\u001b[39m(\u001b[33mVector\u001b[39m()),\n",
       "  \u001b[33mFiniteDistribution\u001b[39m(\u001b[33mVector\u001b[39m()),\n",
       "  Empty\n",
       ")\n",
       "\u001b[36mtg\u001b[39m: \u001b[32mTermGenParams\u001b[39m = \u001b[33mTermGenParams\u001b[39m(\n",
       "  \u001b[32m0.1\u001b[39m,\n",
       "  \u001b[32m0.1\u001b[39m,\n",
       "  \u001b[32m0.0\u001b[39m,\n",
       "  \u001b[32m0.0\u001b[39m,\n",
       "  \u001b[32m0.0\u001b[39m,\n",
       "  \u001b[32m0.0\u001b[39m,\n",
       "  \u001b[32m0.0\u001b[39m,\n",
       "  \u001b[32m0.0\u001b[39m,\n",
       "  \u001b[32m0.0\u001b[39m,\n",
       "  \u001b[32m0.0\u001b[39m,\n",
       "  \u001b[32m0.0\u001b[39m,\n",
       "  \u001b[32m0.0\u001b[39m,\n",
       "  \u001b[32m0.0\u001b[39m,\n",
       "  \u001b[32m0.3\u001b[39m,\n",
       "  \u001b[32m0.7\u001b[39m,\n",
       "  \u001b[32m0.5\u001b[39m,\n",
       "  \u001b[32m0.0\u001b[39m,\n",
       "  \u001b[32m0.0\u001b[39m,\n",
       "  \u001b[32m0.0\u001b[39m,\n",
       "  \u001b[33mOrElse\u001b[39m(\n",
       "    \u001b[33mOrElse\u001b[39m(\u001b[33mOrElse\u001b[39m(\u001b[33mOrElse\u001b[39m(<function1>, <function1>), <function1>), <function1>),\n",
       "    <function1>\n",
       "  )\n",
       ")\n",
       "\u001b[36mlp\u001b[39m: \u001b[32mLocalProver\u001b[39m = \u001b[33mLocalProver\u001b[39m(\n",
       "  \u001b[33mTermState\u001b[39m(\n",
       "    \u001b[33mFiniteDistribution\u001b[39m(\u001b[33mVector\u001b[39m(\u001b[33mWeighted\u001b[39m(\u001b[32m𝒰 \u001b[39m, \u001b[32m1.0\u001b[39m))),\n",
       "    \u001b[33mFiniteDistribution\u001b[39m(\u001b[33mVector\u001b[39m(\u001b[33mWeighted\u001b[39m(\u001b[32m𝒰 \u001b[39m, \u001b[32m1.0\u001b[39m))),\n",
       "    \u001b[33mVector\u001b[39m(),\n",
       "    \u001b[33mFiniteDistribution\u001b[39m(\u001b[33mVector\u001b[39m()),\n",
       "    \u001b[33mFiniteDistribution\u001b[39m(\u001b[33mVector\u001b[39m()),\n",
       "    Empty\n",
       "  ),\n",
       "  \u001b[33mTermGenParams\u001b[39m(\n",
       "    \u001b[32m0.1\u001b[39m,\n",
       "    \u001b[32m0.1\u001b[39m,\n",
       "    \u001b[32m0.0\u001b[39m,\n",
       "    \u001b[32m0.0\u001b[39m,\n",
       "    \u001b[32m0.0\u001b[39m,\n",
       "    \u001b[32m0.0\u001b[39m,\n",
       "    \u001b[32m0.0\u001b[39m,\n",
       "    \u001b[32m0.0\u001b[39m,\n",
       "    \u001b[32m0.0\u001b[39m,\n",
       "    \u001b[32m0.0\u001b[39m,\n",
       "    \u001b[32m0.0\u001b[39m,\n",
       "    \u001b[32m0.0\u001b[39m,\n",
       "    \u001b[32m0.0\u001b[39m,\n",
       "    \u001b[32m0.3\u001b[39m,\n",
       "    \u001b[32m0.7\u001b[39m,\n",
       "    \u001b[32m0.5\u001b[39m,\n",
       "    \u001b[32m0.0\u001b[39m,\n",
       "    \u001b[32m0.0\u001b[39m,\n",
       "    \u001b[32m0.0\u001b[39m,\n",
       "    \u001b[33mOrElse\u001b[39m(\n",
       "      \u001b[33mOrElse\u001b[39m(\u001b[33mOrElse\u001b[39m(\u001b[33mOrElse\u001b[39m(<function1>, <function1>), <function1>), <function1>),\n",
       "      <function1>\n",
       "    )\n",
       "  ),\n",
       "  \u001b[32m1.0E-4\u001b[39m,\n",
       "  \u001b[32mNone\u001b[39m,\n",
       "  12 minutes,\n",
       "  \u001b[32m1.01\u001b[39m,\n",
       "...\n",
       "\u001b[32mimport \u001b[39m\u001b[36mHoTTMessages._\n",
       "\u001b[39m"
      ]
     },
     "execution_count": 3,
     "metadata": {},
     "output_type": "execute_result"
    }
   ],
   "source": [
    "import provingground._ , learning._, interface._, translation._, HoTT._\n",
    "import monix.execution.Scheduler.Implicits.global\n",
    "val A = Type.sym\n",
    "val B = Type.sym\n",
    "val MP = A ~>: (B ~>: (A ->: (A ->: B) ->: B))\n",
    "val ts = TermState(FiniteDistribution.unif(Type), FiniteDistribution.unif(Type))\n",
    "val tg = TermGenParams.zero.copy(appW = 0.1, unAppW = 0.1)\n",
    "val lp = LocalProver(ts, tg)\n",
    "import HoTTMessages._\n"
   ]
  },
  {
   "cell_type": "markdown",
   "metadata": {},
   "source": [
    "Next we post stuff. Note that this is still manual bot mode, but a session will only have a couple of useless triggers."
   ]
  },
  {
   "cell_type": "code",
   "execution_count": 4,
   "metadata": {},
   "outputs": [
    {
     "data": {
      "text/html": [
       "<div class=\"jp-RenderedText\">\n",
       "<pre><code><span style=\"color: rgb(0, 187, 187)\"><span class=\"ansi-cyan-fg\">web</span></span>: <span style=\"color: rgb(0, 187, 0)\"><span class=\"ansi-green-fg\">HoTTPostWeb</span></span> = provingground.learning.HoTTPostWeb@189fa825\n",
       "<span style=\"color: rgb(0, 187, 187)\"><span class=\"ansi-cyan-fg\">ws</span></span>: <span style=\"color: rgb(0, 187, 0)\"><span class=\"ansi-green-fg\">WebState</span></span>[<span style=\"color: rgb(0, 187, 0)\"><span class=\"ansi-green-fg\">HoTTPostWeb</span></span>, (<span style=\"color: rgb(0, 187, 0)\"><span class=\"ansi-green-fg\">Int</span></span>, <span style=\"color: rgb(0, 187, 0)\"><span class=\"ansi-green-fg\">Int</span></span>)] = <span style=\"color: yellow\"><span class=\"ansi-yellow-fg\">WebState</span></span>(\n",
       "  provingground.learning.HoTTPostWeb@189fa825,\n",
       "  <span style=\"color: yellow\"><span class=\"ansi-yellow-fg\">Vector</span></span>()\n",
       ")\n",
       "<span style=\"color: rgb(0, 187, 187)\"><span class=\"ansi-cyan-fg\">ws1</span></span>: <span style=\"color: rgb(0, 187, 0)\"><span class=\"ansi-green-fg\">concurrent</span></span>.<span style=\"color: rgb(0, 187, 0)\"><span class=\"ansi-green-fg\">Future</span></span>[<span style=\"color: rgb(0, 187, 0)\"><span class=\"ansi-green-fg\">WebState</span></span>[<span style=\"color: rgb(0, 187, 0)\"><span class=\"ansi-green-fg\">HoTTPostWeb</span></span>, (<span style=\"color: rgb(0, 187, 0)\"><span class=\"ansi-green-fg\">Int</span></span>, <span style=\"color: rgb(0, 187, 0)\"><span class=\"ansi-green-fg\">Int</span></span>)]] = <span style=\"color: rgb(0, 187, 0)\"><span class=\"ansi-green-fg\"><span style=\"color: yellow\"><span class=\"ansi-yellow-fg\">Success</span></span>(\n",
       "  <span style=\"color: yellow\"><span class=\"ansi-yellow-fg\">WebState</span></span>(\n",
       "    provingground.learning.HoTTPostWeb@189fa825,\n",
       "    <span style=\"color: yellow\"><span class=\"ansi-yellow-fg\">Vector</span></span>(\n",
       "      <span style=\"color: yellow\"><span class=\"ansi-yellow-fg\">PostData</span></span>(\n",
       "        <span style=\"color: yellow\"><span class=\"ansi-yellow-fg\">LocalProver</span></span>(\n",
       "          <span style=\"color: yellow\"><span class=\"ansi-yellow-fg\">TermState</span></span>(\n",
       "            <span style=\"color: yellow\"><span class=\"ansi-yellow-fg\">FiniteDistribution</span></span>(<span style=\"color: yellow\"><span class=\"ansi-yellow-fg\">Vector</span></span>(<span style=\"color: yellow\"><span class=\"ansi-yellow-fg\">Weighted</span></span>(<span style=\"color: rgb(0, 187, 0)\"><span class=\"ansi-green-fg\">𝒰 </span></span>, <span style=\"color: rgb(0, 187, 0)\"><span class=\"ansi-green-fg\">1.0</span></span>))),\n",
       "            <span style=\"color: yellow\"><span class=\"ansi-yellow-fg\">FiniteDistribution</span></span>(<span style=\"color: yellow\"><span class=\"ansi-yellow-fg\">Vector</span></span>(<span style=\"color: yellow\"><span class=\"ansi-yellow-fg\">Weighted</span></span>(<span style=\"color: rgb(0, 187, 0)\"><span class=\"ansi-green-fg\">𝒰 </span></span>, <span style=\"color: rgb(0, 187, 0)\"><span class=\"ansi-green-fg\">1.0</span></span>))),\n",
       "            <span style=\"color: yellow\"><span class=\"ansi-yellow-fg\">Vector</span></span>(),\n",
       "            <span style=\"color: yellow\"><span class=\"ansi-yellow-fg\">FiniteDistribution</span></span>(<span style=\"color: yellow\"><span class=\"ansi-yellow-fg\">Vector</span></span>()),\n",
       "            <span style=\"color: yellow\"><span class=\"ansi-yellow-fg\">FiniteDistribution</span></span>(<span style=\"color: yellow\"><span class=\"ansi-yellow-fg\">Vector</span></span>()),\n",
       "            Empty\n",
       "          ),\n",
       "          <span style=\"color: yellow\"><span class=\"ansi-yellow-fg\">TermGenParams</span></span>(\n",
       "            <span style=\"color: rgb(0, 187, 0)\"><span class=\"ansi-green-fg\">0.1</span></span>,\n",
       "            <span style=\"color: rgb(0, 187, 0)\"><span class=\"ansi-green-fg\">0.1</span></span>,\n",
       "            <span style=\"color: rgb(0, 187, 0)\"><span class=\"ansi-green-fg\">0.0</span></span>,\n",
       "            <span style=\"color: rgb(0, 187, 0)\"><span class=\"ansi-green-fg\">0.0</span></span>,\n",
       "            <span style=\"color: rgb(0, 187, 0)\"><span class=\"ansi-green-fg\">0.0</span></span>,\n",
       "            <span style=\"color: rgb(0, 187, 0)\"><span class=\"ansi-green-fg\">0.0</span></span>,\n",
       "            <span style=\"color: rgb(0, 187, 0)\"><span class=\"ansi-green-fg\">0.0</span></span>,\n",
       "            <span style=\"color: rgb(0, 187, 0)\"><span class=\"ansi-green-fg\">0.0</span></span>,\n",
       "            <span style=\"color: rgb(0, 187, 0)\"><span class=\"ansi-green-fg\">0.0</span></span>,\n",
       "            <span style=\"color: rgb(0, 187, 0)\"><span class=\"ansi-green-fg\">0.0</span></span>,\n",
       "            <span style=\"color: rgb(0, 187, 0)\"><span class=\"ansi-green-fg\">0.0</span></span>,\n",
       "            <span style=\"color: rgb(0, 187, 0)\"><span class=\"ansi-green-fg\">0.0</span></span>,\n",
       "            <span style=\"color: rgb(0, 187, 0)\"><span class=\"ansi-green-fg\">0.0</span></span>,\n",
       "            <span style=\"color: rgb(0, 187, 0)\"><span class=\"ansi-green-fg\">0.3</span></span>,\n",
       "            <span style=\"color: rgb(0, 187, 0)\"><span class=\"ansi-green-fg\">0.7</span></span>,\n",
       "            <span style=\"color: rgb(0, 187, 0)\"><span class=\"ansi-green-fg\">0.5</span></span>,\n",
       "            <span style=\"color: rgb(0, 187, 0)\"><span class=\"ansi-green-fg\">0.0</span></span>,\n",
       "            <span style=\"color: rgb(0, 187, 0)\"><span class=\"ansi-green-fg\">0.0</span></span>,\n",
       "            <span style=\"color: rgb(0, 187, 0)\"><span class=\"ansi-green-fg\">0.0</span></span>,\n",
       "            <span style=\"color: yellow\"><span class=\"ansi-yellow-fg\">OrElse</span></span>(\n",
       "              <span style=\"color: yellow\"><span class=\"ansi-yellow-fg\">OrElse</span></span>(\n",
       "                <span style=\"color: yellow\"><span class=\"ansi-yellow-fg\">OrElse</span></span>(<span style=\"color: yellow\"><span class=\"ansi-yellow-fg\">OrElse</span></span>(&lt;function1&gt;, &lt;function1&gt;), &lt;function1&gt;),\n",
       "                &lt;function1&gt;\n",
       "              ),\n",
       "...</span></span>\n",
       "<span style=\"color: rgb(0, 187, 187)\"><span class=\"ansi-cyan-fg\">ws2</span></span>: <span style=\"color: rgb(0, 187, 0)\"><span class=\"ansi-green-fg\">concurrent</span></span>.<span style=\"color: rgb(0, 187, 0)\"><span class=\"ansi-green-fg\">Future</span></span>[<span style=\"color: rgb(0, 187, 0)\"><span class=\"ansi-green-fg\">WebState</span></span>[<span style=\"color: rgb(0, 187, 0)\"><span class=\"ansi-green-fg\">HoTTPostWeb</span></span>, (<span style=\"color: rgb(0, 187, 0)\"><span class=\"ansi-green-fg\">Int</span></span>, <span style=\"color: rgb(0, 187, 0)\"><span class=\"ansi-green-fg\">Int</span></span>)]] = <span style=\"color: rgb(0, 187, 0)\"><span class=\"ansi-green-fg\"><style>@keyframes fadein { from { opacity: 0; } to { opacity: 1; } }</style><span style=\"animation: fadein 2s;\"><span style=\"color: yellow\"><span class=\"ansi-yellow-fg\">Success</span></span>(\n",
       "  <span style=\"color: yellow\"><span class=\"ansi-yellow-fg\">WebState</span></span>(\n",
       "    provingground.learning.HoTTPostWeb@189fa825,\n",
       "    <span style=\"color: yellow\"><span class=\"ansi-yellow-fg\">Vector</span></span>(\n",
       "      <span style=\"color: yellow\"><span class=\"ansi-yellow-fg\">PostData</span></span>(\n",
       "        <span style=\"color: yellow\"><span class=\"ansi-yellow-fg\">SeekGoal</span></span>(<span style=\"color: rgb(0, 187, 0)\"><span class=\"ansi-green-fg\">∏(A : 𝒰 ){ ∏(B : 𝒰 ){ (A → ((A → B) → B)) } }</span></span>, Empty, <span style=\"color: yellow\"><span class=\"ansi-yellow-fg\">Set</span></span>()),\n",
       "        (<span style=\"color: rgb(0, 187, 0)\"><span class=\"ansi-green-fg\">2</span></span>, <span style=\"color: rgb(0, 187, 0)\"><span class=\"ansi-green-fg\">260968439</span></span>)\n",
       "      ),\n",
       "      <span style=\"color: yellow\"><span class=\"ansi-yellow-fg\">PostData</span></span>(\n",
       "        <span style=\"color: yellow\"><span class=\"ansi-yellow-fg\">LocalProver</span></span>(\n",
       "          <span style=\"color: yellow\"><span class=\"ansi-yellow-fg\">TermState</span></span>(\n",
       "            <span style=\"color: yellow\"><span class=\"ansi-yellow-fg\">FiniteDistribution</span></span>(<span style=\"color: yellow\"><span class=\"ansi-yellow-fg\">Vector</span></span>(<span style=\"color: yellow\"><span class=\"ansi-yellow-fg\">Weighted</span></span>(<span style=\"color: rgb(0, 187, 0)\"><span class=\"ansi-green-fg\">𝒰 </span></span>, <span style=\"color: rgb(0, 187, 0)\"><span class=\"ansi-green-fg\">1.0</span></span>))),\n",
       "            <span style=\"color: yellow\"><span class=\"ansi-yellow-fg\">FiniteDistribution</span></span>(<span style=\"color: yellow\"><span class=\"ansi-yellow-fg\">Vector</span></span>(<span style=\"color: yellow\"><span class=\"ansi-yellow-fg\">Weighted</span></span>(<span style=\"color: rgb(0, 187, 0)\"><span class=\"ansi-green-fg\">𝒰 </span></span>, <span style=\"color: rgb(0, 187, 0)\"><span class=\"ansi-green-fg\">1.0</span></span>))),\n",
       "            <span style=\"color: yellow\"><span class=\"ansi-yellow-fg\">Vector</span></span>(),\n",
       "            <span style=\"color: yellow\"><span class=\"ansi-yellow-fg\">FiniteDistribution</span></span>(<span style=\"color: yellow\"><span class=\"ansi-yellow-fg\">Vector</span></span>()),\n",
       "            <span style=\"color: yellow\"><span class=\"ansi-yellow-fg\">FiniteDistribution</span></span>(<span style=\"color: yellow\"><span class=\"ansi-yellow-fg\">Vector</span></span>()),\n",
       "            Empty\n",
       "          ),\n",
       "          <span style=\"color: yellow\"><span class=\"ansi-yellow-fg\">TermGenParams</span></span>(\n",
       "            <span style=\"color: rgb(0, 187, 0)\"><span class=\"ansi-green-fg\">0.1</span></span>,\n",
       "            <span style=\"color: rgb(0, 187, 0)\"><span class=\"ansi-green-fg\">0.1</span></span>,\n",
       "            <span style=\"color: rgb(0, 187, 0)\"><span class=\"ansi-green-fg\">0.0</span></span>,\n",
       "            <span style=\"color: rgb(0, 187, 0)\"><span class=\"ansi-green-fg\">0.0</span></span>,\n",
       "            <span style=\"color: rgb(0, 187, 0)\"><span class=\"ansi-green-fg\">0.0</span></span>,\n",
       "            <span style=\"color: rgb(0, 187, 0)\"><span class=\"ansi-green-fg\">0.0</span></span>,\n",
       "            <span style=\"color: rgb(0, 187, 0)\"><span class=\"ansi-green-fg\">0.0</span></span>,\n",
       "            <span style=\"color: rgb(0, 187, 0)\"><span class=\"ansi-green-fg\">0.0</span></span>,\n",
       "            <span style=\"color: rgb(0, 187, 0)\"><span class=\"ansi-green-fg\">0.0</span></span>,\n",
       "            <span style=\"color: rgb(0, 187, 0)\"><span class=\"ansi-green-fg\">0.0</span></span>,\n",
       "            <span style=\"color: rgb(0, 187, 0)\"><span class=\"ansi-green-fg\">0.0</span></span>,\n",
       "            <span style=\"color: rgb(0, 187, 0)\"><span class=\"ansi-green-fg\">0.0</span></span>,\n",
       "            <span style=\"color: rgb(0, 187, 0)\"><span class=\"ansi-green-fg\">0.0</span></span>,\n",
       "            <span style=\"color: rgb(0, 187, 0)\"><span class=\"ansi-green-fg\">0.3</span></span>,\n",
       "            <span style=\"color: rgb(0, 187, 0)\"><span class=\"ansi-green-fg\">0.7</span></span>,\n",
       "            <span style=\"color: rgb(0, 187, 0)\"><span class=\"ansi-green-fg\">0.5</span></span>,\n",
       "            <span style=\"color: rgb(0, 187, 0)\"><span class=\"ansi-green-fg\">0.0</span></span>,\n",
       "            <span style=\"color: rgb(0, 187, 0)\"><span class=\"ansi-green-fg\">0.0</span></span>,\n",
       "            <span style=\"color: rgb(0, 187, 0)\"><span class=\"ansi-green-fg\">0.0</span></span>,\n",
       "            <span style=\"color: yellow\"><span class=\"ansi-yellow-fg\">OrElse</span></span>(\n",
       "...</span></span></span></code></pre>\n",
       "</div>"
      ],
      "text/plain": [
       "\u001b[36mweb\u001b[39m: \u001b[32mHoTTPostWeb\u001b[39m = provingground.learning.HoTTPostWeb@189fa825\n",
       "\u001b[36mws\u001b[39m: \u001b[32mWebState\u001b[39m[\u001b[32mHoTTPostWeb\u001b[39m, (\u001b[32mInt\u001b[39m, \u001b[32mInt\u001b[39m)] = \u001b[33mWebState\u001b[39m(\n",
       "  provingground.learning.HoTTPostWeb@189fa825,\n",
       "  \u001b[33mVector\u001b[39m()\n",
       ")\n",
       "\u001b[36mws1\u001b[39m: \u001b[32mconcurrent\u001b[39m.\u001b[32mFuture\u001b[39m[\u001b[32mWebState\u001b[39m[\u001b[32mHoTTPostWeb\u001b[39m, (\u001b[32mInt\u001b[39m, \u001b[32mInt\u001b[39m)]] = \u001b[32m\u001b[33mSuccess\u001b[39m(\n",
       "  \u001b[33mWebState\u001b[39m(\n",
       "    provingground.learning.HoTTPostWeb@189fa825,\n",
       "    \u001b[33mVector\u001b[39m(\n",
       "      \u001b[33mPostData\u001b[39m(\n",
       "        \u001b[33mLocalProver\u001b[39m(\n",
       "          \u001b[33mTermState\u001b[39m(\n",
       "            \u001b[33mFiniteDistribution\u001b[39m(\u001b[33mVector\u001b[39m(\u001b[33mWeighted\u001b[39m(\u001b[32m𝒰 \u001b[39m, \u001b[32m1.0\u001b[39m))),\n",
       "            \u001b[33mFiniteDistribution\u001b[39m(\u001b[33mVector\u001b[39m(\u001b[33mWeighted\u001b[39m(\u001b[32m𝒰 \u001b[39m, \u001b[32m1.0\u001b[39m))),\n",
       "            \u001b[33mVector\u001b[39m(),\n",
       "            \u001b[33mFiniteDistribution\u001b[39m(\u001b[33mVector\u001b[39m()),\n",
       "            \u001b[33mFiniteDistribution\u001b[39m(\u001b[33mVector\u001b[39m()),\n",
       "            Empty\n",
       "          ),\n",
       "          \u001b[33mTermGenParams\u001b[39m(\n",
       "            \u001b[32m0.1\u001b[39m,\n",
       "            \u001b[32m0.1\u001b[39m,\n",
       "            \u001b[32m0.0\u001b[39m,\n",
       "            \u001b[32m0.0\u001b[39m,\n",
       "            \u001b[32m0.0\u001b[39m,\n",
       "            \u001b[32m0.0\u001b[39m,\n",
       "            \u001b[32m0.0\u001b[39m,\n",
       "            \u001b[32m0.0\u001b[39m,\n",
       "            \u001b[32m0.0\u001b[39m,\n",
       "            \u001b[32m0.0\u001b[39m,\n",
       "            \u001b[32m0.0\u001b[39m,\n",
       "            \u001b[32m0.0\u001b[39m,\n",
       "            \u001b[32m0.0\u001b[39m,\n",
       "            \u001b[32m0.3\u001b[39m,\n",
       "            \u001b[32m0.7\u001b[39m,\n",
       "            \u001b[32m0.5\u001b[39m,\n",
       "            \u001b[32m0.0\u001b[39m,\n",
       "            \u001b[32m0.0\u001b[39m,\n",
       "            \u001b[32m0.0\u001b[39m,\n",
       "            \u001b[33mOrElse\u001b[39m(\n",
       "              \u001b[33mOrElse\u001b[39m(\n",
       "                \u001b[33mOrElse\u001b[39m(\u001b[33mOrElse\u001b[39m(<function1>, <function1>), <function1>),\n",
       "                <function1>\n",
       "              ),\n",
       "...\u001b[39m\n",
       "\u001b[36mws2\u001b[39m: \u001b[32mconcurrent\u001b[39m.\u001b[32mFuture\u001b[39m[\u001b[32mWebState\u001b[39m[\u001b[32mHoTTPostWeb\u001b[39m, (\u001b[32mInt\u001b[39m, \u001b[32mInt\u001b[39m)]] = \u001b[32m\u001b[33mSuccess\u001b[39m(\n",
       "  \u001b[33mWebState\u001b[39m(\n",
       "    provingground.learning.HoTTPostWeb@189fa825,\n",
       "    \u001b[33mVector\u001b[39m(\n",
       "      \u001b[33mPostData\u001b[39m(\n",
       "        \u001b[33mSeekGoal\u001b[39m(\u001b[32m∏(A : 𝒰 ){ ∏(B : 𝒰 ){ (A → ((A → B) → B)) } }\u001b[39m, Empty, \u001b[33mSet\u001b[39m()),\n",
       "        (\u001b[32m2\u001b[39m, \u001b[32m260968439\u001b[39m)\n",
       "      ),\n",
       "      \u001b[33mPostData\u001b[39m(\n",
       "        \u001b[33mLocalProver\u001b[39m(\n",
       "          \u001b[33mTermState\u001b[39m(\n",
       "            \u001b[33mFiniteDistribution\u001b[39m(\u001b[33mVector\u001b[39m(\u001b[33mWeighted\u001b[39m(\u001b[32m𝒰 \u001b[39m, \u001b[32m1.0\u001b[39m))),\n",
       "            \u001b[33mFiniteDistribution\u001b[39m(\u001b[33mVector\u001b[39m(\u001b[33mWeighted\u001b[39m(\u001b[32m𝒰 \u001b[39m, \u001b[32m1.0\u001b[39m))),\n",
       "            \u001b[33mVector\u001b[39m(),\n",
       "            \u001b[33mFiniteDistribution\u001b[39m(\u001b[33mVector\u001b[39m()),\n",
       "            \u001b[33mFiniteDistribution\u001b[39m(\u001b[33mVector\u001b[39m()),\n",
       "            Empty\n",
       "          ),\n",
       "          \u001b[33mTermGenParams\u001b[39m(\n",
       "            \u001b[32m0.1\u001b[39m,\n",
       "            \u001b[32m0.1\u001b[39m,\n",
       "            \u001b[32m0.0\u001b[39m,\n",
       "            \u001b[32m0.0\u001b[39m,\n",
       "            \u001b[32m0.0\u001b[39m,\n",
       "            \u001b[32m0.0\u001b[39m,\n",
       "            \u001b[32m0.0\u001b[39m,\n",
       "            \u001b[32m0.0\u001b[39m,\n",
       "            \u001b[32m0.0\u001b[39m,\n",
       "            \u001b[32m0.0\u001b[39m,\n",
       "            \u001b[32m0.0\u001b[39m,\n",
       "            \u001b[32m0.0\u001b[39m,\n",
       "            \u001b[32m0.0\u001b[39m,\n",
       "            \u001b[32m0.3\u001b[39m,\n",
       "            \u001b[32m0.7\u001b[39m,\n",
       "            \u001b[32m0.5\u001b[39m,\n",
       "            \u001b[32m0.0\u001b[39m,\n",
       "            \u001b[32m0.0\u001b[39m,\n",
       "            \u001b[32m0.0\u001b[39m,\n",
       "            \u001b[33mOrElse\u001b[39m(\n",
       "...\u001b[39m"
      ]
     },
     "metadata": {},
     "output_type": "display_data"
    }
   ],
   "source": [
    "val web = new HoTTPostWeb()\n",
    "val ws = WebState[HoTTPostWeb, HoTTPostWeb.ID](web)\n",
    "val ws1 = ws.post(lp, Set())\n",
    "val ws2 = ws1.flatMap(w => w.postApex(SeekGoal(MP, Context.Empty)))\n"
   ]
  },
  {
   "cell_type": "code",
   "execution_count": 5,
   "metadata": {},
   "outputs": [
    {
     "data": {
      "text/html": [
       "<div class=\"jp-RenderedText\">\n",
       "<pre><code><span style=\"color: rgb(0, 187, 0)\"><span class=\"ansi-green-fg\">import </span></span><span style=\"color: rgb(0, 187, 187)\"><span class=\"ansi-cyan-fg\">HoTTBot._\n",
       "</span></span>\n",
       "<span style=\"color: rgb(0, 187, 187)\"><span class=\"ansi-cyan-fg\">sessF</span></span>: <span style=\"color: rgb(0, 187, 0)\"><span class=\"ansi-green-fg\">concurrent</span></span>.<span style=\"color: rgb(0, 187, 0)\"><span class=\"ansi-green-fg\">Future</span></span>[<span style=\"color: rgb(0, 187, 0)\"><span class=\"ansi-green-fg\">HoTTWebSession</span></span>] = <span style=\"color: rgb(0, 187, 0)\"><span class=\"ansi-green-fg\"><style>@keyframes fadein { from { opacity: 0; } to { opacity: 1; } }</style><span style=\"animation: fadein 2s;\"><span style=\"color: yellow\"><span class=\"ansi-yellow-fg\">Success</span></span>(provingground.learning.HoTTWebSession@768faa7a)</span></span></span></code></pre>\n",
       "</div>"
      ],
      "text/plain": [
       "\u001b[32mimport \u001b[39m\u001b[36mHoTTBot._\n",
       "\u001b[39m\n",
       "\u001b[36msessF\u001b[39m: \u001b[32mconcurrent\u001b[39m.\u001b[32mFuture\u001b[39m[\u001b[32mHoTTWebSession\u001b[39m] = \u001b[32m\u001b[33mSuccess\u001b[39m(provingground.learning.HoTTWebSession@768faa7a)\u001b[39m"
      ]
     },
     "metadata": {},
     "output_type": "display_data"
    }
   ],
   "source": [
    "import HoTTBot._\n",
    "val sessF = ws2.map(w => HoTTWebSession.launch(w, Vector(fullGoalInContext , goalToProver(0.3, 0.7), lpToFinalState, reportSuccesses)))\n"
   ]
  },
  {
   "cell_type": "code",
   "execution_count": 6,
   "metadata": {},
   "outputs": [
    {
     "data": {
      "text/plain": [
       "\u001b[36mres5\u001b[39m: \u001b[32mString\u001b[39m = \u001b[32mSuccess: Vector(((``A : 𝒰 _0 ) ~> ((``B : 𝒰 _0 ) ~> ((`$a : ``A ) ~> ((`$b : (``A) → (``B) ) ~> (``B)))),1.0,[(``A :  𝒰 _0) ↦ ((``B :  𝒰 _0) ↦ ((``$a :  ``A) ↦ ((```$b :  (``A) → (``B)) ↦ ((```$b) (``$a))))) : 0.2]))\u001b[39m"
      ]
     },
     "execution_count": 6,
     "metadata": {},
     "output_type": "execute_result"
    }
   ],
   "source": [
    "Utils.reportText"
   ]
  },
  {
   "cell_type": "markdown",
   "metadata": {},
   "source": [
    "## Conclusions\n",
    "\n",
    "* Modus Ponens was easily proved by introducing variables.\n",
    "* We could successfully blend manual setup with bots running."
   ]
  }
 ],
 "metadata": {
  "kernelspec": {
   "display_name": "Scala",
   "language": "scala",
   "name": "scala"
  },
  "language_info": {
   "codemirror_mode": "text/x-scala",
   "file_extension": ".scala",
   "mimetype": "text/x-scala",
   "name": "scala",
   "nbconvert_exporter": "script",
   "version": "2.12.9"
  }
 },
 "nbformat": 4,
 "nbformat_minor": 4
}
